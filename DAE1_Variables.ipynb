{
 "cells": [
  {
   "cell_type": "markdown",
   "metadata": {},
   "source": [
    "# DAE 1 Variables and Measurement\n",
    "\n",
    "author:\n",
    "- |\n",
    "    Sofia Dahl, sof@create.aau.dk\\\n",
    "    Dept. Architecture, Design and Media Technology, Aalborg University Copenhagen\n",
    "---\n",
    "\n",
    "## Learning Goals\n",
    "After working your way through this notebook you should be able to..\n",
    "\n",
    "- Explain what is meant by \n",
    "  + Independent variable\n",
    "  + Dependent variable\n",
    "- Give examples of different measurement scales\n",
    "- Discuss sensitivity of measurement \n",
    "\n",
    "  \n",
    "\n",
    "## Table of Contents\n",
    "\n",
    "- [1. Variables](#Variables)\n",
    "    - [1.1 Manipulating Variables](#Manipulating)\n",
    "- [2. Measurement Scales](#Scales)\n",
    "- [3. Sensitivity](#Sensitivity)\n"
   ]
  },
  {
   "cell_type": "code",
   "execution_count": 1,
   "metadata": {},
   "outputs": [],
   "source": [
    "%matplotlib inline\n",
    "import numpy as np\n",
    "import pandas as pd\n",
    "import matplotlib.pyplot as plt"
   ]
  },
  {
   "cell_type": "markdown",
   "metadata": {},
   "source": [
    "<a id= 'Variables'> </a>"
   ]
  },
  {
   "cell_type": "markdown",
   "metadata": {},
   "source": [
    "\n",
    "## 1 Variables \n",
    "\n",
    "A variable is something that can take at lease two values. It can be pretty much anything: the number of times one goes out the door during a day; how fast a player can go through a puzzle game; or what users rate a product that is tested. \n",
    "\n",
    "We tend to be interested in such things because they can help us to answer our research questions. Which, in turn, could be: \"Does it have an effect if the queen is telling us to stay in or not?\"; \" Can sound effects help players solve a puzzle game more efficiently?\"; \" Do users prefer our product to another?\"\n",
    "\n"
   ]
  },
  {
   "cell_type": "markdown",
   "metadata": {},
   "source": [
    "<a id= 'Manipulating'> </a>"
   ]
  },
  {
   "cell_type": "markdown",
   "metadata": {},
   "source": [
    "\n",
    "### 1.1 Manipulating Variables\n",
    "\n",
    "The previous examples of research questions all concern whether two variables are *related* in some way. That is, does A have an effect on B? \n",
    "To answer our question we collect data on variables A and B and see if there is a relationship between them. We can for example do this by observations, or correlating the variables. But to be completely sure that indeed A has an effect on B we need to set up experiments where we *manipulate* A and measure B. If B changes when nothing but A is altered, we can (with some confidence) say that A has an effect on B. This is the essence of an experiment: manipulating only one variable, keeping everything else constant, and then measuring the effect. \n",
    "\n",
    "The *INDEPENDENT* variable is something that is controlled and manipulated\n",
    "by the experimenter in order to create different conditions for the\n",
    "experiment. The aim is to see if there if these manipulations have an\n",
    "effect on the *DEPENDENT* variable (which is the one to be measured).\n"
   ]
  },
  {
   "cell_type": "code",
   "execution_count": 2,
   "metadata": {},
   "outputs": [
    {
     "data": {
      "text/plain": [
       "Text(0, 0.5, 'B (Dependent variable)')"
      ]
     },
     "execution_count": 2,
     "metadata": {},
     "output_type": "execute_result"
    },
    {
     "data": {
      "image/png": "[encoded data removed]",
      "text/plain": [
       "<Figure size 432x288 with 1 Axes>"
      ]
     },
     "metadata": {
      "needs_background": "light"
     },
     "output_type": "display_data"
    }
   ],
   "source": [
    "#Let's assume we have a variable A\n",
    "# we can generate an array \n",
    "A=np.array([3,5,11,17,25,27])\n",
    "\n",
    "#And if B is a dependent variable there may be a relationship between the two\n",
    "B=2*A\n",
    "\n",
    "\n",
    "plt.plot(A,B, 'r*')\n",
    "\n",
    "plt.xlabel('A (Independent variable)')\n",
    "plt.ylabel('B (Dependent variable)')"
   ]
  },
  {
   "cell_type": "markdown",
   "metadata": {},
   "source": [
    "### Try out 1: \n",
    "Now specify another variable"
   ]
  },
  {
   "cell_type": "code",
   "execution_count": 5,
   "metadata": {},
   "outputs": [],
   "source": [
    "#TRY OUT: \n",
    "#specify a variable C= A+ 20 and plot this vs. A\n",
    "\n",
    "C=\n",
    "plt.plot(A,C, 'b+')"
   ]
  },
  {
   "cell_type": "code",
   "execution_count": 39,
   "metadata": {},
   "outputs": [
    {
     "data": {
      "text/plain": [
       "array([[ 3,  5, 11, 17, 25, 27],\n",
       "       [ 6, 10, 22, 34, 50, 54],\n",
       "       [23, 25, 31, 37, 45, 47]])"
      ]
     },
     "execution_count": 39,
     "metadata": {},
     "output_type": "execute_result"
    }
   ],
   "source": [
    "# We can combine our variables into a 2D array\n",
    "array=np.array([A,B,C])\n",
    "array"
   ]
  },
  {
   "cell_type": "code",
   "execution_count": 51,
   "metadata": {},
   "outputs": [
    {
     "data": {
      "text/html": [
       "<div>\n",
       "<style scoped>\n",
       "    .dataframe tbody tr th:only-of-type {\n",
       "        vertical-align: middle;\n",
       "    }\n",
       "\n",
       "    .dataframe tbody tr th {\n",
       "        vertical-align: top;\n",
       "    }\n",
       "\n",
       "    .dataframe thead th {\n",
       "        text-align: right;\n",
       "    }\n",
       "</style>\n",
       "<table border=\"1\" class=\"dataframe\">\n",
       "  <thead>\n",
       "    <tr style=\"text-align: right;\">\n",
       "      <th></th>\n",
       "      <th>A</th>\n",
       "      <th>B</th>\n",
       "      <th>C</th>\n",
       "    </tr>\n",
       "  </thead>\n",
       "  <tbody>\n",
       "    <tr>\n",
       "      <th>1</th>\n",
       "      <td>3</td>\n",
       "      <td>6</td>\n",
       "      <td>23</td>\n",
       "    </tr>\n",
       "    <tr>\n",
       "      <th>2</th>\n",
       "      <td>5</td>\n",
       "      <td>10</td>\n",
       "      <td>25</td>\n",
       "    </tr>\n",
       "    <tr>\n",
       "      <th>3</th>\n",
       "      <td>11</td>\n",
       "      <td>22</td>\n",
       "      <td>31</td>\n",
       "    </tr>\n",
       "    <tr>\n",
       "      <th>4</th>\n",
       "      <td>17</td>\n",
       "      <td>34</td>\n",
       "      <td>37</td>\n",
       "    </tr>\n",
       "    <tr>\n",
       "      <th>5</th>\n",
       "      <td>25</td>\n",
       "      <td>50</td>\n",
       "      <td>45</td>\n",
       "    </tr>\n",
       "    <tr>\n",
       "      <th>6</th>\n",
       "      <td>27</td>\n",
       "      <td>54</td>\n",
       "      <td>47</td>\n",
       "    </tr>\n",
       "  </tbody>\n",
       "</table>\n",
       "</div>"
      ],
      "text/plain": [
       "    A   B   C\n",
       "1   3   6  23\n",
       "2   5  10  25\n",
       "3  11  22  31\n",
       "4  17  34  37\n",
       "5  25  50  45\n",
       "6  27  54  47"
      ]
     },
     "execution_count": 51,
     "metadata": {},
     "output_type": "execute_result"
    }
   ],
   "source": [
    "#But more convenient for statistical analysis is to have the variables in a DATA FRAME\n",
    "df = pd.DataFrame(array.T, columns=([\"A\",\"B\",\"C\"]), index=[1,2,3,4,5,6])\n",
    "df"
   ]
  },
  {
   "cell_type": "code",
   "execution_count": 53,
   "metadata": {},
   "outputs": [
    {
     "data": {
      "text/html": [
       "<div>\n",
       "<style scoped>\n",
       "    .dataframe tbody tr th:only-of-type {\n",
       "        vertical-align: middle;\n",
       "    }\n",
       "\n",
       "    .dataframe tbody tr th {\n",
       "        vertical-align: top;\n",
       "    }\n",
       "\n",
       "    .dataframe thead th {\n",
       "        text-align: right;\n",
       "    }\n",
       "</style>\n",
       "<table border=\"1\" class=\"dataframe\">\n",
       "  <thead>\n",
       "    <tr style=\"text-align: right;\">\n",
       "      <th></th>\n",
       "      <th>A</th>\n",
       "      <th>B</th>\n",
       "      <th>C</th>\n",
       "    </tr>\n",
       "  </thead>\n",
       "  <tbody>\n",
       "    <tr>\n",
       "      <th>count</th>\n",
       "      <td>6.000000</td>\n",
       "      <td>6.000000</td>\n",
       "      <td>6.000000</td>\n",
       "    </tr>\n",
       "    <tr>\n",
       "      <th>mean</th>\n",
       "      <td>14.666667</td>\n",
       "      <td>29.333333</td>\n",
       "      <td>34.666667</td>\n",
       "    </tr>\n",
       "    <tr>\n",
       "      <th>std</th>\n",
       "      <td>10.073066</td>\n",
       "      <td>20.146133</td>\n",
       "      <td>10.073066</td>\n",
       "    </tr>\n",
       "    <tr>\n",
       "      <th>min</th>\n",
       "      <td>3.000000</td>\n",
       "      <td>6.000000</td>\n",
       "      <td>23.000000</td>\n",
       "    </tr>\n",
       "    <tr>\n",
       "      <th>25%</th>\n",
       "      <td>6.500000</td>\n",
       "      <td>13.000000</td>\n",
       "      <td>26.500000</td>\n",
       "    </tr>\n",
       "    <tr>\n",
       "      <th>50%</th>\n",
       "      <td>14.000000</td>\n",
       "      <td>28.000000</td>\n",
       "      <td>34.000000</td>\n",
       "    </tr>\n",
       "    <tr>\n",
       "      <th>75%</th>\n",
       "      <td>23.000000</td>\n",
       "      <td>46.000000</td>\n",
       "      <td>43.000000</td>\n",
       "    </tr>\n",
       "    <tr>\n",
       "      <th>max</th>\n",
       "      <td>27.000000</td>\n",
       "      <td>54.000000</td>\n",
       "      <td>47.000000</td>\n",
       "    </tr>\n",
       "  </tbody>\n",
       "</table>\n",
       "</div>"
      ],
      "text/plain": [
       "               A          B          C\n",
       "count   6.000000   6.000000   6.000000\n",
       "mean   14.666667  29.333333  34.666667\n",
       "std    10.073066  20.146133  10.073066\n",
       "min     3.000000   6.000000  23.000000\n",
       "25%     6.500000  13.000000  26.500000\n",
       "50%    14.000000  28.000000  34.000000\n",
       "75%    23.000000  46.000000  43.000000\n",
       "max    27.000000  54.000000  47.000000"
      ]
     },
     "execution_count": 53,
     "metadata": {},
     "output_type": "execute_result"
    }
   ],
   "source": [
    "#and this also allow some quick diagnostics\n",
    "df.describe()"
   ]
  },
  {
   "cell_type": "markdown",
   "metadata": {},
   "source": [
    "<a id= 'Scales'> </a>"
   ]
  },
  {
   "cell_type": "markdown",
   "metadata": {},
   "source": [
    "## 2. Measurement Scales\n",
    "\n",
    "The dependent variable can be measured using different scales. The data\n",
    "collected can be numerical or categorical, and different kinds of\n",
    "measurement scales calls for different kinds of analysis methods. That\n",
    "is, depending on the question one might be more suitable to use than the\n",
    "other.\n",
    "\n",
    "*Nominal:*   When there is not a natural ordering of the categories. Examples\n",
    "    might be categorization of gender, race, religion, or type of sport.\n",
    "\n",
    "*Ordinal:*   When the categories can be ordered. Categorical variables that judge\n",
    "    size (small, medium, large, etc.) are ordinal variables. However,\n",
    "    the difference between small and medium is not necessarily the same\n",
    "    as the difference between medium and large.\n",
    "\n",
    "*Interval:*   In an interval scale, the numbers are meaningful. That is, the\n",
    "    difference between scale values are equidistant. However, zero is by\n",
    "    convention and *doubling* is not really meaningful (50 degrees Celcius\n",
    "    is not half as hot as 100 degrees Celsius and 0 degrees).\n",
    "\n",
    "*Ratio:*   A scale that has a meaningful zero value (e.g. 0 kg as in no mass) and equidistant measure:\n",
    "    doubling principle (10 yrs is twice as old than 5 yr). "
   ]
  },
  {
   "cell_type": "code",
   "execution_count": 81,
   "metadata": {},
   "outputs": [
    {
     "data": {
      "text/plain": [
       "(array([47.,  0.,  0.,  0.,  0.,  0.,  0.,  0.,  0., 53.]),\n",
       " array([0. , 0.1, 0.2, 0.3, 0.4, 0.5, 0.6, 0.7, 0.8, 0.9, 1. ]),\n",
       " <a list of 10 Patch objects>)"
      ]
     },
     "execution_count": 81,
     "metadata": {},
     "output_type": "execute_result"
    },
    {
     "data": {
      "image/png": "[encoded data removed]",
      "text/plain": [
       "<Figure size 432x288 with 1 Axes>"
      ]
     },
     "metadata": {
      "needs_background": "light"
     },
     "output_type": "display_data"
    }
   ],
   "source": [
    "# For instance, selecting between one or another version, registering gender (male/female) and\n",
    "# flipping a coin are all examples nominal measurement scales. There is no natural ordering and no in-between the categories. \n",
    "\n",
    "# We can see this by simulating N=100 coin flips \n",
    "score=np.random.randint(2, size=100) #generate vector with scores\n",
    "\n",
    "#and plot the histogram\n",
    "plt.hist(score)\n"
   ]
  },
  {
   "cell_type": "code",
   "execution_count": 82,
   "metadata": {},
   "outputs": [
    {
     "data": {
      "text/plain": [
       "53"
      ]
     },
     "execution_count": 82,
     "metadata": {},
     "output_type": "execute_result"
    }
   ],
   "source": [
    "#BUT, if we count the number of heads in each 100 tosses and obtain the total number of heads, we use another measurement scale\n",
    "\n",
    "sum(score) #this is ratio scale\n"
   ]
  },
  {
   "cell_type": "code",
   "execution_count": 86,
   "metadata": {},
   "outputs": [
    {
     "data": {
      "text/plain": [
       "Text(0.5, 0, 'number of heads')"
      ]
     },
     "execution_count": 86,
     "metadata": {},
     "output_type": "execute_result"
    },
    {
     "data": {
      "image/png": "[encoded data removed]",
      "text/plain": [
       "<Figure size 432x288 with 1 Axes>"
      ]
     },
     "metadata": {
      "needs_background": "light"
     },
     "output_type": "display_data"
    }
   ],
   "source": [
    "#Note that even if we expect that both categories are approximately equal, the sum of heads vary slightly.\n",
    "#If we draw a lot of samples, however, we should see them centered around the expected 50-50\n",
    "\n",
    "#We can repeat this a number of times with different number of throws (N)\n",
    "K=1000 #how many samples we collect\n",
    "N=[100] #sample size\n",
    "\n",
    "meanarr=np.zeros(K, float)\n",
    "\n",
    "for i in range(0,len(N)):\n",
    "    for j in range(0,K):\n",
    "       score=np.random.randint(2, size=N) #generate vector with scores\n",
    "       meanarr[j]=sum(score)# calculate the frequency of heads for K=j  \n",
    "    count, bins, ignored =plt.hist(meanarr, density=True) #plot histogram with K means\n",
    "\n",
    "plt.ylabel('occurrences')\n",
    "plt.xlabel('number of heads')\n"
   ]
  },
  {
   "cell_type": "markdown",
   "metadata": {},
   "source": [
    "### Try out 2: \n",
    "What measurement scale is used here?\n",
    "\n",
    "![](Generalstab-der-US-Army.jpg \"Title\")"
   ]
  },
  {
   "cell_type": "markdown",
   "metadata": {},
   "source": [
    "In order to answer this, you need to consider the following:\n",
    "- Does the total number of stars mean an ordering high - low?\n",
    "- If yes, can you be sure that the difference between one and two stars is the same as between four and five stars?\n"
   ]
  },
  {
   "cell_type": "markdown",
   "metadata": {},
   "source": [
    "<a id= 'Sensitivity'> </a>"
   ]
  },
  {
   "cell_type": "markdown",
   "metadata": {},
   "source": [
    "## 3 Sensitivity\n",
    "\n",
    "There a difference of asking\n",
    "\n",
    "*Did you like this product? (Select one)*\n",
    "\n",
    "<YES / NO >\n",
    "\n",
    "or \n",
    "\n",
    "*To what degree did you like this product? (put a cross on the scale)*\n",
    "\n",
    "Not at all<------------------------------> Very much\n",
    "\n",
    "\n",
    "While the first option is categorical, the second (if done on paper or with an online slider) is continuous. \n",
    "Thus, the different measures apply different measurement scales, and they also have different *sensitivity*.\n",
    "The second way of asking, will give you more detailed information on the degree the product is successful.\n",
    "\n",
    "\n"
   ]
  },
  {
   "cell_type": "markdown",
   "metadata": {},
   "source": [
    "### Try out 3: \n",
    "Compare the above examples to the commonly used way to rate experience that is used in here (in Microsoft Teams). What measurement scale is used? How is the sensitivity compared to other scales that could be used?\n",
    "\n",
    "\n",
    "![](CallQuality.png \"Title\")"
   ]
  }
 ],
 "metadata": {
  "kernelspec": {
   "display_name": "Python 3",
   "language": "python",
   "name": "python3"
  },
  "language_info": {
   "codemirror_mode": {
    "name": "ipython",
    "version": 3
   },
   "file_extension": ".py",
   "mimetype": "text/x-python",
   "name": "python",
   "nbconvert_exporter": "python",
   "pygments_lexer": "ipython3",
   "version": "3.7.3"
  }
 },
 "nbformat": 4,
 "nbformat_minor": 4
}
