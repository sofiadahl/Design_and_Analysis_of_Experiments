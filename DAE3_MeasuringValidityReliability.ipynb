{
 "cells": [
  {
   "cell_type": "markdown",
   "metadata": {
    "id": "sPscppoC0--f"
   },
   "source": [
    "# DAE 3 Measuring Validity and Reliability\n",
    "\n",
    "Author:\n",
    "- |\n",
    "    Sofia Dahl, sof@create.aau.dk\\\n",
    "    Dept. Architecture, Design and Media Technology, Aalborg University Copenhagen\n",
    "---\n",
    "\n",
    "## Learning Goals\n",
    "After working your way through this notebook you should be able to..\n",
    "\n",
    "- Give examples of operational definitions\n",
    "- Explain \n",
    "  + Reliability\n",
    "  + Validity\n",
    "- Explain the concept of a Likert scale\n",
    "- Explain concept of an operational definition\n",
    "\n",
    "\n",
    "## Table of Contents\n",
    "- [1. Knowing what we measure](#Measuring)\n",
    "    - [1.1 Operational Definition](#Operational)\n",
    "- [2. Reliability and validity](#Reliability)\n",
    "    - [2.1 Measurement Error and Reliability](#Error)\n",
    "    - [2.2 Internal and External Validity](#Validity)\n",
    "- [3. Likert Items and Scales](#Likert)"
   ]
  },
  {
   "cell_type": "code",
   "execution_count": 2,
   "metadata": {
    "executionInfo": {
     "elapsed": 1804,
     "status": "ok",
     "timestamp": 1620208124162,
     "user": {
      "displayName": "",
      "photoUrl": "",
      "userId": ""
     },
     "user_tz": -120
    },
    "id": "joBe11xy0--o"
   },
   "outputs": [],
   "source": [
    "%matplotlib inline\n",
    "import numpy as np\n",
    "import pandas as pd\n",
    "import matplotlib.pyplot as plt"
   ]
  },
  {
   "cell_type": "markdown",
   "metadata": {
    "id": "00WWs2Et0--p"
   },
   "source": [
    "<a id= 'Measuring'> </a>"
   ]
  },
  {
   "cell_type": "markdown",
   "metadata": {
    "id": "Vu1UP8ch0--q"
   },
   "source": [
    "## 1. Knowing what we measure\n",
    "\n",
    "It is not enough to measure, we also need to know that our measure reflects the right thing.\n",
    "\n",
    "Before you ask a participant:\n",
    "\n",
    "*Are you a musician?*\n",
    "<YES/NO>\n",
    "\n",
    "You have better be sure that this is the information that is of interest to you.\n",
    "Perhaps you ask this because you're interested in understanding whether participants with musical skill would have an easier task than musically untrained participants. But does your question give you this information? Consider what use the answer is ...\n",
    "\n",
    "- If the participant has played piano since young age but does not consider him/herself a musician?\n",
    "- If the participant does not play a musical instrument, but has been an active music consumer/listener for many years?\n",
    "\n",
    " \n",
    "As we ask, so we get answers. Hence, we'd better make sure that the question is rightly put.\n"
   ]
  },
  {
   "cell_type": "markdown",
   "metadata": {
    "id": "nxf9SuFR0--q"
   },
   "source": [
    "<a id= 'Operational'> </a>"
   ]
  },
  {
   "cell_type": "markdown",
   "metadata": {
    "id": "NwonJJEZ0--s"
   },
   "source": [
    "### 1.1 Operational Definition\n",
    "\n",
    "We may have a general understanding of what we mean when we say \"musician\", but in experiments we need to be define so that it is clear. In other words, we must make *operational definitions* of concepts.  \n",
    "\n",
    "The operational definition of a musician could be, for example, \"someone who can earn money by playing music\". \n",
    "\n",
    "Note that this definition excludes a lot of persons that would probably be adept at, for instance, differentiating and recognizing musical structures. But if it is these skills we are really after, we had better measure them instead.\n",
    "\n",
    "\n"
   ]
  },
  {
   "cell_type": "markdown",
   "metadata": {
    "id": "INbSU2dC0--s"
   },
   "source": [
    "### Try out 1: \n",
    "Make operational definitions that clarify the following hypotheses:\n",
    "\n",
    "- H1: Musically-trained persons perform better than non-musically-trained persons at detecting differences in speech prosody.\n",
    "- H2: Pictures of long-haired males are rated as being more aggressive as compared to short-haired males.\n",
    "- H3: Experienced gamers have lower reaction times than non-gamers in a \"go\" - \"no go\" task."
   ]
  },
  {
   "cell_type": "markdown",
   "metadata": {
    "id": "v2VSNdxU0--t"
   },
   "source": [
    "<a id= 'Reliability'> </a>"
   ]
  },
  {
   "cell_type": "markdown",
   "metadata": {
    "id": "_SO4lU9J0--u"
   },
   "source": [
    "## 2. Reliability and Validity\n",
    "\n",
    "\n",
    "A good experiment should collect measurements that are *reliable* and *valid*. \n",
    "\n",
    "*Reliability:* Means that the measure can produce the same results on repeating the experiment under the same conditions. \n",
    "\n",
    "\n",
    "*Validity:* Means that we are measuring what we intend to measure.\n",
    "\n",
    "The two concepts can be illustrated in the following way, where the \"Bull's Eye\" would be the question that we are actually after. Although a measure can be very unreliable (lots of measurement error) it can still be valid, in that the \"center\" of the measurement is aimed at the right thing. But if the reliability is poor, it will not be difficult nonetheless.\n",
    "\n",
    "![](Reliability_and_validity.png \"Title\")\n",
    "\n",
    "\n",
    "© Nevit Dilmen, CC BY-SA 3.0 <https://creativecommons.org/licenses/by-sa/3.0>, via Wikimedia Commons\n",
    "\n",
    "https://upload.wikimedia.org/wikipedia/commons/5/5d/Reliability_and_validity.svg"
   ]
  },
  {
   "cell_type": "markdown",
   "metadata": {
    "id": "QngdeR-S0--v"
   },
   "source": [
    "<a id= 'Error'> </a>"
   ]
  },
  {
   "cell_type": "markdown",
   "metadata": {
    "id": "3TL3CTzs0--w"
   },
   "source": [
    "### 2.1  Measurement Error and Reliability\n",
    "\n",
    "Everytime we measure something, there is some error involved. In engineering, the precision of a measure is expressed as a certain *tolerance* e.g. $\\pm 0.02$ that indicates the size of the error. For instance, the rightmost (gold) colour band on the resistor in the figure here below tells us that we can expect the true value of the component to lie somewhere within 5% of the given value.\n",
    "\n",
    "<img src=\"https://github.com/sofiadahl/Design_and_Analysis_of_Experiments/blob/main/4-Band_Resistor.png?raw=1\" width=\"400\">\n",
    "\n",
    "jjbeard, Public domain, via Wikimedia Commons\n",
    "https://en.wikipedia.org/wiki/Electronic_color_code\n",
    "\n",
    "How can we assess reliability when collecting data from human participants? Like for the electronic components, we can estimate the consistency by *measuring and re-measuring*. For instance, by asking a participants to rate the same sound several times to check test-retest reliability. Either on different test occasions or by repeating the same task on the same test occasion (Preferably mixed with other sounds so that the repetition is not too obvious). You can also look for inter-rater reliability by comparing ratings from several people. If the ratings are the same, or very similar, the measurement error is low (similar to the points gathered close together in the target images).\n",
    "\n"
   ]
  },
  {
   "cell_type": "markdown",
   "metadata": {
    "id": "SsHTZbQ50--x"
   },
   "source": [
    "### Try out 2: \n",
    "Return to the hypotheses H1-H3 above and think of where you will have measurement error. How can you assess whether your measure is reliable?"
   ]
  },
  {
   "cell_type": "markdown",
   "metadata": {
    "id": "0WWzQs2m0--y"
   },
   "source": [
    "### Try out 3: \n",
    "Measure the following types of data seven (7) times each:\n",
    "\n",
    "- Measure the length of your index finger in mm with a ruler. \n",
    "- Your reaction time 7 times (e.g. here https://humanbenchmark.com/tests/reactiontime )\n",
    "- Download speed of your internet connection (e.g. here https://tjekbredbaand.dk/hastighedstest )\n",
    "\n",
    "Enter the data in arrays and plot in the code below. How big a measurement error would you say you have?\n",
    "How reliable would you say your measurement is? \n"
   ]
  },
  {
   "cell_type": "code",
   "execution_count": 3,
   "metadata": {
    "colab": {
     "base_uri": "https://localhost:8080/",
     "height": 282
    },
    "executionInfo": {
     "elapsed": 1254,
     "status": "ok",
     "timestamp": 1620208824519,
     "user": {
      "displayName": "",
      "photoUrl": "",
      "userId": ""
     },
     "user_tz": -120
    },
    "id": "smFaAxeg0--z",
    "outputId": "7be5b33a-a2f2-441e-a260-db40641f2eee"
   },
   "outputs": [
    {
     "data": {
      "text/plain": [
       "Text(0, 0.5, 'Download Speed (Mbps)')"
      ]
     },
     "execution_count": 3,
     "metadata": {},
     "output_type": "execute_result"
    },
    {
     "data": {
      "image/png": "[encoded data removed]",
      "text/plain": [
       "<Figure size 864x288 with 3 Axes>"
      ]
     },
     "metadata": {
      "needs_background": "light"
     },
     "output_type": "display_data"
    }
   ],
   "source": [
    "#Measure the length seven times and enter in the variable Len (e.g. 9.0, 9.1,9.11, ...)\n",
    "Len=np.array([])\n",
    "\n",
    "#Record reacation time 7 times and enter in variable RT\n",
    "RT=np.array([])\n",
    "\n",
    "#Record Download speed time 7 times and enter in variable Speed\n",
    "Speed=np.array([])\n",
    "\n",
    "fig,(ax1,ax2, ax3)= plt.subplots(1,3,figsize=(12.0, 4.0))\n",
    "\n",
    "ax1.plot(Len,'r+') #scatter plot with red crosses \n",
    "ax2.plot(RT, 'b*') #scatter plot in blue \n",
    "ax3.plot(Speed, 'k') #scatter plot in black \n",
    "\n",
    "ax1.set_ylabel('Length (mm)')\n",
    "ax2.set_ylabel('Reaction time (ms)')\n",
    "ax3.set_ylabel('Download Speed (Mbps)')\n"
   ]
  },
  {
   "cell_type": "markdown",
   "metadata": {
    "id": "4HBTOi3W0--1"
   },
   "source": [
    "<a id= 'Validity'> </a>"
   ]
  },
  {
   "cell_type": "markdown",
   "metadata": {
    "id": "1aG7sQL80--1"
   },
   "source": [
    "### 2.2  Internal and External Validity\n",
    "\n",
    "We can have highly reliable but invalid results if we, for example, recruit participants that are systematically different from the intended population. This would yield a problem with *external validity*, as the results do not generalize to the larger population.\n",
    "\n",
    "Ill-planned experiments can also have problem with *internal validity*. One example of this would be if there are unintended systematic differences between experimental and control groups (other than by our manipulation). For instance, data would likely be invalid if we recruit participants to the control group from passers-by in the street, but the experimental group consists of our friends and colleagues.\n",
    "\n",
    "How can we check for validity? In the case of finding out if someone has musical skill, we can compare their self-report of musical skill with the judgments of experts. For instance, by letting several music teachers independently assess the participant's skill. If their assessments agree with the self-report, there is good support for the validity of our measurement instrument. "
   ]
  },
  {
   "cell_type": "markdown",
   "metadata": {
    "id": "rqD3kXRa0--2"
   },
   "source": [
    "### Try out 4: \n",
    "Imagine you have data from 4 participants, selecting which of ten pairs of sounds that they prefer. How consistent are their ratings?"
   ]
  },
  {
   "cell_type": "code",
   "execution_count": 3,
   "metadata": {
    "colab": {
     "base_uri": "https://localhost:8080/",
     "height": 282
    },
    "executionInfo": {
     "elapsed": 1181,
     "status": "ok",
     "timestamp": 1620209007159,
     "user": {
      "displayName": "",
      "photoUrl": "",
      "userId": ""
     },
     "user_tz": -120
    },
    "id": "uikXQX_u0--2",
    "outputId": "9d2fab29-54f8-4d9e-e333-8ef810fb47a3"
   },
   "outputs": [
    {
     "data": {
      "text/plain": [
       "[<matplotlib.lines.Line2D at 0x7fa7f3e56050>]"
      ]
     },
     "execution_count": 3,
     "metadata": {
      "tags": []
     },
     "output_type": "execute_result"
    },
    {
     "data": {
      "image/png": "[encoded data removed]",
      "text/plain": [
       "<Figure size 432x288 with 1 Axes>"
      ]
     },
     "metadata": {
      "needs_background": "light",
      "tags": []
     },
     "output_type": "display_data"
    }
   ],
   "source": [
    "# Load the selection as 0 or 1 into a data frame\n",
    "data= pd.DataFrame([[1,0,0,1,1,0,0,0,1,0,1],\n",
    "       [1,0,1,1,1,0,0,0,1,0,1],\n",
    "       [0,0,0,0,1,0,0,0,0,0,1],\n",
    "       [1,0,1,1,0,0,0,1,1,0,1],\n",
    "       [1,0,1,1,1,1,0,0,1,1,1]])\n",
    "data\n",
    "\n",
    "#plot all selections and see how many that differ\n",
    "plt.plot(data.iloc[0], 'x')\n",
    "plt.plot(data.iloc[1], 'ro')\n",
    "plt.plot(data.iloc[3], 'mo')\n",
    "plt.plot(data.iloc[4], 'k*')\n",
    "\n",
    "#To better see overlap, it might be useful to plot only two at a time (by commenting out some plots)"
   ]
  },
  {
   "cell_type": "markdown",
   "metadata": {
    "id": "tkoRNAab0--2"
   },
   "source": [
    "<a id= 'Likert'> </a>"
   ]
  },
  {
   "cell_type": "markdown",
   "metadata": {
    "id": "QTLl9Zlw0--3"
   },
   "source": [
    "## 2.3 Likert items and Scales\n",
    "\n",
    "From the above, we've learned that it is important that we measure what we set out to capture, and that the reliability of the measure is good enough to avoid excessive measurement error.\n",
    "\n",
    "Likert scales attempt to do this by combining *multiple* ratings of statements (items) that contribute toward one *construct* that we are interested in measuring. The idea is to reduce the measurement error by having many items targeting the same question as in this case:\n",
    "\n",
    "<img src=\"https://upload.wikimedia.org/wikipedia/commons/3/38/Multi-item_psychometric_scale.jpg\" width=\"500\">\n",
    "Mark Robinson, CC BY 4.0 <https://creativecommons.org/licenses/by/4.0>, via Wikimedia Commons\n",
    "\n",
    "\n"
   ]
  },
  {
   "cell_type": "markdown",
   "metadata": {},
   "source": [
    "An example of a Likert scale is The System Usability Scale (SUS) https://en.wikipedia.org/wiki/System_usability_scale consisting of 10 items with statement that are rated from 1 (strongly disagree) to 5 (strongly agree). All items are targeting the experienced usability (and learnability) of the system and contribute toward a combined score. Note that the scale is *balanced* in that there are both positively and negatively formulated statements. When scoring, the ratings of negative items needs to be \"flipped\".\n",
    "\n",
    "Goldsmith Music Sophistication Index (Gold-MSI https://doi.org/10.1371/journal.pone.0089642 ) is an instrument developed to measure musicality in the general population. \n",
    "Unlike SUS, it is constructed by a combination of different *subscales*. Each of these consist of many items that all target what is considered to be part of musicality (e.g. perceptual ability, musical training etc). \n",
    "\n",
    "Both the SUS and Gold-MSI have been validated against other measures. In the case of musicality, this can include doing auditory listening tests, or involving music experts to assess musical abilities.\n",
    "By calculating measures for internal consistency (such as Cronbach alpha) and testing and re-testing, the reliability is assessed."
   ]
  },
  {
   "cell_type": "markdown",
   "metadata": {
    "id": "TGU_Td6_0--3"
   },
   "source": [
    "### Try out 5: \n",
    "What if we don't want to use the FULL scale with all the items? This can affect the reliability and validity. \n",
    "\n",
    "You can use the online configurator to select part of, or completely omit, different subscales here \n",
    "https://shiny.gold-msi.org/gmsiconfigurator/  (select language on the left, and use the tabs to get info, glossary etc)\n",
    "\n",
    "Choose tab \"configure\" and reduce one of the subscales (e.g. General Music Sophistication) from 18 items to 3. Note how this changes the values for Reliability  (alpha and omega) \n"
   ]
  },
  {
   "cell_type": "code",
   "execution_count": null,
   "metadata": {},
   "outputs": [],
   "source": []
  }
 ],
 "metadata": {
  "colab": {
   "name": "Copy of DAE3_MeasuringValidityReliability.ipynb",
   "provenance": [
    {
     "file_id": "https://github.com/sofiadahl/Design_and_Analysis_of_Experiments/blob/main/DAE3_MeasuringValidityReliability.ipynb",
     "timestamp": 1620209439124
    }
   ]
  },
  "kernelspec": {
   "display_name": "Python 3",
   "language": "python",
   "name": "python3"
  },
  "language_info": {
   "codemirror_mode": {
    "name": "ipython",
    "version": 3
   },
   "file_extension": ".py",
   "mimetype": "text/x-python",
   "name": "python",
   "nbconvert_exporter": "python",
   "pygments_lexer": "ipython3",
   "version": "3.7.3"
  }
 },
 "nbformat": 4,
 "nbformat_minor": 4
}
