{
 "cells": [
  {
   "cell_type": "markdown",
   "metadata": {},
   "source": [
    "# DAE Correlation and Regression\n",
    "\n",
    "author:\n",
    "- |\n",
    "    Sofia Dahl, sof@create.aau.dk\\\n",
    "    Dept. Architecture, Design and Media Technology, Aalborg University Copenhagen\n",
    "---\n",
    "\n",
    "## Learning goals\n",
    "After working your way through this notebook you should be able to..\n",
    "- Explain what correlation can measure and when it is useful\n",
    "- Explain what the Pearson correlation coefficient is\n",
    "- Explain when correlation should and should not be used\n",
    "\n",
    "## Table of Contents\n",
    "- [1 Relationship between Variables](#Relationships)  \n",
    "- [2 Covariance](#Covariance)\n",
    "- [3 Correlation coefficient](#Coefficient)\n",
    "- [4 Linear regression](#Regression)\n"
   ]
  },
  {
   "cell_type": "markdown",
   "metadata": {},
   "source": [
    "<a id= 'Variables'> </a>"
   ]
  },
  {
   "cell_type": "markdown",
   "metadata": {},
   "source": [
    "<a id= 'Summarizing'> </a>"
   ]
  },
  {
   "cell_type": "code",
   "execution_count": 38,
   "metadata": {},
   "outputs": [],
   "source": [
    "%matplotlib inline\n",
    "import numpy as np\n",
    "import pandas as pd\n",
    "import matplotlib.pyplot as plt"
   ]
  },
  {
   "cell_type": "markdown",
   "metadata": {},
   "source": [
    "<a id= 'Relationships'> </a>"
   ]
  },
  {
   "cell_type": "markdown",
   "metadata": {},
   "source": [
    "### 1. Relationship between Variables\n",
    "\n",
    "For both independent and dependent variables we are often interested in seeing whether they have some kind of relationship. A good way to study this is to plot the data against each other "
   ]
  },
  {
   "cell_type": "code",
   "execution_count": 32,
   "metadata": {},
   "outputs": [
    {
     "data": {
      "text/html": [
       "<div>\n",
       "<style scoped>\n",
       "    .dataframe tbody tr th:only-of-type {\n",
       "        vertical-align: middle;\n",
       "    }\n",
       "\n",
       "    .dataframe tbody tr th {\n",
       "        vertical-align: top;\n",
       "    }\n",
       "\n",
       "    .dataframe thead th {\n",
       "        text-align: right;\n",
       "    }\n",
       "</style>\n",
       "<table border=\"1\" class=\"dataframe\">\n",
       "  <thead>\n",
       "    <tr style=\"text-align: right;\">\n",
       "      <th></th>\n",
       "      <th>Scale1</th>\n",
       "      <th>Scale2</th>\n",
       "    </tr>\n",
       "  </thead>\n",
       "  <tbody>\n",
       "    <tr>\n",
       "      <th>count</th>\n",
       "      <td>18.000000</td>\n",
       "      <td>18.000000</td>\n",
       "    </tr>\n",
       "    <tr>\n",
       "      <th>mean</th>\n",
       "      <td>69.722222</td>\n",
       "      <td>44.111111</td>\n",
       "    </tr>\n",
       "    <tr>\n",
       "      <th>std</th>\n",
       "      <td>20.415696</td>\n",
       "      <td>28.445798</td>\n",
       "    </tr>\n",
       "    <tr>\n",
       "      <th>min</th>\n",
       "      <td>30.000000</td>\n",
       "      <td>0.000000</td>\n",
       "    </tr>\n",
       "    <tr>\n",
       "      <th>25%</th>\n",
       "      <td>56.000000</td>\n",
       "      <td>21.500000</td>\n",
       "    </tr>\n",
       "    <tr>\n",
       "      <th>50%</th>\n",
       "      <td>73.500000</td>\n",
       "      <td>37.500000</td>\n",
       "    </tr>\n",
       "    <tr>\n",
       "      <th>75%</th>\n",
       "      <td>84.500000</td>\n",
       "      <td>56.250000</td>\n",
       "    </tr>\n",
       "    <tr>\n",
       "      <th>max</th>\n",
       "      <td>100.000000</td>\n",
       "      <td>100.000000</td>\n",
       "    </tr>\n",
       "  </tbody>\n",
       "</table>\n",
       "</div>"
      ],
      "text/plain": [
       "           Scale1      Scale2\n",
       "count   18.000000   18.000000\n",
       "mean    69.722222   44.111111\n",
       "std     20.415696   28.445798\n",
       "min     30.000000    0.000000\n",
       "25%     56.000000   21.500000\n",
       "50%     73.500000   37.500000\n",
       "75%     84.500000   56.250000\n",
       "max    100.000000  100.000000"
      ]
     },
     "execution_count": 32,
     "metadata": {},
     "output_type": "execute_result"
    }
   ],
   "source": [
    "#In this example we have data from 18 participants and two rating scales (0-100)\n",
    "\n",
    "\n",
    "data= pd.DataFrame([[83,37],\n",
    "       [93,23],\n",
    "       [60,40],\n",
    "       [47,16],\n",
    "       [59,59],\n",
    "       [77,34],\n",
    "       [30,21],\n",
    "       [75,45],\n",
    "       [86,91],\n",
    "       [100,75],\n",
    "       [71,0],\n",
    "       [85,100],\n",
    "       [75,20],\n",
    "       [55,38],\n",
    "       [47,20], \n",
    "       [40,37],\n",
    "       [72,48],                    \n",
    "       [100,90]], columns=([\"Scale1\",\"Scale2\"]), index=[1,2,3,4,5,6,7,8,9,10,11,12,13,14,15,16,17,18])\n",
    "\n",
    "#check dimensions of the data structure\n",
    "data.describe()"
   ]
  },
  {
   "cell_type": "markdown",
   "metadata": {},
   "source": [
    "### Try out 1:\n",
    "Make a scatter plot to see if there is a relationship between the two variables (Scale1 and Scale2)"
   ]
  },
  {
   "cell_type": "code",
   "execution_count": 18,
   "metadata": {},
   "outputs": [
    {
     "data": {
      "text/plain": [
       "[<matplotlib.lines.Line2D at 0x11bdcecc0>]"
      ]
     },
     "execution_count": 18,
     "metadata": {},
     "output_type": "execute_result"
    },
    {
     "data": {
      "image/png": "[encoded data removed]",
      "text/plain": [
       "<Figure size 432x288 with 1 Axes>"
      ]
     },
     "metadata": {
      "needs_background": "light"
     },
     "output_type": "display_data"
    }
   ],
   "source": [
    "# Is there a relationship between the two variables (Scale1 and Scale2)?\n",
    "plt.plot(data.iloc[:,0], data.iloc[:,1], 'k*')"
   ]
  },
  {
   "cell_type": "markdown",
   "metadata": {},
   "source": [
    "The scatter plot indicates a tendency for high ratings on one scale seem to be related to high ratings on another one. And vice versa. But how can we quantify this?"
   ]
  },
  {
   "cell_type": "markdown",
   "metadata": {},
   "source": [
    "<a id= 'Covariance'> </a>"
   ]
  },
  {
   "cell_type": "markdown",
   "metadata": {},
   "source": [
    "## 2. Covariance\n",
    "\n",
    "In the case of variance of one variable summed up the squared distance between each observation and the mean. To see whether two variables, x and y, *covary* we do a similar thing: \n",
    "\n",
    "$$cov(x,y)  =\\frac {\\sum{ (x_i - \\bar{x}) (y_i - \\bar{y})} } {N-1}$$\n",
    "\n",
    "A positive covariance mean that x and y vary in similar way so that with X larger than the mean Y is also more likely to be larger than the mean. And vice versa. Note that this does not mean that a change in X *causes* Y to vary! "
   ]
  },
  {
   "cell_type": "code",
   "execution_count": 28,
   "metadata": {},
   "outputs": [
    {
     "data": {
      "text/html": [
       "<div>\n",
       "<style scoped>\n",
       "    .dataframe tbody tr th:only-of-type {\n",
       "        vertical-align: middle;\n",
       "    }\n",
       "\n",
       "    .dataframe tbody tr th {\n",
       "        vertical-align: top;\n",
       "    }\n",
       "\n",
       "    .dataframe thead th {\n",
       "        text-align: right;\n",
       "    }\n",
       "</style>\n",
       "<table border=\"1\" class=\"dataframe\">\n",
       "  <thead>\n",
       "    <tr style=\"text-align: right;\">\n",
       "      <th></th>\n",
       "      <th>Scale1</th>\n",
       "      <th>Scale2</th>\n",
       "      <th>Scale3</th>\n",
       "    </tr>\n",
       "  </thead>\n",
       "  <tbody>\n",
       "    <tr>\n",
       "      <th>Scale1</th>\n",
       "      <td>416.800654</td>\n",
       "      <td>317.562092</td>\n",
       "      <td>367.181373</td>\n",
       "    </tr>\n",
       "    <tr>\n",
       "      <th>Scale2</th>\n",
       "      <td>317.562092</td>\n",
       "      <td>809.163399</td>\n",
       "      <td>563.362745</td>\n",
       "    </tr>\n",
       "    <tr>\n",
       "      <th>Scale3</th>\n",
       "      <td>367.181373</td>\n",
       "      <td>563.362745</td>\n",
       "      <td>465.272059</td>\n",
       "    </tr>\n",
       "  </tbody>\n",
       "</table>\n",
       "</div>"
      ],
      "text/plain": [
       "            Scale1      Scale2      Scale3\n",
       "Scale1  416.800654  317.562092  367.181373\n",
       "Scale2  317.562092  809.163399  563.362745\n",
       "Scale3  367.181373  563.362745  465.272059"
      ]
     },
     "execution_count": 28,
     "metadata": {},
     "output_type": "execute_result"
    }
   ],
   "source": [
    "#Get the covariance matrix of the whole data\n",
    "data.cov()"
   ]
  },
  {
   "cell_type": "markdown",
   "metadata": {},
   "source": [
    "### Try out 2:\n",
    "Calculate the mean of the two scales and add as another variable \"Scale 3\" in the data frame. Calculate the coveriance matrix and compare. "
   ]
  },
  {
   "cell_type": "code",
   "execution_count": 29,
   "metadata": {},
   "outputs": [],
   "source": [
    "#Add another variable consisting of the mean data of Scale1 and Scale2\n",
    "#data['Scale3']=\n",
    "#data\n",
    "\n",
    "#calculate covariance matrix"
   ]
  },
  {
   "cell_type": "markdown",
   "metadata": {},
   "source": [
    "<a id= 'Coefficient'> </a>"
   ]
  },
  {
   "cell_type": "markdown",
   "metadata": {},
   "source": [
    "## 3. Correlation coefficient\n",
    "\n",
    "The Pearson Product-Moment Correlation Coefficient (r, or \"correlation coefficient\" for short) is a standardized measure of the linear relationship between two variables. The degree to which the relationship\n",
    "can be explained by a linear model is expressed by the coefficient, r.\n",
    "\n",
    "Departing from the covariance, the equation for the coefficient can be written as\n",
    "\n",
    "$$r =  \\frac {cov_{xy}} {s_x s_y} =\\frac {\\sum{ (x_i - \\bar{x}) (y_i - \\bar{y})} } {(N-1){s_x s_y}}$$\n",
    "\n",
    "Where $s_x$ and $s_y$ are the sample standard deviations for x and y. Dividing the covariance with them gives a value which can vary between 1 (x and y perfectly correlated) and -1 (x and y perfectly negatively correlated)\n",
    "\n",
    "\n"
   ]
  },
  {
   "cell_type": "code",
   "execution_count": 33,
   "metadata": {},
   "outputs": [
    {
     "data": {
      "text/html": [
       "<div>\n",
       "<style scoped>\n",
       "    .dataframe tbody tr th:only-of-type {\n",
       "        vertical-align: middle;\n",
       "    }\n",
       "\n",
       "    .dataframe tbody tr th {\n",
       "        vertical-align: top;\n",
       "    }\n",
       "\n",
       "    .dataframe thead th {\n",
       "        text-align: right;\n",
       "    }\n",
       "</style>\n",
       "<table border=\"1\" class=\"dataframe\">\n",
       "  <thead>\n",
       "    <tr style=\"text-align: right;\">\n",
       "      <th></th>\n",
       "      <th>Scale1</th>\n",
       "      <th>Scale2</th>\n",
       "    </tr>\n",
       "  </thead>\n",
       "  <tbody>\n",
       "    <tr>\n",
       "      <th>Scale1</th>\n",
       "      <td>1.000000</td>\n",
       "      <td>0.546822</td>\n",
       "    </tr>\n",
       "    <tr>\n",
       "      <th>Scale2</th>\n",
       "      <td>0.546822</td>\n",
       "      <td>1.000000</td>\n",
       "    </tr>\n",
       "  </tbody>\n",
       "</table>\n",
       "</div>"
      ],
      "text/plain": [
       "          Scale1    Scale2\n",
       "Scale1  1.000000  0.546822\n",
       "Scale2  0.546822  1.000000"
      ]
     },
     "execution_count": 33,
     "metadata": {},
     "output_type": "execute_result"
    }
   ],
   "source": [
    "\n",
    "data.corr()"
   ]
  },
  {
   "cell_type": "markdown",
   "metadata": {},
   "source": [
    "By calculating the correlation coefficient for different ratings of the same stimuli, it is possible to get a measure of how *reliable* the measure is. For instance one can use it to see to what degree participants tend to rate a stimulus the same way when presented with it several times. An unreliable measure has a large variability due to noise, which would be reflected in an $r$ close to 0. \n"
   ]
  },
  {
   "cell_type": "markdown",
   "metadata": {},
   "source": [
    "### Try out 3:\n",
    "When converting analogue signals to digital, there are only a certain number of values that can be represented in the computer. \n",
    "In this case, we have data from a distance sensor, the produced voltage output, and the converted (ADC) value. Plot the two latter and calculate the correlation coefficient.\n"
   ]
  },
  {
   "cell_type": "code",
   "execution_count": 66,
   "metadata": {},
   "outputs": [
    {
     "name": "stdout",
     "output_type": "stream",
     "text": [
      "(31, 3)\n"
     ]
    },
    {
     "data": {
      "text/html": [
       "<div>\n",
       "<style scoped>\n",
       "    .dataframe tbody tr th:only-of-type {\n",
       "        vertical-align: middle;\n",
       "    }\n",
       "\n",
       "    .dataframe tbody tr th {\n",
       "        vertical-align: top;\n",
       "    }\n",
       "\n",
       "    .dataframe thead th {\n",
       "        text-align: right;\n",
       "    }\n",
       "</style>\n",
       "<table border=\"1\" class=\"dataframe\">\n",
       "  <thead>\n",
       "    <tr style=\"text-align: right;\">\n",
       "      <th></th>\n",
       "      <th>Distance</th>\n",
       "      <th>ADC</th>\n",
       "      <th>Voltage</th>\n",
       "    </tr>\n",
       "  </thead>\n",
       "  <tbody>\n",
       "    <tr>\n",
       "      <th>count</th>\n",
       "      <td>31.000000</td>\n",
       "      <td>31.000000</td>\n",
       "      <td>31.000000</td>\n",
       "    </tr>\n",
       "    <tr>\n",
       "      <th>mean</th>\n",
       "      <td>1350.000000</td>\n",
       "      <td>82.354839</td>\n",
       "      <td>0.402581</td>\n",
       "    </tr>\n",
       "    <tr>\n",
       "      <th>std</th>\n",
       "      <td>90.921211</td>\n",
       "      <td>6.770270</td>\n",
       "      <td>0.032452</td>\n",
       "    </tr>\n",
       "    <tr>\n",
       "      <th>min</th>\n",
       "      <td>1200.000000</td>\n",
       "      <td>72.000000</td>\n",
       "      <td>0.350000</td>\n",
       "    </tr>\n",
       "    <tr>\n",
       "      <th>25%</th>\n",
       "      <td>1275.000000</td>\n",
       "      <td>76.000000</td>\n",
       "      <td>0.370000</td>\n",
       "    </tr>\n",
       "    <tr>\n",
       "      <th>50%</th>\n",
       "      <td>1350.000000</td>\n",
       "      <td>82.000000</td>\n",
       "      <td>0.400000</td>\n",
       "    </tr>\n",
       "    <tr>\n",
       "      <th>75%</th>\n",
       "      <td>1425.000000</td>\n",
       "      <td>88.500000</td>\n",
       "      <td>0.430000</td>\n",
       "    </tr>\n",
       "    <tr>\n",
       "      <th>max</th>\n",
       "      <td>1500.000000</td>\n",
       "      <td>94.000000</td>\n",
       "      <td>0.460000</td>\n",
       "    </tr>\n",
       "  </tbody>\n",
       "</table>\n",
       "</div>"
      ],
      "text/plain": [
       "          Distance        ADC    Voltage\n",
       "count    31.000000  31.000000  31.000000\n",
       "mean   1350.000000  82.354839   0.402581\n",
       "std      90.921211   6.770270   0.032452\n",
       "min    1200.000000  72.000000   0.350000\n",
       "25%    1275.000000  76.000000   0.370000\n",
       "50%    1350.000000  82.000000   0.400000\n",
       "75%    1425.000000  88.500000   0.430000\n",
       "max    1500.000000  94.000000   0.460000"
      ]
     },
     "execution_count": 66,
     "metadata": {},
     "output_type": "execute_result"
    }
   ],
   "source": [
    "#Here is an excerpt from the data:\n",
    "array=np.array([[1200,94,0.46],\n",
    "[1210,93,0.45],\n",
    "[1220,93,0.45],\n",
    "[1230,92,0.45],\n",
    "[1240,90,0.44],\n",
    "[1250,89,0.43],\n",
    "[1260,89,0.43],\n",
    "[1270,89,0.43],\n",
    "[1280,88,0.43],\n",
    "[1290,86,0.42],\n",
    "[1300,85,0.42],\n",
    "[1310,85,0.42],\n",
    "[1320,85,0.42],\n",
    "[1330,84,0.41],\n",
    "[1340,83,0.41],\n",
    "[1350,82,0.40],\n",
    "[1360,81,0.40],\n",
    "[1370,81,0.40],\n",
    "[1380,80,0.39],\n",
    "[1390,80,0.39],\n",
    "[1400,77,0.38],\n",
    "[1410,77,0.38],\n",
    "[1420,76,0.37],\n",
    "[1430,76,0.37],\n",
    "[1440,76,0.37],\n",
    "[1450,76,0.37],\n",
    "[1460,75,0.37],\n",
    "[1470,74,0.36],\n",
    "[1480,73,0.36],\n",
    "[1490,72,0.35],\n",
    "[1500,72,0.35]])\n",
    "\n",
    "#And to make it convenient we put this in a data frame with index for the participants\n",
    "index = [f'participant_{num}' for num in range(array.shape[0])] #generate row index for all entries\n",
    "\n",
    "sensor= pd.DataFrame(array, columns=([\"Distance\",\"ADC\", \"Voltage\"]), index=index)\n",
    "\n",
    "#check the format of data frame\n",
    "print(sensor.shape)\n",
    "\n",
    "sensor.describe()\n",
    "\n",
    "#one way to plot\n",
    "#plt.plot(sensor.ADC, sensor.Voltage, '+')\n",
    "\n",
    "#calculate correlation as above"
   ]
  },
  {
   "cell_type": "markdown",
   "metadata": {},
   "source": [
    "As expected (and hoped for) the values are highly correlated. "
   ]
  },
  {
   "cell_type": "markdown",
   "metadata": {},
   "source": [
    "<a id= 'Regression'> </a>"
   ]
  },
  {
   "cell_type": "markdown",
   "metadata": {},
   "source": [
    "## 4. Linear Regression\n",
    "\n",
    "\n",
    "In linear regression, a variable $y$ is predicted by $x$ in terms of a linear relationship between the two. The method finds the straight line that best fits the data points and $y$ is expressed in terms of $x$ in the common equation:\n",
    "\n",
    "$$y=a+bx$$\n",
    "\n",
    "Where the constant $a$ is the *intercept* (the value of $y$ when $x=0$), and the constant $b$ is a measure of the inclination (the ``steepness'' of the line). \n"
   ]
  },
  {
   "cell_type": "markdown",
   "metadata": {},
   "source": [
    "\n",
    "For instance, if we want use the distance sensor in an application to measure distance, we would much rather know what the ADC values correspond to in distance (mm). One way is to plot the values.\n"
   ]
  },
  {
   "cell_type": "code",
   "execution_count": 69,
   "metadata": {},
   "outputs": [
    {
     "data": {
      "image/png": "[encoded data removed]",
      "text/plain": [
       "<Figure size 432x288 with 1 Axes>"
      ]
     },
     "metadata": {
      "needs_background": "light"
     },
     "output_type": "display_data"
    }
   ],
   "source": [
    "plt.scatter(sensor.ADC,sensor.Distance)\n",
    "plt.xlabel('Analogue to Digital Conversion (ADC value)')\n",
    "plt.ylabel('Distance (mm)')\n",
    "plt.show()"
   ]
  },
  {
   "cell_type": "markdown",
   "metadata": {},
   "source": [
    " But more convenient would be to make a model using linear regression and *fit* a line to the points. "
   ]
  },
  {
   "cell_type": "markdown",
   "metadata": {},
   "source": [
    "### Try out 4:\n",
    "Apply a linear fit, print the output and identify a and b in the equation\n",
    " $Distance= a*ADC + b$"
   ]
  },
  {
   "cell_type": "code",
   "execution_count": 76,
   "metadata": {},
   "outputs": [
    {
     "name": "stdout",
     "output_type": "stream",
     "text": [
      "[ -13.35905977 2450.18321291]\n"
     ]
    }
   ],
   "source": [
    "distmodel=np.polyfit(sensor.ADC,sensor.Distance,1)\n",
    "\n",
    "#only 1st order polynomial here, see help(np.polyfit)\n",
    "\n",
    "print(distmodel)  \n",
    "# for  decrease of 1 ADC the corresponding distance increases by... (first number)\n",
    "# for  0 ADC output the corresponding distance would be... (second)"
   ]
  },
  {
   "cell_type": "markdown",
   "metadata": {},
   "source": [
    "It is important to check whether the output of the model makes sense in relation to the data. \n",
    "\n",
    "We can also check the prediction of our model by producing values according to it, and plot it with the original data."
   ]
  },
  {
   "cell_type": "code",
   "execution_count": 78,
   "metadata": {},
   "outputs": [
    {
     "data": {
      "image/png": "[encoded data removed]",
      "text/plain": [
       "<Figure size 432x288 with 1 Axes>"
      ]
     },
     "metadata": {
      "needs_background": "light"
     },
     "output_type": "display_data"
    }
   ],
   "source": [
    "Distpred=np.poly1d(distmodel) #construct predicted output based on model\n",
    "\n",
    "D_lin_reg=Distpred(sensor.ADC)\n",
    "plt.scatter(sensor.ADC,sensor.Distance)\n",
    "plt.plot(sensor.ADC,D_lin_reg, c='r')\n",
    "\n",
    "plt.xlabel('Analogue to Digital Conversion (ADC value)')\n",
    "plt.ylabel('Distance (mm)')\n",
    "plt.show()"
   ]
  },
  {
   "cell_type": "markdown",
   "metadata": {},
   "source": [
    "The regression model, and prediction of data based on it, is at the basis of machine learning. Only, the data and models are often much more complex. \n",
    "\n",
    "It is important to stress that both correlation and linear regression express the *LINEAR* relationship between variables. There can be other, non-linear relationships in data that we should not use these methods for.\n",
    "\n",
    "In the above plot, we have quite a good fit. But in our example, we have only used a only a small portion of the range of the sensor. \n",
    "We can use the full data available and see whether our model would be useful also for other ranges."
   ]
  },
  {
   "cell_type": "markdown",
   "metadata": {},
   "source": [
    "### Try out 5:\n",
    "Get the full data (DistanceSensorData.csv) found in this archive https://lucidar.me/en/arduino/files/SHARP_Distance_Sensors.zip (from https://lucidar.me/en/arduino/arduino-accurate-distance-measurement-sharp-GP2Y0A21YK/)\n",
    "Load it and plot. Would it be suitable to perform a linear regression on the data? "
   ]
  },
  {
   "cell_type": "code",
   "execution_count": null,
   "metadata": {},
   "outputs": [],
   "source": [
    "#Load the data. You can use pd.read_csv like the suggstion here:\n",
    "#Sharp = pd.read_csv('DistanceSensorData.csv', delimiter = '\\t',names=('Distance', 'ADC','Voltage'))\n",
    "\n",
    "#remember to check shape and content of the data frame once loaded\n",
    "\n",
    "#see what the correlation function would put out."
   ]
  }
 ],
 "metadata": {
  "kernelspec": {
   "display_name": "Python 3",
   "language": "python",
   "name": "python3"
  },
  "language_info": {
   "codemirror_mode": {
    "name": "ipython",
    "version": 3
   },
   "file_extension": ".py",
   "mimetype": "text/x-python",
   "name": "python",
   "nbconvert_exporter": "python",
   "pygments_lexer": "ipython3",
   "version": "3.7.3"
  }
 },
 "nbformat": 4,
 "nbformat_minor": 4
}
