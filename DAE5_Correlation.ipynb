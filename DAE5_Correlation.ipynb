{
 "cells": [
  {
   "cell_type": "markdown",
   "metadata": {
    "id": "fVtR9dssyY_r"
   },
   "source": [
    "# DAE Correlation and Regression\n",
    "\n",
    "Author:\n",
    "- |\n",
    "    Sofia Dahl, sof@create.aau.dk\\\n",
    "    Dept. Architecture, Design and Media Technology, Aalborg University Copenhagen\n",
    "---\n",
    "\n",
    "## Learning goals\n",
    "After working your way through this notebook you should be able to..\n",
    "- Explain what correlation can measure and when it is useful\n",
    "- Explain what the Pearson correlation coefficient is\n",
    "- Explain when correlation should and should not be used\n",
    "\n",
    "## Table of Contents\n",
    "- [1 Relationship between Variables](#Relationships)  \n",
    "- [2 Covariance](#Covariance)\n",
    "- [3 Correlation Coefficient](#Coefficient)\n",
    "- [4 Linear Regression](#Regression)\n"
   ]
  },
  {
   "cell_type": "markdown",
   "metadata": {
    "id": "F06koeLNyY_y"
   },
   "source": [
    "<a id= 'Summarizing'> </a>"
   ]
  },
  {
   "cell_type": "code",
   "execution_count": 3,
   "metadata": {
    "executionInfo": {
     "elapsed": 3067,
     "status": "ok",
     "timestamp": 1620373627954,
     "user": {
      "displayName": "",
      "photoUrl": "",
      "userId": ""
     },
     "user_tz": -120
    },
    "id": "Sh0bmNU3yY_z"
   },
   "outputs": [],
   "source": [
    "%matplotlib inline\n",
    "import numpy as np\n",
    "import pandas as pd\n",
    "import matplotlib.pyplot as plt"
   ]
  },
  {
   "cell_type": "code",
   "execution_count": null,
   "metadata": {},
   "outputs": [],
   "source": [
    "from google.colab import files\n",
    "\n",
    "uploaded = files.upload()"
   ]
  },
  {
   "cell_type": "markdown",
   "metadata": {
    "id": "d94_Lv6uyY_z"
   },
   "source": [
    "<a id= 'Relationships'> </a>"
   ]
  },
  {
   "cell_type": "markdown",
   "metadata": {
    "id": "bQNhmy3pyY_0"
   },
   "source": [
    "### 1. Relationship between Variables\n",
    "\n",
    "We are often interested in seeing whether independent and dependent variables have some kind of relationship with each other or among themselves. A good way to study this is to plot the concerned variables against each other. "
   ]
  },
  {
   "cell_type": "code",
   "execution_count": 13,
   "metadata": {
    "colab": {
     "base_uri": "https://localhost:8080/",
     "height": 284
    },
    "executionInfo": {
     "elapsed": 589,
     "status": "ok",
     "timestamp": 1620373795206,
     "user": {
      "displayName": "",
      "photoUrl": "",
      "userId": ""
     },
     "user_tz": -120
    },
    "id": "mHMigm30yY_0",
    "outputId": "85845b5d-9575-4454-c848-1c25a54fa5ae"
   },
   "outputs": [
    {
     "data": {
      "text/html": [
       "<div>\n",
       "<style scoped>\n",
       "    .dataframe tbody tr th:only-of-type {\n",
       "        vertical-align: middle;\n",
       "    }\n",
       "\n",
       "    .dataframe tbody tr th {\n",
       "        vertical-align: top;\n",
       "    }\n",
       "\n",
       "    .dataframe thead th {\n",
       "        text-align: right;\n",
       "    }\n",
       "</style>\n",
       "<table border=\"1\" class=\"dataframe\">\n",
       "  <thead>\n",
       "    <tr style=\"text-align: right;\">\n",
       "      <th></th>\n",
       "      <th>Scale1</th>\n",
       "      <th>Scale2</th>\n",
       "    </tr>\n",
       "  </thead>\n",
       "  <tbody>\n",
       "    <tr>\n",
       "      <th>count</th>\n",
       "      <td>18.000000</td>\n",
       "      <td>18.000000</td>\n",
       "    </tr>\n",
       "    <tr>\n",
       "      <th>mean</th>\n",
       "      <td>69.722222</td>\n",
       "      <td>44.111111</td>\n",
       "    </tr>\n",
       "    <tr>\n",
       "      <th>std</th>\n",
       "      <td>20.415696</td>\n",
       "      <td>28.445798</td>\n",
       "    </tr>\n",
       "    <tr>\n",
       "      <th>min</th>\n",
       "      <td>30.000000</td>\n",
       "      <td>0.000000</td>\n",
       "    </tr>\n",
       "    <tr>\n",
       "      <th>25%</th>\n",
       "      <td>56.000000</td>\n",
       "      <td>21.500000</td>\n",
       "    </tr>\n",
       "    <tr>\n",
       "      <th>50%</th>\n",
       "      <td>73.500000</td>\n",
       "      <td>37.500000</td>\n",
       "    </tr>\n",
       "    <tr>\n",
       "      <th>75%</th>\n",
       "      <td>84.500000</td>\n",
       "      <td>56.250000</td>\n",
       "    </tr>\n",
       "    <tr>\n",
       "      <th>max</th>\n",
       "      <td>100.000000</td>\n",
       "      <td>100.000000</td>\n",
       "    </tr>\n",
       "  </tbody>\n",
       "</table>\n",
       "</div>"
      ],
      "text/plain": [
       "           Scale1      Scale2\n",
       "count   18.000000   18.000000\n",
       "mean    69.722222   44.111111\n",
       "std     20.415696   28.445798\n",
       "min     30.000000    0.000000\n",
       "25%     56.000000   21.500000\n",
       "50%     73.500000   37.500000\n",
       "75%     84.500000   56.250000\n",
       "max    100.000000  100.000000"
      ]
     },
     "execution_count": 13,
     "metadata": {},
     "output_type": "execute_result"
    }
   ],
   "source": [
    "# In this example we have data from 18 participants and two rating scales (0-100)\n",
    "\n",
    "data= pd.DataFrame([[83,37],\n",
    "       [93,23],\n",
    "       [60,40],\n",
    "       [47,16],\n",
    "       [59,59],\n",
    "       [77,34],\n",
    "       [30,21],\n",
    "       [75,45],\n",
    "       [86,91],\n",
    "       [100,75],\n",
    "       [71,0],\n",
    "       [85,100],\n",
    "       [75,20],\n",
    "       [55,38],\n",
    "       [47,20], \n",
    "       [40,37],\n",
    "       [72,48],                    \n",
    "       [100,90]], \n",
    "       columns=([\"Scale1\",\"Scale2\"]), \n",
    "       index=[1,2,3,4,5,6,7,8,9,10,11,12,13,14,15,16,17,18])\n",
    "\n",
    "# Check dimensions of the data structure\n",
    "data.describe()"
   ]
  },
  {
   "cell_type": "markdown",
   "metadata": {
    "id": "NIG3r6zuyY_1"
   },
   "source": [
    "### Try out 1:\n",
    "Plot the variables against each other in the form of a scatter plot to see if there is a relationship between them (Scale1 and Scale2)."
   ]
  },
  {
   "cell_type": "code",
   "execution_count": 11,
   "metadata": {
    "colab": {
     "base_uri": "https://localhost:8080/",
     "height": 282
    },
    "executionInfo": {
     "elapsed": 576,
     "status": "ok",
     "timestamp": 1620376185732,
     "user": {
      "displayName": "",
      "photoUrl": "",
      "userId": ""
     },
     "user_tz": -120
    },
    "id": "b5ekTsBCyY_1",
    "outputId": "59440ecc-5437-4947-8503-2da31c9b887a"
   },
   "outputs": [
    {
     "data": {
      "text/plain": [
       "[<matplotlib.lines.Line2D at 0x7fd6d147dd50>]"
      ]
     },
     "execution_count": 11,
     "metadata": {
      "tags": []
     },
     "output_type": "execute_result"
    },
    {
     "data": {
      "image/png": "[encoded data removed]",
      "text/plain": [
       "<Figure size 432x288 with 1 Axes>"
      ]
     },
     "metadata": {
      "needs_background": "light",
      "tags": []
     },
     "output_type": "display_data"
    }
   ],
   "source": [
    "# Is there a relationship between the two variables (Scale1 and Scale2)?\n",
    "plt.plot(data.iloc[:,0], data.iloc[:,1], 'k*')"
   ]
  },
  {
   "cell_type": "markdown",
   "metadata": {
    "id": "cHZf0UrfyY_1"
   },
   "source": [
    "The scatter plot indicates a tendency for high ratings on one scale to be accompanied by high ratings on the other, and vice versa. But how do we quantify this tendency?"
   ]
  },
  {
   "cell_type": "markdown",
   "metadata": {
    "id": "jAYHJ0bDyY_1"
   },
   "source": [
    "<a id= 'Covariance'> </a>"
   ]
  },
  {
   "cell_type": "markdown",
   "metadata": {
    "id": "cm7klOc5yY_2"
   },
   "source": [
    "## 2. Covariance\n",
    "\n",
    "In the case of the variance of one variable, we summed the squared distance between each observation and the mean. To see whether two variables x and y *covary* (vary similarly), we apply a similar formula: \n",
    "\n",
    "$$cov(x,y)  =\\frac {\\sum{ (x_i - \\bar{x}) (y_i - \\bar{y})} } {N-1}$$\n",
    "\n",
    "N is the sample size. \n",
    "$\\bar{x},\\bar{y}$ are the means of x and y respectively, while $x_i,y_i$ are the data points. \n",
    "\n",
    "In general, if $x_i$ exceeds $\\bar{x}$, and $y_i$ simultaneously exceeds $\\bar{y}$ (and vice versa), this will result in a *positive* covariance value. This means that x and y vary similarly.\n",
    "\n",
    "**Note that this does not mean that a change in x *causes* y to vary!**"
   ]
  },
  {
   "cell_type": "code",
   "execution_count": 14,
   "metadata": {
    "colab": {
     "base_uri": "https://localhost:8080/",
     "height": 106
    },
    "executionInfo": {
     "elapsed": 510,
     "status": "ok",
     "timestamp": 1620374784818,
     "user": {
      "displayName": "",
      "photoUrl": "",
      "userId": ""
     },
     "user_tz": -120
    },
    "id": "7iigB0pAyY_2",
    "outputId": "d5e52d72-7f84-413c-a53d-920b22021323"
   },
   "outputs": [
    {
     "data": {
      "text/html": [
       "<div>\n",
       "<style scoped>\n",
       "    .dataframe tbody tr th:only-of-type {\n",
       "        vertical-align: middle;\n",
       "    }\n",
       "\n",
       "    .dataframe tbody tr th {\n",
       "        vertical-align: top;\n",
       "    }\n",
       "\n",
       "    .dataframe thead th {\n",
       "        text-align: right;\n",
       "    }\n",
       "</style>\n",
       "<table border=\"1\" class=\"dataframe\">\n",
       "  <thead>\n",
       "    <tr style=\"text-align: right;\">\n",
       "      <th></th>\n",
       "      <th>Scale1</th>\n",
       "      <th>Scale2</th>\n",
       "    </tr>\n",
       "  </thead>\n",
       "  <tbody>\n",
       "    <tr>\n",
       "      <th>Scale1</th>\n",
       "      <td>416.800654</td>\n",
       "      <td>317.562092</td>\n",
       "    </tr>\n",
       "    <tr>\n",
       "      <th>Scale2</th>\n",
       "      <td>317.562092</td>\n",
       "      <td>809.163399</td>\n",
       "    </tr>\n",
       "  </tbody>\n",
       "</table>\n",
       "</div>"
      ],
      "text/plain": [
       "            Scale1      Scale2\n",
       "Scale1  416.800654  317.562092\n",
       "Scale2  317.562092  809.163399"
      ]
     },
     "execution_count": 14,
     "metadata": {},
     "output_type": "execute_result"
    }
   ],
   "source": [
    "# Get the covariance matrix of the whole data\n",
    "data.cov()\n",
    "\n",
    "# "
   ]
  },
  {
   "cell_type": "markdown",
   "metadata": {
    "id": "OR8MabupyY_2"
   },
   "source": [
    "### Try out 2:\n",
    "Calculate the mean of the two scales and add as another variable \"Scale 3\" in the data frame. Calculate the covariance matrix and compare. "
   ]
  },
  {
   "cell_type": "code",
   "execution_count": 12,
   "metadata": {
    "colab": {
     "base_uri": "https://localhost:8080/",
     "height": 132
    },
    "executionInfo": {
     "elapsed": 916,
     "status": "error",
     "timestamp": 1620374822498,
     "user": {
      "displayName": "",
      "photoUrl": "",
      "userId": ""
     },
     "user_tz": -120
    },
    "id": "PrztoITHyY_2",
    "outputId": "f9e713db-0f2e-4ada-c18d-419dc7ca7d0e"
   },
   "outputs": [],
   "source": [
    "# Add another variable consisting of the mean data of Scale1 and Scale2\n",
    "#data['Scale3']=(data.Scale1 + data.Scale2)/2\n",
    "#data\n",
    "\n",
    "# calculate covariance matrix\n",
    "#data.cov()"
   ]
  },
  {
   "cell_type": "markdown",
   "metadata": {
    "id": "raHuq2Y5yY_3"
   },
   "source": [
    "<a id= 'Coefficient'> </a>"
   ]
  },
  {
   "cell_type": "markdown",
   "metadata": {
    "id": "rhDc4jjWyY_3"
   },
   "source": [
    "## 3. Correlation coefficient\n",
    "\n",
    "The Pearson Product-Moment Correlation Coefficient (r, or \"correlation coefficient\" for short) is a standardized measure of the linear relationship between two variables. The degree to which the relationship\n",
    "can be explained by a linear model is expressed by the coefficient, r.\n",
    "\n",
    "Departing from the covariance, the equation for the coefficient can be written as\n",
    "\n",
    "$$r =  \\frac {cov_{xy}} {s_x s_y} =\\frac {\\sum{ (x_i - \\bar{x}) (y_i - \\bar{y})} } {(N-1){s_x s_y}}$$\n",
    "\n",
    "Where $s_x$ and $s_y$ are the sample standard deviations for x and y. Dividing the covariance with them gives a value which can be interpreted as follows:\n",
    "\n",
    "If r = 1, x and y are positively correlated (perfectly)\n",
    "\n",
    "If r = -1, x and y are negatively correlated (perfectly)\n",
    "\n",
    "If r = 0, x and y have no linear correlation\n",
    "\n",
    "If r > 0 and r < 1, x and y are positively correlated (but not perfectly)\n",
    "\n",
    "If r < 0 and r > -1, x and y are negatively correlated (but not perfectly)\n",
    "\n",
    "\n",
    "\n",
    "\n"
   ]
  },
  {
   "cell_type": "code",
   "execution_count": 8,
   "metadata": {
    "colab": {
     "base_uri": "https://localhost:8080/",
     "height": 106
    },
    "executionInfo": {
     "elapsed": 995,
     "status": "ok",
     "timestamp": 1620374982282,
     "user": {
      "displayName": "",
      "photoUrl": "",
      "userId": ""
     },
     "user_tz": -120
    },
    "id": "c7KTUdEByY_4",
    "outputId": "d2a17115-3dd2-4fc6-f140-3df142f90675"
   },
   "outputs": [
    {
     "data": {
      "text/html": [
       "<div>\n",
       "<style scoped>\n",
       "    .dataframe tbody tr th:only-of-type {\n",
       "        vertical-align: middle;\n",
       "    }\n",
       "\n",
       "    .dataframe tbody tr th {\n",
       "        vertical-align: top;\n",
       "    }\n",
       "\n",
       "    .dataframe thead th {\n",
       "        text-align: right;\n",
       "    }\n",
       "</style>\n",
       "<table border=\"1\" class=\"dataframe\">\n",
       "  <thead>\n",
       "    <tr style=\"text-align: right;\">\n",
       "      <th></th>\n",
       "      <th>Scale1</th>\n",
       "      <th>Scale2</th>\n",
       "    </tr>\n",
       "  </thead>\n",
       "  <tbody>\n",
       "    <tr>\n",
       "      <th>Scale1</th>\n",
       "      <td>1.000000</td>\n",
       "      <td>0.546822</td>\n",
       "    </tr>\n",
       "    <tr>\n",
       "      <th>Scale2</th>\n",
       "      <td>0.546822</td>\n",
       "      <td>1.000000</td>\n",
       "    </tr>\n",
       "  </tbody>\n",
       "</table>\n",
       "</div>"
      ],
      "text/plain": [
       "          Scale1    Scale2\n",
       "Scale1  1.000000  0.546822\n",
       "Scale2  0.546822  1.000000"
      ]
     },
     "execution_count": 8,
     "metadata": {
      "tags": []
     },
     "output_type": "execute_result"
    }
   ],
   "source": [
    "\n",
    "data.corr()"
   ]
  },
  {
   "cell_type": "markdown",
   "metadata": {},
   "source": [
    "Just as in the covariance matrix, r(Scale1,Scale2) is the same as r(Scale2,Scale1) and the diagonal is all 1. In literature, you may frequently see correlation matrixes where the numbers above the diagonal are omitted. "
   ]
  },
  {
   "cell_type": "markdown",
   "metadata": {
    "id": "B2yrhGVayY_4"
   },
   "source": [
    "By calculating the correlation coefficient for different ratings of the same stimuli, it is possible to judge how *reliable* the measure is. For instance, it can show the degree to which participants tend to rate a stimulus the same way when presented with it several times. \n",
    "\n",
    "If $r$ is close to 1, it implies that the measure is reliable, as the ratings of the same stimulus show small variability.\n",
    "\n",
    "If $r$ is close to 0, it implies that the measure is unreliable and noisy, i.e. with large variability.\n"
   ]
  },
  {
   "cell_type": "markdown",
   "metadata": {
    "id": "RkPJyXYxyY_5"
   },
   "source": [
    "### Try out 3:\n",
    "When converting analog signals to digital, there are limited values that can be represented in the computer. \n",
    "In this case, we have data from a distance sensor, the produced voltage output (analog), and the converted ADC (digital) value. Plot the two latter and calculate their correlation coefficient.\n"
   ]
  },
  {
   "cell_type": "code",
   "execution_count": 10,
   "metadata": {
    "colab": {
     "base_uri": "https://localhost:8080/",
     "height": 300
    },
    "executionInfo": {
     "elapsed": 1086,
     "status": "ok",
     "timestamp": 1620375724117,
     "user": {
      "displayName": "",
      "photoUrl": "",
      "userId": ""
     },
     "user_tz": -120
    },
    "id": "uj4bAikQyY_5",
    "outputId": "6f81337f-9d12-499c-df87-a43a5b2bce4f"
   },
   "outputs": [
    {
     "name": "stdout",
     "output_type": "stream",
     "text": [
      "(31, 3)\n"
     ]
    },
    {
     "data": {
      "text/plain": [
       "[<matplotlib.lines.Line2D at 0x7fd6d1cc6990>]"
      ]
     },
     "execution_count": 10,
     "metadata": {
      "tags": []
     },
     "output_type": "execute_result"
    },
    {
     "data": {
      "image/png": "[encoded data removed]",
      "text/plain": [
       "<Figure size 432x288 with 1 Axes>"
      ]
     },
     "metadata": {
      "needs_background": "light",
      "tags": []
     },
     "output_type": "display_data"
    }
   ],
   "source": [
    "# Here is an excerpt from the data:\n",
    "array=np.array([[1200,94,0.46],\n",
    "[1210,93,0.45],\n",
    "[1220,93,0.45],\n",
    "[1230,92,0.45],\n",
    "[1240,90,0.44],\n",
    "[1250,89,0.43],\n",
    "[1260,89,0.43],\n",
    "[1270,89,0.43],\n",
    "[1280,88,0.43],\n",
    "[1290,86,0.42],\n",
    "[1300,85,0.42],\n",
    "[1310,85,0.42],\n",
    "[1320,85,0.42],\n",
    "[1330,84,0.41],\n",
    "[1340,83,0.41],\n",
    "[1350,82,0.40],\n",
    "[1360,81,0.40],\n",
    "[1370,81,0.40],\n",
    "[1380,80,0.39],\n",
    "[1390,80,0.39],\n",
    "[1400,77,0.38],\n",
    "[1410,77,0.38],\n",
    "[1420,76,0.37],\n",
    "[1430,76,0.37],\n",
    "[1440,76,0.37],\n",
    "[1450,76,0.37],\n",
    "[1460,75,0.37],\n",
    "[1470,74,0.36],\n",
    "[1480,73,0.36],\n",
    "[1490,72,0.35],\n",
    "[1500,72,0.35]])\n",
    "\n",
    "# And to make it convenient we put this in a data frame with index for the participants\n",
    "index = [f'participant_{num}' for num in range(array.shape[0])] #generate row index for all entries\n",
    "\n",
    "sensor= pd.DataFrame(array, columns=([\"Distance\",\"ADC\", \"Voltage\"]), index=index)\n",
    "\n",
    "#check the format of data frame\n",
    "print(sensor.shape)\n",
    "\n",
    "sensor.describe()\n",
    "\n",
    "#one way to plot\n",
    "plt.plot(sensor.ADC, sensor.Voltage, '+')\n",
    "\n",
    "#calculate correlation as above"
   ]
  },
  {
   "cell_type": "markdown",
   "metadata": {
    "id": "zRQfvtODyY_6"
   },
   "source": [
    "As expected (and hoped for), the values are highly correlated. "
   ]
  },
  {
   "cell_type": "markdown",
   "metadata": {
    "id": "SqnOGiOuyY_6"
   },
   "source": [
    "<a id= 'Regression'> </a>"
   ]
  },
  {
   "cell_type": "markdown",
   "metadata": {
    "id": "6HCsuEK3yY_6"
   },
   "source": [
    "## 4. Linear Regression\n",
    "\n",
    "The relationship between $x$ and $y$ can be modelled using a straight line equation that expresses $y$ in terms of $x$. In other words, variable $y$ is predicted by $x$ in terms of a linear relationship between the two. The method finds the straight line that best fits the data points, and expresses it as follows:\n",
    "\n",
    "$$y=a+bx$$\n",
    "\n",
    "Where the constant $a$ is the *intercept* (the value of $y$ when $x=0$), and the constant $b$ is a measure of the *inclination* (the \"steepness\" or \"slope\" or \"gradient\" of the line). \n"
   ]
  },
  {
   "cell_type": "markdown",
   "metadata": {
    "id": "1LzdZSMRyY_6"
   },
   "source": [
    "\n",
    "For instance, if we want use the distance sensor in an application to measure distance, it would be far simpler if we know how the ADC values correspond to physical distance (mm). One way is to plot the values.\n"
   ]
  },
  {
   "cell_type": "code",
   "execution_count": null,
   "metadata": {
    "id": "WhY4r3TdyY_7",
    "outputId": "7707d96d-9015-4812-e6ea-31a16a8fe921"
   },
   "outputs": [
    {
     "data": {
      "image/png": "[encoded data removed]",
      "text/plain": [
       "<Figure size 432x288 with 1 Axes>"
      ]
     },
     "metadata": {
      "needs_background": "light",
      "tags": []
     },
     "output_type": "display_data"
    }
   ],
   "source": [
    "plt.scatter(sensor.ADC,sensor.Distance)\n",
    "plt.xlabel('Analogue to Digital Conversion (ADC value)')\n",
    "plt.ylabel('Distance (mm)')\n",
    "plt.show()"
   ]
  },
  {
   "cell_type": "markdown",
   "metadata": {
    "id": "lSI5Q_79yY_7"
   },
   "source": [
    " But more convenient would be to make a model using linear regression and *fit* a line to the points. "
   ]
  },
  {
   "cell_type": "markdown",
   "metadata": {
    "id": "8jqaxglyyY_7"
   },
   "source": [
    "### Try out 4:\n",
    "Apply a linear fit, print the output and identify a and b in the equation\n",
    " $Distance= a*ADC + b$"
   ]
  },
  {
   "cell_type": "code",
   "execution_count": 14,
   "metadata": {
    "colab": {
     "base_uri": "https://localhost:8080/"
    },
    "executionInfo": {
     "elapsed": 660,
     "status": "ok",
     "timestamp": 1620376677489,
     "user": {
      "displayName": "",
      "photoUrl": "",
      "userId": ""
     },
     "user_tz": -120
    },
    "id": "k1iKRsZuyY_7",
    "outputId": "4766172a-a034-424a-d94f-a4dea1715a48"
   },
   "outputs": [
    {
     "name": "stdout",
     "output_type": "stream",
     "text": [
      "[ -13.35905977 2450.18321291]\n"
     ]
    }
   ],
   "source": [
    "distmodel=np.polyfit(sensor.ADC,sensor.Distance,1)\n",
    "\n",
    "# 1st order polynomial = Line, for more info see:\n",
    "# help(np.polyfit)\n",
    "\n",
    "print(distmodel)  \n",
    "# for  decrease of 1 ADC the corresponding distance increases by... (first number)\n",
    "# for  0 ADC output the corresponding distance would be... (second)"
   ]
  },
  {
   "cell_type": "markdown",
   "metadata": {
    "id": "nZC7K0J-yY_8"
   },
   "source": [
    "It is important to check whether the output of the model makes sense in relation to the data. \n",
    "\n",
    "We can also check the prediction of our model by producing values according to it, and plot it with the original data."
   ]
  },
  {
   "cell_type": "code",
   "execution_count": 13,
   "metadata": {
    "colab": {
     "base_uri": "https://localhost:8080/",
     "height": 279
    },
    "executionInfo": {
     "elapsed": 886,
     "status": "ok",
     "timestamp": 1620376266267,
     "user": {
      "displayName": "",
      "photoUrl": "",
      "userId": ""
     },
     "user_tz": -120
    },
    "id": "9Sv7sdicyY_8",
    "outputId": "8e3f80b8-c578-417c-f597-996044136b96"
   },
   "outputs": [
    {
     "data": {
      "image/png": "[encoded data removed]",
      "text/plain": [
       "<Figure size 432x288 with 1 Axes>"
      ]
     },
     "metadata": {
      "needs_background": "light",
      "tags": []
     },
     "output_type": "display_data"
    }
   ],
   "source": [
    "Distpred=np.poly1d(distmodel) # construct predicted output based on model\n",
    "\n",
    "D_lin_reg=Distpred(sensor.ADC)\n",
    "plt.scatter(sensor.ADC,sensor.Distance)\n",
    "plt.plot(sensor.ADC,D_lin_reg, c='r')\n",
    "\n",
    "plt.xlabel('Analogue to Digital Conversion (ADC value)')\n",
    "plt.ylabel('Distance (mm)')\n",
    "plt.show()"
   ]
  },
  {
   "cell_type": "markdown",
   "metadata": {
    "id": "ObmvIv4vyY_8"
   },
   "source": [
    "The regression model, and prediction of data based on it, is a fundamental concept of machine learning. In reality though, the data and models are often much more complex. \n",
    "\n",
    "It is important to stress that both correlation and linear regression express the *LINEAR* relationship between variables. There can be other, non-linear relationships in data that we should not use these methods for.\n",
    "\n",
    "In the above plot, we have quite a good fit. But in our example, we have only used a only a small portion of the sensor range.  \n",
    "We could use the full data available and see whether our model would also be useful for other ranges."
   ]
  },
  {
   "cell_type": "markdown",
   "metadata": {
    "id": "PJzOxbJOyY_8"
   },
   "source": [
    "### Try out 5:\n",
    "Get the full data (DistanceSensorData.csv,  https://lucidar.me/en/arduino/files/SHARP_Distance_Sensors.zip from https://lucidar.me/en/arduino/arduino-accurate-distance-measurement-sharp-GP2Y0A21YK/)\n",
    "Load it and plot. Would it be suitable to perform a linear regression on the data? "
   ]
  },
  {
   "cell_type": "code",
   "execution_count": 1,
   "metadata": {
    "colab": {
     "base_uri": "https://localhost:8080/",
     "height": 455
    },
    "executionInfo": {
     "elapsed": 532,
     "status": "error",
     "timestamp": 1620376847545,
     "user": {
      "displayName": "",
      "photoUrl": "",
      "userId": ""
     },
     "user_tz": -120
    },
    "id": "NDFRACoByY_8",
    "outputId": "3ecc3d00-1634-4284-b94c-050e836fc6be"
   },
   "outputs": [],
   "source": [
    "#Load the data. You can use pd.read_csv like the suggstion here:\n",
    "# Sharp = pd.read_csv('DistanceSensorData.csv', delimiter = '\\t',names=('Distance', 'ADC','Voltage'))\n",
    "\n",
    "# remember to check shape and content of the data frame once loaded\n",
    "\n",
    "# see what the correlation function and linear regression would put out."
   ]
  },
  {
   "cell_type": "code",
   "execution_count": null,
   "metadata": {},
   "outputs": [],
   "source": []
  }
 ],
 "metadata": {
  "colab": {
   "name": "Copy of DAE5_Correlation.ipynb",
   "provenance": [
    {
     "file_id": "https://github.com/sofiadahl/Design_and_Analysis_of_Experiments/blob/main/DAE5_Correlation.ipynb",
     "timestamp": 1620376918292
    }
   ]
  },
  "kernelspec": {
   "display_name": "Python 3",
   "language": "python",
   "name": "python3"
  },
  "language_info": {
   "codemirror_mode": {
    "name": "ipython",
    "version": 3
   },
   "file_extension": ".py",
   "mimetype": "text/x-python",
   "name": "python",
   "nbconvert_exporter": "python",
   "pygments_lexer": "ipython3",
   "version": "3.7.3"
  }
 },
 "nbformat": 4,
 "nbformat_minor": 4
}
