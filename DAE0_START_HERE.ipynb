{
 "cells": [
  {
   "cell_type": "markdown",
   "metadata": {
    "id": "C-z71414BnfZ"
   },
   "source": [
    "# Design and Analysis of Experiments (DAE) 0: START HERE\n",
    "\n",
    "Author:\n",
    "- |\n",
    "    Sofia Dahl, sof@create.aau.dk\\\n",
    "    Dept. Architecture, Design and Media Technology, Aalborg University Copenhagen\n",
    "---\n",
    "\n",
    "## Learning Goals\n",
    "After working your way through this notebook you should be able to:\n",
    "\n",
    "- Have an idea about the what, why and when for data collection and analysis\n",
    "- Make an informed decision about whether it will be useful for you\n",
    "\n",
    "  \n",
    "\n",
    "## Table of Contents\n",
    "- [0. What is this?](#What)\n",
    "- [1. Why is this important?](#Why)\n",
    "    - [1.1 Data](#Data)\n",
    "- [2. When to do data collection?](#When)\n",
    "- [3. How to use this book?](#How)\n"
   ]
  },
  {
   "cell_type": "code",
   "execution_count": 2,
   "metadata": {
    "executionInfo": {
     "elapsed": 889,
     "status": "ok",
     "timestamp": 1620109279291,
     "user": {
      "displayName": "",
      "photoUrl": "",
      "userId": ""
     },
     "user_tz": -120
    },
    "id": "CixUwUz0Bnfg"
   },
   "outputs": [],
   "source": [
    "%matplotlib inline\n",
    "import numpy as np\n",
    "import pandas as pd\n",
    "import matplotlib.pyplot as plt"
   ]
  },
  {
   "cell_type": "markdown",
   "metadata": {
    "id": "Itlq_U7VBnfi"
   },
   "source": [
    "<a id= 'What'> </a>"
   ]
  },
  {
   "cell_type": "markdown",
   "metadata": {
    "id": "7BD6GoVGBnfi"
   },
   "source": [
    "\n",
    "## 0. What is this? \n",
    "\n",
    "This is an online book that aims to give students (and others) the basic principles and concepts of\n",
    "the Design and Analysis of Experiments, constructed as a set of Jupiter notebooks with some incorporated exercises using Python. The book has been developed over some years of teaching a BSc course, and the goal is simply to give students in Media Technology, and related ares, a quick and accessible introduction, and hands-on feel, for important concepts and what to consider when planning, collecting and analysing experimental data. \n",
    "\n",
    "The aim is to \n",
    "- give an introduction to concepts and methods important in experimental design and statistical analysis of data\n",
    "- be brief enough to be useful as a first reference point and re-cap to students of media technology \n",
    "\n",
    "The topic is covered in the following notebooks:\n",
    "- DAE 1 Variables\n",
    "- DAE 2 Designing Experiments\n",
    "- DAE 3 Measuring Validity and Reliability\n",
    "- DAE 4 Descriptive Statistics\n",
    "- DAE 5 Correlation and Linear Regression\n",
    "- DAE 6 Inferential Statistics\n",
    "- DAE 7 Parametric Data\n",
    "- DAE 8 Student t-test\n",
    "- DAE 9 ANOVA\n",
    "- DAE 10 Non-parametric tests\n",
    "\n",
    "\n",
    "It is *not* an exhaustive text book that covers all possible concerns or statistical approaches. There are plenty of these already. It is my hope that after going through the book and exercises, you should feel confident enough to pick up a book on statistics, and work out what type of measurement instruments and analysis that are appropriate to use for a particular evaluation. \n",
    "\n",
    "It is *not* an introduction to python programming or any statistical software. The book is using python, but my aim is that it should be possible to do follow the reasoning without specific programming skill (or even doing the exercises). For a brief introduction to Python please check out software-carpentry https://software-carpentry.org/lessons/ and the quick intro to pandas, https://pandas.pydata.org/pandas-docs/stable/user_guide/10min.html?highlight=randint.\n",
    "\n"
   ]
  },
  {
   "cell_type": "markdown",
   "metadata": {
    "id": "Itlq_U7VBnfi"
   },
   "source": [
    "<a id= 'Why'> </a>"
   ]
  },
  {
   "cell_type": "markdown",
   "metadata": {
    "id": "7BD6GoVGBnfi"
   },
   "source": [
    "\n",
    "## 1 Why is this important? \n",
    "\n",
    "In industry as well as research, we make decisions that have consequences on how we use our time and resources. Decision on whether a product or service is solving a problem well enough for people to want to buy it; whether a new product is working well enough to invest in; whether a new algorithm is doing the job better than the previous one and so on. Here are some example cases relevant to Sound and Music Computing and media technology in general:\n",
    "\n",
    "\n",
    "*Evaluating audio analysis algorithms*\n",
    "You’ve written a cool new polyphonic pitch detection algorithm using deep learning, but you don’t really know how it compares to what’s already out there (e.g. Melodyne). In order to convince the investors and buyers, you need to investigate how it performs in terms of \n",
    "- Accuracy - how precisely does the detected pitch match the actual pitch?  \n",
    "- Different signal types – does it work equally well for all kinds of instruments?\n",
    "- Polyphony – what happens when the number of simultaneous notes increases?\n",
    "- Noise Robustness – How does it perform under different noise conditions? \n",
    "- Computational performance – how CPU-hungry is it? Can it work well in real-time without dropouts and crazy latency? \n",
    "- Usability – how easy is the interface to navigate?\n",
    "In order to evaluate this, you need to collect and analyze data using the right methods.\n",
    "\n",
    "*Testing new hardware products*\n",
    "You're part of a Research and Development (RnD) team building new awesome harware. Let's say this happens to be the next Neumann large diaphragm condenser mic, and you want to know if it beats the classic U87. For that you need to compare the two in terms of \n",
    "- Frequency response\n",
    "- Transient response\n",
    "- Near/far-field responses, on-axis and off-axis \n",
    "- Physical robustness\n",
    "Evaluating this will help you determine whether your product is better than the classic.\n",
    "\n",
    "\n",
    "Similar concerns applies if you’re serious about making this the next killer app for next-gen producers; if you're building digital instruments, VST plugins, any software/hardware targeted at meaningful sonic interaction as well as answering  questions on what we can perceive and understand. In all cases we need to base our evaluation on some data. And how we collect and analyse therefore is of great importance. Bad data can result in bad or incorrect decisions.\n",
    "\n",
    "As you start to collect your own data, you may notice that a considerable work often lies in figuring out how data should be organised (and/or cleaned up) for analysis. The path varies with both data type and the software used. Guiding through this is outside the scope of the book and I have minimised the use of data import. \n"
   ]
  },
  {
   "cell_type": "markdown",
   "metadata": {
    "id": "BMy5XJXtBnfi"
   },
   "source": [
    "<a id= 'When'> </a>"
   ]
  },
  {
   "cell_type": "markdown",
   "metadata": {
    "id": "BjA_6dzjBnfj"
   },
   "source": [
    "\n",
    "### 2. When to do data collection?\n",
    "\n",
    "As soon as we need to evaluate and make informed decisions, we should collect data. It is my hope, that by going through this book (and other more detailed books) you will know how to get *useful* data. \n",
    "\n",
    "The more you think through the data and do pilot tests, the better positioned you will be to have good quality data that will help you to make informed decisions.\n",
    "\n",
    "However, it is not necessarily so that your data collection should be in the form of an experiment. In many contexts, it does not make sense to spend time and resources to set-up full-fledged experiments. Specifically in the development and implementation of many products, interfaces or experiences (e.g. artistic art projects) the main goal with the data collection is often to identify issues that can be acted on early on in the process. \n",
    "\n",
    "Therefore a series of usability test with a handful of participants would often serve better than devoting resources on recruting large groups of participants. The latter can be done after the product is fully developed, functional and a proper experimeantal evaluation is meaningful. For instance the desire to compare the performance of a newly developed algorithm or interface against existing state-of-the art. "
   ]
  },
  {
   "cell_type": "markdown",
   "metadata": {
    "id": "BMy5XJXtBnfi"
   },
   "source": [
    "<a id= 'How'> </a>"
   ]
  },
  {
   "cell_type": "markdown",
   "metadata": {
    "id": "BjA_6dzjBnfj"
   },
   "source": [
    "\n",
    "### 3. How to use this book?\n",
    "\n",
    "This interactive book is built up around Jupyter notebooks 1-10, that will take you through the basic concepts, concerns and techniques related to the collection and analysis of data. Each notebook starts with the intended learning goal, and then theory and small exercises are mixed. Each part is fairly stand alone, but I recommend that you follow the order and start with DAE1 - Variables. \n",
    "The notebooks can be read and/or downloaded from  Github\n",
    "https://github.com/sofiadahl/Design_and_Analysis_of_Experiments/\n",
    "\n",
    "or you can both read and do the interactiv tasks from Colab (mirroring the same Github)\n",
    "\n",
    "https://colab.research.google.com/github/sofiadahl/Design_and_Analysis_of_Experiments/blob/main/\n",
    "\n",
    "Please contact me if you find anything strange, not working, or have other feedback!\n"
   ]
  }
 ],
 "metadata": {
  "colab": {
   "name": "Copy of DAE1_Variables.ipynb",
   "provenance": [
    {
     "file_id": "https://github.com/sofiadahl/Design_and_Analysis_of_Experiments/blob/main/DAE1_Variables.ipynb",
     "timestamp": 1620111895012
    }
   ]
  },
  "kernelspec": {
   "display_name": "Python 3",
   "language": "python",
   "name": "python3"
  },
  "language_info": {
   "codemirror_mode": {
    "name": "ipython",
    "version": 3
   },
   "file_extension": ".py",
   "mimetype": "text/x-python",
   "name": "python",
   "nbconvert_exporter": "python",
   "pygments_lexer": "ipython3",
   "version": "3.7.3"
  }
 },
 "nbformat": 4,
 "nbformat_minor": 4
}
