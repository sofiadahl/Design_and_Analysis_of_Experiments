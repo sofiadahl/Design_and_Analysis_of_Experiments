{
 "cells": [
  {
   "cell_type": "markdown",
   "metadata": {
    "id": "oljV2Xl36il0"
   },
   "source": [
    "# DAE 7 Checking Parametric Data\n",
    "\n",
    "Author:\n",
    "- |\n",
    "    Sofia Dahl, sof@create.aau.dk\\\n",
    "    Dept. Architecture, Design and Media Technology, Aalborg University Copenhagen\n",
    "---\n",
    "\n",
    "After working your way through this notebook you should be able to..\n",
    "-   Explain assumptions for parametric tests\n",
    "      - interval or ratio data\n",
    "      - normal distribution\n",
    "      - similar variance\n",
    "-   Test the validity of these assumptions        \n",
    "\n",
    "  Table of Contents\n",
    "  -----\n",
    "- [1 Parametric Data](#Parametric)\n",
    "- [2 Assumptions for parametric tests](#Assumptions)\n",
    "    - [2.1 Interval data ](#Interval)\n",
    "    - [2.2 Equal variance](#EqualVariance)\n",
    "    - [2.3 Data from Normal Distribution](#NormalDist)\n",
    "- [3 Apply Caution and Common sense](#CommonSense)\n",
    "    - [3.1 What if my data is not parametric?](#Alternatives)"
   ]
  },
  {
   "cell_type": "code",
   "execution_count": 2,
   "metadata": {
    "executionInfo": {
     "elapsed": 876,
     "status": "ok",
     "timestamp": 1620903929429,
     "user": {
      "displayName": "Prithvi Kantan",
      "photoUrl": "https://lh3.googleusercontent.com/a-/AOh14GiCLUP5h_S53ydSDrgq_SLOZBd5_3wFs87fFb5XQA=s64",
      "userId": "18111691564717832004"
     },
     "user_tz": -120
    },
    "id": "ZwTdsVAW6il9"
   },
   "outputs": [],
   "source": [
    "%matplotlib inline\n",
    "\n",
    "import numpy as np\n",
    "import pandas as pd\n",
    "import matplotlib.pyplot as plt\n",
    "import scipy.stats as stats"
   ]
  },
  {
   "cell_type": "code",
   "execution_count": null,
   "metadata": {},
   "outputs": [],
   "source": [
    "from google.colab import files\n",
    "\n",
    "uploaded = files.upload()"
   ]
  },
  {
   "cell_type": "markdown",
   "metadata": {
    "id": "E3ei2BHL6il-"
   },
   "source": [
    "<a id= 'Parametric'> </a>"
   ]
  },
  {
   "cell_type": "markdown",
   "metadata": {
    "id": "4RgYJyIV6il-"
   },
   "source": [
    "\n",
    "## 1. Parametric Data\n",
    "\n",
    "As we have already concluded, frequency distributions give us the access to the probability that an event will occur. When we use inferential statistics, we are interested in making models of the data that will tell us something about how likely we are to observe changes in sample means just by chance. \n",
    "\n",
    "If we know that the type of frequency distribution we are dealing with is *normal*, we have the options of using parametric tests. These tests have *more statistical power* than tests for non-normal distributions. That is, given a specific alpha-level, we are more likely to detect a real change with smaller sample sizes when we use parametric tests than when we use non-parametric tests. \n",
    "\n",
    "So there are plenty of reasons for us to want parametric data. Correspondingly, we have to check that our data fulfill some assumptions, if we wish to use the parametric tests.\n",
    "\n",
    "The assumptions are based on the knowledge that parametric tests use the (arithmetic) mean and variance - characteristics that describe the normal distribution. It is therefore important for us to ensure that these measures are meaningful and accurate enough **for our data**. Otherwise the parametric tests will not owrk as intended. That is, we can still run the parametric test functions, but cannot trust the results that they yield. "
   ]
  },
  {
   "cell_type": "markdown",
   "metadata": {
    "id": "6GrS2Zuw6il-"
   },
   "source": [
    "<a id= 'Assumptions'> </a>"
   ]
  },
  {
   "cell_type": "markdown",
   "metadata": {
    "id": "6Dye-JzZ6il_"
   },
   "source": [
    "## 2 Assumptions for parametric tests\n",
    "\n",
    "Before we can start using parametric tests to test hypotheses, we need to check that our data fulfill some criteria: \n",
    "\n",
    "- Data should be on an interval or ratio scale\n",
    "\n",
    "- Variances should be approximately equal for different groups (e.g. experimental v.s control condition)\n",
    "\n",
    "- Data come from a normally distributed population\n",
    "\n",
    "How can we find out if the data fulfills these criteria?\n",
    "Looking at the data is a good first step, but perhaps not enough. There are some tests that can be use to get a more objective view. For both approaches, some common sense has to be applied. \n"
   ]
  },
  {
   "cell_type": "markdown",
   "metadata": {
    "id": "1_nHwQqi6il_"
   },
   "source": [
    "<a id= 'Interval'> </a>"
   ]
  },
  {
   "cell_type": "markdown",
   "metadata": {
    "id": "VbSd3W3s6il_"
   },
   "source": [
    "### 2.1 Interval data\n",
    "\n",
    "If the measurement is based on physical measures (e.g. time, voltage, distance, level of stress hormone..) there is not much to worry about here. But if you have collected ratings and used ordinal scales, this assumption is violated. This is yet another reason to think carefully before choosing the type of measurement to use. \n",
    "\n",
    "Likert items as a rule tend to use ordinal scales. However, if a subscale is based on several Likert items that are combined, one could argue that the measure could be considered an interval scale. Views on this differ.\n",
    "\n",
    "If using a visual analogue scale for the ratings, it is not ordered categorical data any more. If there is reason to believe that the distance along the scale is consistent, one could argue that it is interval data."
   ]
  },
  {
   "cell_type": "markdown",
   "metadata": {
    "id": "hDSfXNRw6imA"
   },
   "source": [
    "Let us look at some real data (Stroopdata.txt). The data is from a known psychological experiment and shows the time (in seconds) each participant needed to label the colours in, where the colours can be either \"congruent\" with the word  or \"incongruent\" as here:\n",
    "\n",
    "\n",
    "<img src=\"https://upload.wikimedia.org/wikipedia/commons/d/dd/Stroop_icon.svg\" width=\"200\">\n",
    "Grutness at en.wikipediaOwn work, Public domain, via Wikimedia Commons\n"
   ]
  },
  {
   "cell_type": "code",
   "execution_count": 3,
   "metadata": {
    "colab": {
     "base_uri": "https://localhost:8080/",
     "height": 455
    },
    "executionInfo": {
     "elapsed": 768,
     "status": "error",
     "timestamp": 1620477833949,
     "user": {
      "displayName": "Prithvi Kantan",
      "photoUrl": "https://lh3.googleusercontent.com/a-/AOh14GiCLUP5h_S53ydSDrgq_SLOZBd5_3wFs87fFb5XQA=s64",
      "userId": "18111691564717832004"
     },
     "user_tz": -120
    },
    "id": "K00b8id46imA",
    "outputId": "5a34995e-1fe0-46b6-b66f-41784ae2c417"
   },
   "outputs": [
    {
     "data": {
      "text/html": [
       "<div>\n",
       "<style scoped>\n",
       "    .dataframe tbody tr th:only-of-type {\n",
       "        vertical-align: middle;\n",
       "    }\n",
       "\n",
       "    .dataframe tbody tr th {\n",
       "        vertical-align: top;\n",
       "    }\n",
       "\n",
       "    .dataframe thead th {\n",
       "        text-align: right;\n",
       "    }\n",
       "</style>\n",
       "<table border=\"1\" class=\"dataframe\">\n",
       "  <thead>\n",
       "    <tr style=\"text-align: right;\">\n",
       "      <th></th>\n",
       "      <th>Congruent</th>\n",
       "      <th>Incongruent</th>\n",
       "    </tr>\n",
       "  </thead>\n",
       "  <tbody>\n",
       "    <tr>\n",
       "      <th>count</th>\n",
       "      <td>24.000000</td>\n",
       "      <td>24.000000</td>\n",
       "    </tr>\n",
       "    <tr>\n",
       "      <th>mean</th>\n",
       "      <td>14.051125</td>\n",
       "      <td>22.015917</td>\n",
       "    </tr>\n",
       "    <tr>\n",
       "      <th>std</th>\n",
       "      <td>3.559358</td>\n",
       "      <td>4.797057</td>\n",
       "    </tr>\n",
       "    <tr>\n",
       "      <th>min</th>\n",
       "      <td>8.630000</td>\n",
       "      <td>15.687000</td>\n",
       "    </tr>\n",
       "    <tr>\n",
       "      <th>25%</th>\n",
       "      <td>11.895250</td>\n",
       "      <td>18.716750</td>\n",
       "    </tr>\n",
       "    <tr>\n",
       "      <th>50%</th>\n",
       "      <td>14.356500</td>\n",
       "      <td>21.017500</td>\n",
       "    </tr>\n",
       "    <tr>\n",
       "      <th>75%</th>\n",
       "      <td>16.200750</td>\n",
       "      <td>24.051500</td>\n",
       "    </tr>\n",
       "    <tr>\n",
       "      <th>max</th>\n",
       "      <td>22.328000</td>\n",
       "      <td>35.255000</td>\n",
       "    </tr>\n",
       "  </tbody>\n",
       "</table>\n",
       "</div>"
      ],
      "text/plain": [
       "       Congruent  Incongruent\n",
       "count  24.000000    24.000000\n",
       "mean   14.051125    22.015917\n",
       "std     3.559358     4.797057\n",
       "min     8.630000    15.687000\n",
       "25%    11.895250    18.716750\n",
       "50%    14.356500    21.017500\n",
       "75%    16.200750    24.051500\n",
       "max    22.328000    35.255000"
      ]
     },
     "execution_count": 3,
     "metadata": {},
     "output_type": "execute_result"
    }
   ],
   "source": [
    "# We load some data from a stroop test.\n",
    "data = pd.read_csv('Stroopdata.txt', delimiter = '\\t', index_col=0,header=0) \n",
    "data.describe()\n",
    "\n",
    "# you can also describe only one variable like this\n",
    "#data.Incongruent.describe() "
   ]
  },
  {
   "cell_type": "markdown",
   "metadata": {
    "id": "KrmIeocg6imB"
   },
   "source": [
    "### Try out 1: \n",
    "\n",
    "What measurement scale is used? Does it fulfill the assumption of interval data?"
   ]
  },
  {
   "cell_type": "markdown",
   "metadata": {
    "id": "Unf8Ev576imB"
   },
   "source": [
    "<a id= 'EqualVariance'> </a>"
   ]
  },
  {
   "cell_type": "markdown",
   "metadata": {
    "id": "yH4ZNP5U6imC"
   },
   "source": [
    "### 2.2 Equal variance\n",
    "An important assumption is that the data has (approximately) equal variance. This is important because **the variance says something about the precision of the mean**, and so it is not ideal for different groups we compare to have different mean measurement precisions. \n",
    "\n",
    "This is also an assumption that is easily violated when using small sample sizes. This is logical, because the larger the sample, the more similar the sample variance will be to the true variance of the population. \n",
    "\n",
    "Typically, we would start by looking at the spread of the data. Box plots are also useful here, because they quickly can help to summarize where the majority of data points are, and whether there are outliers."
   ]
  },
  {
   "cell_type": "code",
   "execution_count": 4,
   "metadata": {
    "id": "uBWdIMUZ6imC",
    "outputId": "77b67622-e825-4b74-9d62-dd6d97c7a500"
   },
   "outputs": [
    {
     "data": {
      "image/png": "[encoded data removed]",
      "text/plain": [
       "<Figure size 432x288 with 1 Axes>"
      ]
     },
     "metadata": {
      "needs_background": "light"
     },
     "output_type": "display_data"
    }
   ],
   "source": [
    "# Plot the data for the two cases\n",
    "plt.boxplot([data.Congruent,data.Incongruent])\n",
    "plt.show()\n"
   ]
  },
  {
   "cell_type": "markdown",
   "metadata": {
    "id": "HIrIC9yS6imC"
   },
   "source": [
    "#### Levene test\n",
    "We can also use a test such as the Levene test. In the help information for the function, we can read that \"The Levene test tests the null hypothesis that all input samples are from populations with equal variances.\" \n",
    "So to test whether we can use parametric tests, we actually use other statistical tests. And just like the statistical tests we want to use for our main hypothesis, we also need to be careful about the use and interpretation of these tests. "
   ]
  },
  {
   "cell_type": "code",
   "execution_count": 5,
   "metadata": {
    "id": "jVKpUaXH6imD",
    "outputId": "ad6c2375-060b-4560-bc57-14c69b69d91a"
   },
   "outputs": [
    {
     "data": {
      "text/plain": [
       "LeveneResult(statistic=0.2502499448677214, pvalue=0.6192840699128219)"
      ]
     },
     "execution_count": 5,
     "metadata": {},
     "output_type": "execute_result"
    }
   ],
   "source": [
    "# Levene variance test for the two groups, exclude NaN values\n",
    "stats.levene(data.Congruent.dropna(), data.Incongruent.dropna())\n",
    "#help(stats.levene) #to check details"
   ]
  },
  {
   "cell_type": "markdown",
   "metadata": {
    "id": "pKrhszsW6imD"
   },
   "source": [
    "How should the output be interpreted? The p-value gives the probability that the two samples come from populations with equal variances. The test statistic is something we report together with the p-value when writing, so that others can check up on whether it was correct, but otherwise we do not use it much."
   ]
  },
  {
   "cell_type": "markdown",
   "metadata": {
    "id": "wjzwSWIW6imD"
   },
   "source": [
    "### Try out 2: \n",
    "Based on the output of the Levene test, would you consider the assumption of equal variances fulfilled?\n"
   ]
  },
  {
   "cell_type": "markdown",
   "metadata": {
    "id": "rrNJz7ab6imE"
   },
   "source": [
    "<a id= 'NormalDist'> </a>"
   ]
  },
  {
   "cell_type": "markdown",
   "metadata": {
    "id": "6O8aIIkH6imE"
   },
   "source": [
    "### 2.3 Data from Normal Distribution\n",
    "Typically, this assumption is checked by plotting histograms of data. This can be a good start, but also deceptive. What we are trying to determine is the type of distribution of *the population* that the sample was drawn from. It is not easy to determine the shape of the distribution based on a histogram. Especially for smaller sample sizes, the histogram shape can vary a lot, and is also dependent on the number of frequency bins (value ranges) used to display the data. Here too, it makes sense to use other ways to look at the data and test the assumption. \n"
   ]
  },
  {
   "cell_type": "markdown",
   "metadata": {
    "id": "Q2N2NPDY6imE"
   },
   "source": [
    "#### QQ-plots\n",
    "QQ plots show the actual data points plotted against what could be expected if they had been drawn from a population with normal distribution. This is done by ordering the values against the theoretical quantiles. Ideally, the points should all line up along the diagonal. It is seldom seen that they do so perfectly, but when the data is offset too much, wiggles around the line, or forms an s-shape around the line, there is reason for caution. "
   ]
  },
  {
   "cell_type": "code",
   "execution_count": 6,
   "metadata": {
    "id": "4XnCpXmB6imE",
    "outputId": "d2f01007-c427-458c-b86f-8b83375a822d"
   },
   "outputs": [
    {
     "data": {
      "image/png": "[encoded data removed]",
      "text/plain": [
       "<Figure size 432x288 with 1 Axes>"
      ]
     },
     "metadata": {
      "needs_background": "light"
     },
     "output_type": "display_data"
    }
   ],
   "source": [
    "# Use stats.probplot to make a qq-plot\n",
    "stats.probplot(data.Congruent, plot=plt);\n",
    "\n",
    "# Now do it for Incongruent. Similar result?\n",
    "# stats.probplot(data.Incongruent, plot=plt);"
   ]
  },
  {
   "cell_type": "markdown",
   "metadata": {
    "id": "CFR61IH66imE"
   },
   "source": [
    "#### Normality tests\n",
    "There are several tests for normality, one being the Shapiro-Wilk test. This also tests a hypothesis (they all do) so it is a good practice to check the 'help' of a function to know how the hypothesis is formulated. \n"
   ]
  },
  {
   "cell_type": "markdown",
   "metadata": {
    "id": "WDmnc6Bw6imF"
   },
   "source": [
    "### Try out 3: \n",
    "Check the hypothesis of the Shapiro-Wilk test. Perform the test for both congruent and incongruent data."
   ]
  },
  {
   "cell_type": "code",
   "execution_count": 7,
   "metadata": {
    "colab": {
     "base_uri": "https://localhost:8080/"
    },
    "executionInfo": {
     "elapsed": 539,
     "status": "ok",
     "timestamp": 1620903934279,
     "user": {
      "displayName": "Prithvi Kantan",
      "photoUrl": "https://lh3.googleusercontent.com/a-/AOh14GiCLUP5h_S53ydSDrgq_SLOZBd5_3wFs87fFb5XQA=s64",
      "userId": "18111691564717832004"
     },
     "user_tz": -120
    },
    "id": "dH81PCy-6imF",
    "outputId": "da217e9c-02bf-4c96-ff5a-6b14426016ad"
   },
   "outputs": [],
   "source": [
    "# Shapiro-Wilk normality test for Congruent group \n",
    "#help(stats.shapiro)\n",
    "# stats.shapiro(data.Congruent)\n"
   ]
  },
  {
   "cell_type": "markdown",
   "metadata": {
    "id": "U0CS9uXo6imF"
   },
   "source": [
    "Given the results, it is not likely that the data in the Incongruent group is from a normal distribution. And indeed, when we plot the histogram, it has a clear positive skew. This is not uncommon for reaction time data when there is something that requires some extra cognitive effort. Some people will take much longer to respond than others, whereas it is the natural limits of neural communication that determine how fast responses that can be recorded."
   ]
  },
  {
   "cell_type": "code",
   "execution_count": null,
   "metadata": {
    "id": "RMJMBEdM6imF",
    "outputId": "075b166c-6da5-4671-e9c9-287993998903"
   },
   "outputs": [
    {
     "data": {
      "image/png": "[encoded data removed]",
      "text/plain": [
       "<Figure size 432x288 with 1 Axes>"
      ]
     },
     "metadata": {
      "needs_background": "light",
      "tags": []
     },
     "output_type": "display_data"
    }
   ],
   "source": [
    "plt.hist(data.Incongruent, bins=6)\n",
    "plt.show()"
   ]
  },
  {
   "cell_type": "markdown",
   "metadata": {
    "id": "l-rteDC76imF"
   },
   "source": [
    "<a id= 'CommonSense'> </a>"
   ]
  },
  {
   "cell_type": "markdown",
   "metadata": {
    "id": "IiVE6sS36imG"
   },
   "source": [
    "## 3. Apply Caution and Common Sense\n",
    "\n",
    "As mentioned above, there are some benefits of both plotting and testing - but also several things to be aware of. Histograms do not give a good idea of normality for small sample sizes, and it is difficult to know *how* much of a difference from normal is \"acceptable\". Here, the tests can help. However, as the power of a test is dependent on sample size, even small deviations in large sample sizes can light up the \"significant\"-flag, implying that data is significantly different from normality distributed data. Like for any other statistical test, we also accept a certain probability of making Type I (and Type II) errors.\n",
    "\n",
    "On the one hand, normally distributed data is perhaps not as commonly occuring in experiments as we would like it to be. On the other hand, several tests are also known to be robust enough to handle that data does not come from a perfectly normally distributed population. The violation of unequal variances is typically more severe. "
   ]
  },
  {
   "cell_type": "markdown",
   "metadata": {
    "id": "1rA-yrdp6imG"
   },
   "source": [
    "### Try out 4: \n",
    "Does this data fulfil the assumptions for parametric tests? Plot the data and perform tests for normality and equal variances as above. Change K so that sample sizes are \n",
    "\n",
    "- 20\n",
    "- 100\n",
    "- 1000\n",
    "\n",
    "Also plot histograms of the data."
   ]
  },
  {
   "cell_type": "code",
   "execution_count": null,
   "metadata": {
    "id": "YHjezBQw6imG",
    "outputId": "f233c4bf-f0b2-4d99-d4c4-a5cad9ae1ff5"
   },
   "outputs": [
    {
     "data": {
      "image/png": "[encoded data removed]",
      "text/plain": [
       "<Figure size 432x288 with 1 Axes>"
      ]
     },
     "metadata": {
      "needs_background": "light",
      "tags": []
     },
     "output_type": "display_data"
    }
   ],
   "source": [
    "#Does this data fulfil the assumptions for parametric tests?\n",
    "\n",
    "K=20 #variable for sample size\n",
    "score1=np.random.beta(0.4,0.5,K)\n",
    "score2=np.random.normal(0.01,0.5,K)\n",
    "\n",
    "#plot box plots\n",
    "plt.boxplot([score1,score2])\n",
    "plt.show()\n",
    "#plot qq-plots and perform tests for normality and equal variance\n",
    "#"
   ]
  },
  {
   "cell_type": "markdown",
   "metadata": {
    "id": "pyB18xl-6imH"
   },
   "source": [
    "As seen in this example, the higher sample size may result in a result that does not align with what we expect (given that the data is actually generated from a known distribution)."
   ]
  },
  {
   "cell_type": "markdown",
   "metadata": {
    "id": "Dvv1EwSy6imH"
   },
   "source": [
    "<a id= 'Alternatives'> </a>"
   ]
  },
  {
   "cell_type": "markdown",
   "metadata": {
    "id": "S5DFpQta6imH"
   },
   "source": [
    "### 3.1 What if my data is not parametric?\n",
    "\n",
    "If the assumptions for parametric data are violated, parametric tests should not be used. For most kinds of parametric tests, there is a corresponding non-parametric test that can be used as an alternative for data that do not fulfill the criteria. The reason why these tests are not the first choice is, again, that the power of parametric tests is greater, and so we in general need larger samples to detect effects in non-parametric data.\n",
    "\n",
    "To help guide you to the right type of test, there are flow charts such as this one:\n",
    "\n",
    "https://miro.medium.com/max/2000/1*LSlOc0hwlX20VyTm5DUu6w.png"
   ]
  },
  {
   "cell_type": "code",
   "execution_count": null,
   "metadata": {
    "id": "1c_t2y1x6imH"
   },
   "outputs": [],
   "source": []
  }
 ],
 "metadata": {
  "colab": {
   "collapsed_sections": [],
   "name": "Copy of DAE7_parametric.ipynb",
   "provenance": [
    {
     "file_id": "https://github.com/sofiadahl/Design_and_Analysis_of_Experiments/blob/main/DAE7_parametric.ipynb",
     "timestamp": 1620476828358
    }
   ]
  },
  "kernelspec": {
   "display_name": "Python 3",
   "language": "python",
   "name": "python3"
  },
  "language_info": {
   "codemirror_mode": {
    "name": "ipython",
    "version": 3
   },
   "file_extension": ".py",
   "mimetype": "text/x-python",
   "name": "python",
   "nbconvert_exporter": "python",
   "pygments_lexer": "ipython3",
   "version": "3.7.3"
  }
 },
 "nbformat": 4,
 "nbformat_minor": 4
}
