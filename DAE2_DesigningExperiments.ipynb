{
 "cells": [
  {
   "cell_type": "markdown",
   "metadata": {
    "id": "gzIXWFwMJiSn"
   },
   "source": [
    "# DAE 2 Designing an experiment\n",
    "\n",
    "Author:\n",
    "- |\n",
    "    Sofia Dahl, sof@create.aau.dk\\\n",
    "    Dept. Architecture, Design and Media Technology, Aalborg University Copenhagen\n",
    "---\n",
    "\n",
    "## Learning Goals\n",
    "After working your way through this notebook you should be able to..\n",
    "\n",
    "- Discuss pros and cons of \n",
    "  + Between-group designs\n",
    "  + Within-group designs\n",
    "\n",
    "- Discuss when it is appropriate to perform an experimental study  \n",
    "\n",
    "## Table of Contents\n",
    "\n",
    "- [1. Concerns when designing a study](#Concerns)\n",
    "    - [1.1 Confounding Variables](#Confounds)\n",
    "    - [1.2 Control Groups](#Control)\n",
    "- [2. Good experimental designs](#GoodDesigns)    \n",
    "    - [2.1 Between Group](#Between)\n",
    "    - [2.2 Within Groups](#Within)\n",
    "- [3. When not to use experiments](#WhenNot) \n"
   ]
  },
  {
   "cell_type": "code",
   "execution_count": 1,
   "metadata": {
    "executionInfo": {
     "elapsed": 527,
     "status": "ok",
     "timestamp": 1620195233310,
     "user": {
      "displayName": "",
      "photoUrl": "",
      "userId": ""
     },
     "user_tz": -120
    },
    "id": "eQk8Iy6uJiSt"
   },
   "outputs": [],
   "source": [
    "%matplotlib inline\n",
    "import numpy as np\n",
    "import pandas as pd\n",
    "import matplotlib.pyplot as plt"
   ]
  },
  {
   "cell_type": "markdown",
   "metadata": {
    "id": "-TZ1l8N2JiSu"
   },
   "source": [
    "<a id= 'Concerns'> </a>"
   ]
  },
  {
   "cell_type": "markdown",
   "metadata": {
    "id": "v8YfcsJSJiSv"
   },
   "source": [
    "## 1 Concerns when Designing a study\n",
    "\n",
    "When we have a research question and/or would like to test the performance of a technical solution versus another, we have to consider how best to design and set up the study.\n",
    "\n",
    "We perform experiments to gain knowledge about whether the *independent* variable has a (measurable) effect on the *dependent* variable. \n",
    "\n",
    "![](variablemanipulation.png \"Title\")\n",
    "\n",
    "\n",
    "There are a number of problems here. \n",
    "\n",
    "Firstly, to detect a change from our intervention, we naturally need to know what value we had before. \n",
    "\n",
    "\n",
    "...but even if we measure a change in the dependent variable, how can we be sure that this is due to our manipulation of the independent variable? "
   ]
  },
  {
   "cell_type": "code",
   "execution_count": 2,
   "metadata": {
    "colab": {
     "base_uri": "https://localhost:8080/",
     "height": 580
    },
    "executionInfo": {
     "elapsed": 666,
     "status": "ok",
     "timestamp": 1620195303747,
     "user": {
      "displayName": "",
      "photoUrl": "",
      "userId": ""
     },
     "user_tz": -120
    },
    "id": "PI4jL4kyJiSv",
    "outputId": "15249d48-5d8d-480c-83fb-cb73ccc91273"
   },
   "outputs": [
    {
     "data": {
      "text/html": [
       "<div>\n",
       "<style scoped>\n",
       "    .dataframe tbody tr th:only-of-type {\n",
       "        vertical-align: middle;\n",
       "    }\n",
       "\n",
       "    .dataframe tbody tr th {\n",
       "        vertical-align: top;\n",
       "    }\n",
       "\n",
       "    .dataframe thead th {\n",
       "        text-align: right;\n",
       "    }\n",
       "</style>\n",
       "<table border=\"1\" class=\"dataframe\">\n",
       "  <thead>\n",
       "    <tr style=\"text-align: right;\">\n",
       "      <th></th>\n",
       "      <th>Case_A</th>\n",
       "    </tr>\n",
       "  </thead>\n",
       "  <tbody>\n",
       "    <tr>\n",
       "      <th>participant_0</th>\n",
       "      <td>40</td>\n",
       "    </tr>\n",
       "    <tr>\n",
       "      <th>participant_1</th>\n",
       "      <td>30</td>\n",
       "    </tr>\n",
       "    <tr>\n",
       "      <th>participant_2</th>\n",
       "      <td>30</td>\n",
       "    </tr>\n",
       "    <tr>\n",
       "      <th>participant_3</th>\n",
       "      <td>40</td>\n",
       "    </tr>\n",
       "    <tr>\n",
       "      <th>participant_4</th>\n",
       "      <td>20</td>\n",
       "    </tr>\n",
       "    <tr>\n",
       "      <th>participant_5</th>\n",
       "      <td>50</td>\n",
       "    </tr>\n",
       "    <tr>\n",
       "      <th>participant_6</th>\n",
       "      <td>65</td>\n",
       "    </tr>\n",
       "    <tr>\n",
       "      <th>participant_7</th>\n",
       "      <td>35</td>\n",
       "    </tr>\n",
       "    <tr>\n",
       "      <th>participant_8</th>\n",
       "      <td>30</td>\n",
       "    </tr>\n",
       "    <tr>\n",
       "      <th>participant_9</th>\n",
       "      <td>65</td>\n",
       "    </tr>\n",
       "    <tr>\n",
       "      <th>participant_10</th>\n",
       "      <td>60</td>\n",
       "    </tr>\n",
       "    <tr>\n",
       "      <th>participant_11</th>\n",
       "      <td>30</td>\n",
       "    </tr>\n",
       "    <tr>\n",
       "      <th>participant_12</th>\n",
       "      <td>27</td>\n",
       "    </tr>\n",
       "    <tr>\n",
       "      <th>participant_13</th>\n",
       "      <td>42</td>\n",
       "    </tr>\n",
       "    <tr>\n",
       "      <th>participant_14</th>\n",
       "      <td>64</td>\n",
       "    </tr>\n",
       "    <tr>\n",
       "      <th>participant_15</th>\n",
       "      <td>50</td>\n",
       "    </tr>\n",
       "    <tr>\n",
       "      <th>participant_16</th>\n",
       "      <td>32</td>\n",
       "    </tr>\n",
       "    <tr>\n",
       "      <th>participant_17</th>\n",
       "      <td>30</td>\n",
       "    </tr>\n",
       "  </tbody>\n",
       "</table>\n",
       "</div>"
      ],
      "text/plain": [
       "                Case_A\n",
       "participant_0       40\n",
       "participant_1       30\n",
       "participant_2       30\n",
       "participant_3       40\n",
       "participant_4       20\n",
       "participant_5       50\n",
       "participant_6       65\n",
       "participant_7       35\n",
       "participant_8       30\n",
       "participant_9       65\n",
       "participant_10      60\n",
       "participant_11      30\n",
       "participant_12      27\n",
       "participant_13      42\n",
       "participant_14      64\n",
       "participant_15      50\n",
       "participant_16      32\n",
       "participant_17      30"
      ]
     },
     "execution_count": 2,
     "metadata": {
      "tags": []
     },
     "output_type": "execute_result"
    }
   ],
   "source": [
    "#TRY OUT\n",
    "#Let's say we have some measured data from a group of participants (Group_A)\n",
    "\n",
    "A=np.array([40,30,30,40,20,50,65,35,30,65,60,30,27,42,64,50,32,30])\n",
    "\n",
    "#And to make it convenient we put this in a data frame with index for the participants\n",
    "index = [f'participant_{num}' for num in range(A.shape[0])] #generate row index for all entries\n",
    "\n",
    "data = pd.DataFrame(A, columns=([\"Case_A\"]), index=index)\n",
    "data"
   ]
  },
  {
   "cell_type": "markdown",
   "metadata": {
    "id": "LDQO67NTJiSw"
   },
   "source": [
    "Let's say that all these are game scores and that none of the participants had played this particular game before. Why are the scores so different? "
   ]
  },
  {
   "cell_type": "markdown",
   "metadata": {
    "id": "OSxmwnweJiSw"
   },
   "source": [
    "<a id='Confounds'> </a>"
   ]
  },
  {
   "cell_type": "markdown",
   "metadata": {
    "id": "KSNtWshxJiSx"
   },
   "source": [
    "### 1.2 Confounding Variables\n",
    "There are, in fact, many other things other than your manipulation of the independent variable that can influence your measured data (dependent variable).\n",
    "\n",
    "For one thing, your participants may have different prior knowledge, experiences, and preferences. There can also be factors in the actual test that have an influence, such as the place where the testing takes place, or by whom and in what way the instructions for the test are given.\n"
   ]
  },
  {
   "cell_type": "markdown",
   "metadata": {
    "id": "SAlB6rvqJiSy"
   },
   "source": [
    "A more correct illustration then looks more like this:\n",
    "\n",
    "![](confoundingvariables.png \"Title\")\n",
    "\n",
    "Many other *confounding* variables (arrows in the figure) could influence the outcome of the experiment. To be able to draw the right conclusions on the effect of the indpendent variable, a proper experiment needs control for (or randomize) *ALL* confounding variables. That is, to avoid any systematic differences that can influence the interpretation of the manipulation, ALL the possile confounding influences need either to be kept: \n",
    "\n",
    "*Constant* (e.g. instructions and testing set up is as far as possible done the same way for all participants)\n",
    "\n",
    "or\n",
    "\n",
    "*Random* (e.g. test conditions are randomly assigned to avoid any systematic effects due to presentation order).\n"
   ]
  },
  {
   "cell_type": "markdown",
   "metadata": {
    "id": "JD9OhXtlJiSy"
   },
   "source": [
    "<a id='Control'> </a>"
   ]
  },
  {
   "cell_type": "markdown",
   "metadata": {
    "id": "Snyck4dbJiSz"
   },
   "source": [
    "### 1.2 Control group\n",
    "\n",
    "Let's say we are testing a complex interactive situation (e.g. application with music that changes interactively). Here, there can be several confounding variables, and thus we should *compare* the interaction to an equivalent situation without any interaction (i.e. manipulation of the independent variable).\n",
    "\n",
    "In this example application with music that changes interactively, we hypothesize that the interactivity will have an effect on some dependent variable (e.g. user experience). So a good control case would be the exact same application but with music that is non-interactive (i.e. prerecorded music). Since everything except the interactivity is identical between the two cases, we would assume that any change in user experience is due to the interactivity. Or?\n",
    "\n",
    "\n",
    "Also, even if we control for the confounding variables we can foresee in the situation,  there can still be a lot of outcome variability due to participants just being...people. And people are different.\n"
   ]
  },
  {
   "cell_type": "markdown",
   "metadata": {
    "id": "KzdK1ljQJiSz"
   },
   "source": [
    "### Try out 1: \n",
    "We can illustrate this by adding another variable with data (Group_B) based on the original data but with some added random variability."
   ]
  },
  {
   "cell_type": "code",
   "execution_count": 27,
   "metadata": {
    "colab": {
     "base_uri": "https://localhost:8080/",
     "height": 284
    },
    "executionInfo": {
     "elapsed": 631,
     "status": "ok",
     "timestamp": 1620196238710,
     "user": {
      "displayName": "",
      "photoUrl": "",
      "userId": ""
     },
     "user_tz": -120
    },
    "id": "wubSJGdWJiSz",
    "outputId": "a1af57f8-b5c1-403e-de71-b5d7cf2bf554"
   },
   "outputs": [
    {
     "data": {
      "text/html": [
       "<div>\n",
       "<style scoped>\n",
       "    .dataframe tbody tr th:only-of-type {\n",
       "        vertical-align: middle;\n",
       "    }\n",
       "\n",
       "    .dataframe tbody tr th {\n",
       "        vertical-align: top;\n",
       "    }\n",
       "\n",
       "    .dataframe thead th {\n",
       "        text-align: right;\n",
       "    }\n",
       "</style>\n",
       "<table border=\"1\" class=\"dataframe\">\n",
       "  <thead>\n",
       "    <tr style=\"text-align: right;\">\n",
       "      <th></th>\n",
       "      <th>Case_A</th>\n",
       "      <th>Case_B</th>\n",
       "    </tr>\n",
       "  </thead>\n",
       "  <tbody>\n",
       "    <tr>\n",
       "      <th>count</th>\n",
       "      <td>18.000000</td>\n",
       "      <td>18.000000</td>\n",
       "    </tr>\n",
       "    <tr>\n",
       "      <th>mean</th>\n",
       "      <td>41.111111</td>\n",
       "      <td>41.691710</td>\n",
       "    </tr>\n",
       "    <tr>\n",
       "      <th>std</th>\n",
       "      <td>14.482805</td>\n",
       "      <td>14.194665</td>\n",
       "    </tr>\n",
       "    <tr>\n",
       "      <th>min</th>\n",
       "      <td>20.000000</td>\n",
       "      <td>22.032634</td>\n",
       "    </tr>\n",
       "    <tr>\n",
       "      <th>25%</th>\n",
       "      <td>30.000000</td>\n",
       "      <td>31.250782</td>\n",
       "    </tr>\n",
       "    <tr>\n",
       "      <th>50%</th>\n",
       "      <td>37.500000</td>\n",
       "      <td>38.236262</td>\n",
       "    </tr>\n",
       "    <tr>\n",
       "      <th>75%</th>\n",
       "      <td>50.000000</td>\n",
       "      <td>49.011344</td>\n",
       "    </tr>\n",
       "    <tr>\n",
       "      <th>max</th>\n",
       "      <td>65.000000</td>\n",
       "      <td>66.651939</td>\n",
       "    </tr>\n",
       "  </tbody>\n",
       "</table>\n",
       "</div>"
      ],
      "text/plain": [
       "          Case_A     Case_B\n",
       "count  18.000000  18.000000\n",
       "mean   41.111111  41.691710\n",
       "std    14.482805  14.194665\n",
       "min    20.000000  22.032634\n",
       "25%    30.000000  31.250782\n",
       "50%    37.500000  38.236262\n",
       "75%    50.000000  49.011344\n",
       "max    65.000000  66.651939"
      ]
     },
     "execution_count": 27,
     "metadata": {
      "tags": []
     },
     "output_type": "execute_result"
    }
   ],
   "source": [
    "# We can illustrate this by adding another variable with data (Group_B). \n",
    "# We base this data on that of Group_A, but with some random variability added \n",
    "\n",
    "data['Case_B']=data.Case_A+np.random.normal(0, 1.5, data.shape[0])\n",
    "\n",
    "# We can use describe to get an overview and see that the values are a bit different\n",
    "data.describe()"
   ]
  },
  {
   "cell_type": "code",
   "execution_count": 26,
   "metadata": {
    "colab": {
     "base_uri": "https://localhost:8080/",
     "height": 265
    },
    "executionInfo": {
     "elapsed": 509,
     "status": "ok",
     "timestamp": 1620196230603,
     "user": {
      "displayName": "",
      "photoUrl": "",
      "userId": ""
     },
     "user_tz": -120
    },
    "id": "vxffT7PaJiS0",
    "outputId": "c19e516f-316d-4adf-c91d-269927def158"
   },
   "outputs": [
    {
     "data": {
      "image/png": "[encoded data removed]",
      "text/plain": [
       "<Figure size 432x288 with 1 Axes>"
      ]
     },
     "metadata": {
      "needs_background": "light",
      "tags": []
     },
     "output_type": "display_data"
    }
   ],
   "source": [
    "# We can plot the data in histograms\n",
    "plt.hist(data.Case_A, bins=5)\n",
    "plt.hist(data.Case_B, bins=5)\n",
    "plt.show()\n",
    "# Note that the data can look very similar for the two groups. \n",
    "# Because we're adding random numbers based on a normal distribution with mean 0, the values might not change much. \n",
    "# If you're lucky. \n",
    "# But, being random, it can also vary a lot more.\n",
    "# Re-run the randomization code above and plot again to convince yourself that the values change slightly between runs."
   ]
  },
  {
   "cell_type": "markdown",
   "metadata": {
    "id": "AIvBNZdhJiS0"
   },
   "source": [
    "### NOTE: \n",
    "With this number of participants, you can see that even small random variations can lead to differences in the outcome data. More on how what conclusions we can draw from the data in later chapters."
   ]
  },
  {
   "cell_type": "markdown",
   "metadata": {
    "id": "zsCFDaAKJiS0"
   },
   "source": [
    "<a id= 'GoodDesigns'> </a>"
   ]
  },
  {
   "cell_type": "markdown",
   "metadata": {
    "id": "isg-kAE5JiS1"
   },
   "source": [
    "## 2. Good experimental designs\n",
    "\n",
    "There are basically two type of designs for well-conducted experiments:\n",
    "\n",
    "*Between group* where each level of the manipulated independent variable is presented to a different group of participants. \n",
    "\n",
    "and\n",
    "\n",
    "*Within group* all participants are exposed to the different levels of the manipulated independent variable.\n"
   ]
  },
  {
   "cell_type": "markdown",
   "metadata": {
    "id": "a204BTSrJiS1"
   },
   "source": [
    "<a id= 'Between'> </a>"
   ]
  },
  {
   "cell_type": "markdown",
   "metadata": {
    "id": "R2z_pRiZJiS1"
   },
   "source": [
    "### 2. Between-Group Design\n",
    "\n",
    "In the between-group design, you randomly assign participants to one of the experimental conditions. The random assignment is helps minimizes the influence of any *systematic* differences between the groups that might affect data. However, you might also wish to keep the sample sizes for the two groups approximately equal, so sometimes semi-random is necessary. This can, for instance, mean that you monitor the number of participants assigned to any one condition and, if already many more than the other condition,  reduce the probability of the remaining participants being assigned to this condition. \n",
    "\n",
    "<img src=\"https://github.com/sofiadahl/Design_and_Analysis_of_Experiments/blob/main/BetweenGroupDesign.png?raw=1\" width=\"600\">\n",
    "\n",
    "Since participants are only exposed to ONE condition (e.g. interface with OR without interactive music), there is no learning or carry-over effect between conditions. "
   ]
  },
  {
   "cell_type": "markdown",
   "metadata": {
    "id": "t-8s9dnxJiS1"
   },
   "source": [
    "### Try out 2: \n",
    "Let's revisit our Case_B and now insert some SYSTEMATIC variability, that we (hope) is from our manipulation"
   ]
  },
  {
   "cell_type": "code",
   "execution_count": 30,
   "metadata": {
    "colab": {
     "base_uri": "https://localhost:8080/",
     "height": 265
    },
    "executionInfo": {
     "elapsed": 1371,
     "status": "ok",
     "timestamp": 1620196497530,
     "user": {
      "displayName": "",
      "photoUrl": "",
      "userId": ""
     },
     "user_tz": -120
    },
    "id": "upIWra2sJiS1",
    "outputId": "10387e1f-71e8-46c6-b1e4-3e169bd51595"
   },
   "outputs": [
    {
     "data": {
      "image/png": "[encoded data removed]",
      "text/plain": [
       "<Figure size 432x288 with 1 Axes>"
      ]
     },
     "metadata": {
      "needs_background": "light",
      "tags": []
     },
     "output_type": "display_data"
    }
   ],
   "source": [
    "#now insert some SYSTEMATIC variability, that we (hope) is from our manipulation\n",
    "\n",
    "data['Case_B']=data.Case_A+np.random.normal(6, 1.5, data.shape[0])\n",
    "\n",
    "plt.hist(data.Case_A, bins=5)\n",
    "plt.hist(data.Case_B, bins=5)\n",
    "plt.show()"
   ]
  },
  {
   "cell_type": "markdown",
   "metadata": {
    "id": "GIC6RHZ8JiS2"
   },
   "source": [
    "The systematic variability that we simulated (mean=6) shifts the histogram of Case_B to the right. When we plan the experiment, this is something we hope to see. A statistical test for *between-group* design tests whether the outcome scores for the different cases have means that differ *significantly* from each other.\n",
    "\n",
    "But there is still a lot of variability among the participants. In fact, the individual differences can overshadow the effect we want to measure. In this regard, it would be better if participants were the same for the two conditions."
   ]
  },
  {
   "cell_type": "markdown",
   "metadata": {
    "id": "E5j5NV7fJiS2"
   },
   "source": [
    "<a id= 'Within'> </a>"
   ]
  },
  {
   "cell_type": "markdown",
   "metadata": {
    "id": "BhsMmHQUJiS2"
   },
   "source": [
    "### 2. Within-Group Design\n",
    "\n",
    "One way to minimize the risk that individual variability overshadows any possible effect, is to let participants take part in both the experimental and the control condition. The benefit is that the variability due to individual differences is reduced, and this typically means that fewer participants are needed in order to spot an effect. \n",
    "But there are many other things that might spoil it. Again, it is important that there is no *systematic* effect of the order in which the conditions are presented, as well as and how participants are assigned. Participants can get tired, bored, more skilled, etc as they go through the test. Any such *order effects* need to be accounted for. \n",
    "\n",
    "<img src=\"https://github.com/sofiadahl/Design_and_Analysis_of_Experiments/blob/main/WithinGroupDesign.png?raw=1\" width=\"700\">\n"
   ]
  },
  {
   "cell_type": "markdown",
   "metadata": {
    "id": "x8KR-b4VJiS2"
   },
   "source": [
    "### Try out 3: \n",
    "Plot the difference between the different cases but for the same participants."
   ]
  },
  {
   "cell_type": "code",
   "execution_count": 31,
   "metadata": {
    "colab": {
     "base_uri": "https://localhost:8080/",
     "height": 265
    },
    "executionInfo": {
     "elapsed": 514,
     "status": "ok",
     "timestamp": 1620196790261,
     "user": {
      "displayName": "",
      "photoUrl": "",
      "userId": ""
     },
     "user_tz": -120
    },
    "id": "9Og2gbqkJiS3",
    "outputId": "0d52bfa0-37ac-46b9-8921-f1e5117e0ea9"
   },
   "outputs": [
    {
     "data": {
      "image/png": "[encoded data removed]",
      "text/plain": [
       "<Figure size 432x288 with 1 Axes>"
      ]
     },
     "metadata": {
      "needs_background": "light",
      "tags": []
     },
     "output_type": "display_data"
    }
   ],
   "source": [
    "# When participants are the same, we are interest in the difference WITHIN them BETWEEN the two conditions. \n",
    "\n",
    "data['Case_C']=data.Case_B-data.Case_A\n",
    "\n",
    "plt.hist(data.Case_C, bins=5)\n",
    "\n",
    "plt.show()"
   ]
  },
  {
   "cell_type": "markdown",
   "metadata": {
    "id": "wNXMEpLjJiS3"
   },
   "source": [
    "So the histogram showes the *difference* in outcome scores between two cases. What do we compare that with you wonder? Well, if there had been NO difference, the plotted values would be (or be close to) zero. A statistical test for *within group* design, tests whether the difference between outcome scores has a mean significantly different from 0."
   ]
  },
  {
   "cell_type": "markdown",
   "metadata": {
    "id": "9GD5rTCHJiS3"
   },
   "source": [
    "<a id= 'WhenNot'> </a>"
   ]
  },
  {
   "cell_type": "markdown",
   "metadata": {
    "id": "QJv4jGgXJiS3"
   },
   "source": [
    "## 3. When not to use experiments\n",
    "\n",
    "We have talked a lot about how we need to *control* a lot of variables to be able to interpret our data in a way that can confirm whether a manipulation has had an effect.\n",
    "\n",
    "There are many situations where it is not possible, or ethical, to do full experimental control. In other cases, controlling all variables results in an enviroment that has little in common with reality (e.g. the experience of going to a concert vs. hearing music alone in a sound-proof listening booth.)\n",
    "\n",
    "In other cases, a full-fledged experiment is simply overkill. In order to find out if your design and implementation is on the right track, user testing with a handful of participants is much more economical because you want to identify potential flaws, not measure an overall effect.\n",
    "\n"
   ]
  }
 ],
 "metadata": {
  "colab": {
   "name": "Copy of DAE2_DesigningExperiments.ipynb",
   "provenance": [
    {
     "file_id": "https://github.com/sofiadahl/Design_and_Analysis_of_Experiments/blob/main/DAE2_DesigningExperiments.ipynb",
     "timestamp": 1620197191170
    }
   ]
  },
  "kernelspec": {
   "display_name": "Python 3",
   "language": "python",
   "name": "python3"
  },
  "language_info": {
   "codemirror_mode": {
    "name": "ipython",
    "version": 3
   },
   "file_extension": ".py",
   "mimetype": "text/x-python",
   "name": "python",
   "nbconvert_exporter": "python",
   "pygments_lexer": "ipython3",
   "version": "3.7.3"
  }
 },
 "nbformat": 4,
 "nbformat_minor": 4
}
