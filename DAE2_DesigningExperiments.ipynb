{
 "cells": [
  {
   "cell_type": "markdown",
   "metadata": {},
   "source": [
    "# DAE 2 Designing an experiment\n",
    "\n",
    "author:\n",
    "- |\n",
    "    Sofia Dahl, sof@create.aau.dk\\\n",
    "    Dept. Architecture, Design and Media Technology, Aalborg University Copenhagen\n",
    "---\n",
    "\n",
    "## Learning Goals\n",
    "After working your way through this notebook you should be able to..\n",
    "\n",
    "- Discuss pros and cons with \n",
    "  + Between group designs\n",
    "  + Within group designs\n",
    "\n",
    "- Discuss when it is appropriate to perform an experimental study  \n",
    "\n",
    "## Table of Contents\n",
    "\n",
    "- [1. Conserns when designing a study](#Concerns)\n",
    "    - [1.1 Confunding Variables](#Confunds)\n",
    "    - [1.2 Control Groups](#Control)\n",
    "- [2. Good experimental designs](#GoodDesigns)    \n",
    "    - [2.1 Between Group](#Between)\n",
    "    - [2.2 Within Groups](#Within)\n",
    "- [3. When not to use experiments](#WhenNot) \n"
   ]
  },
  {
   "cell_type": "code",
   "execution_count": 2,
   "metadata": {},
   "outputs": [],
   "source": [
    "%matplotlib inline\n",
    "import numpy as np\n",
    "import pandas as pd\n",
    "import matplotlib.pyplot as plt"
   ]
  },
  {
   "cell_type": "markdown",
   "metadata": {},
   "source": [
    "<a id= 'Concerns'> </a>"
   ]
  },
  {
   "cell_type": "markdown",
   "metadata": {},
   "source": [
    "## 1 Concerns when Designing a study\n",
    "\n",
    "When we have a research question and/or would like to test the performance of a technical solution versus another we have to consider how to best design and set-up the study.\n",
    "\n",
    "We perform experiments to gain knowledge about whether the *independent* variable has a (measurable) effect on the *dependent* variable. \n",
    "\n",
    "![](variablemanipulation.png \"Title\")\n",
    "\n",
    "\n",
    "There are a number of problems here. \n",
    "\n",
    "Firstly, to detect a change from our intervention, we naturally need to know what value we had before. \n",
    "\n",
    "\n",
    "...but even if we measure a change in the dependent variable, how can we be sure that this is due to our manipulation of the independent variable? "
   ]
  },
  {
   "cell_type": "code",
   "execution_count": 5,
   "metadata": {},
   "outputs": [
    {
     "data": {
      "text/html": [
       "<div>\n",
       "<style scoped>\n",
       "    .dataframe tbody tr th:only-of-type {\n",
       "        vertical-align: middle;\n",
       "    }\n",
       "\n",
       "    .dataframe tbody tr th {\n",
       "        vertical-align: top;\n",
       "    }\n",
       "\n",
       "    .dataframe thead th {\n",
       "        text-align: right;\n",
       "    }\n",
       "</style>\n",
       "<table border=\"1\" class=\"dataframe\">\n",
       "  <thead>\n",
       "    <tr style=\"text-align: right;\">\n",
       "      <th></th>\n",
       "      <th>Case_A</th>\n",
       "    </tr>\n",
       "  </thead>\n",
       "  <tbody>\n",
       "    <tr>\n",
       "      <th>participant_0</th>\n",
       "      <td>40</td>\n",
       "    </tr>\n",
       "    <tr>\n",
       "      <th>participant_1</th>\n",
       "      <td>30</td>\n",
       "    </tr>\n",
       "    <tr>\n",
       "      <th>participant_2</th>\n",
       "      <td>30</td>\n",
       "    </tr>\n",
       "    <tr>\n",
       "      <th>participant_3</th>\n",
       "      <td>40</td>\n",
       "    </tr>\n",
       "    <tr>\n",
       "      <th>participant_4</th>\n",
       "      <td>20</td>\n",
       "    </tr>\n",
       "    <tr>\n",
       "      <th>participant_5</th>\n",
       "      <td>50</td>\n",
       "    </tr>\n",
       "    <tr>\n",
       "      <th>participant_6</th>\n",
       "      <td>65</td>\n",
       "    </tr>\n",
       "    <tr>\n",
       "      <th>participant_7</th>\n",
       "      <td>35</td>\n",
       "    </tr>\n",
       "    <tr>\n",
       "      <th>participant_8</th>\n",
       "      <td>30</td>\n",
       "    </tr>\n",
       "    <tr>\n",
       "      <th>participant_9</th>\n",
       "      <td>65</td>\n",
       "    </tr>\n",
       "    <tr>\n",
       "      <th>participant_10</th>\n",
       "      <td>60</td>\n",
       "    </tr>\n",
       "    <tr>\n",
       "      <th>participant_11</th>\n",
       "      <td>30</td>\n",
       "    </tr>\n",
       "    <tr>\n",
       "      <th>participant_12</th>\n",
       "      <td>27</td>\n",
       "    </tr>\n",
       "    <tr>\n",
       "      <th>participant_13</th>\n",
       "      <td>42</td>\n",
       "    </tr>\n",
       "    <tr>\n",
       "      <th>participant_14</th>\n",
       "      <td>64</td>\n",
       "    </tr>\n",
       "    <tr>\n",
       "      <th>participant_15</th>\n",
       "      <td>50</td>\n",
       "    </tr>\n",
       "    <tr>\n",
       "      <th>participant_16</th>\n",
       "      <td>32</td>\n",
       "    </tr>\n",
       "    <tr>\n",
       "      <th>participant_17</th>\n",
       "      <td>30</td>\n",
       "    </tr>\n",
       "  </tbody>\n",
       "</table>\n",
       "</div>"
      ],
      "text/plain": [
       "                Case_A\n",
       "participant_0       40\n",
       "participant_1       30\n",
       "participant_2       30\n",
       "participant_3       40\n",
       "participant_4       20\n",
       "participant_5       50\n",
       "participant_6       65\n",
       "participant_7       35\n",
       "participant_8       30\n",
       "participant_9       65\n",
       "participant_10      60\n",
       "participant_11      30\n",
       "participant_12      27\n",
       "participant_13      42\n",
       "participant_14      64\n",
       "participant_15      50\n",
       "participant_16      32\n",
       "participant_17      30"
      ]
     },
     "execution_count": 5,
     "metadata": {},
     "output_type": "execute_result"
    }
   ],
   "source": [
    "#TRY OUT\n",
    "#Let's say we have some measured data from a group of participants (Group_A)\n",
    "\n",
    "A=np.array([40,30,30,40,20,50,65,35,30,65,60,30,27,42,64,50,32,30])\n",
    "\n",
    "#And to make it convenient we put this in a data frame with index for the participants\n",
    "index = [f'participant_{num}' for num in range(A.shape[0])] #generate row index for all entries\n",
    "\n",
    "data = pd.DataFrame(A, columns=([\"Case_A\"]), index=index)\n",
    "data"
   ]
  },
  {
   "cell_type": "markdown",
   "metadata": {},
   "source": [
    "Let's say that all these are game scores and that none of the participants had played this particular game before. Why are the scores so different? "
   ]
  },
  {
   "cell_type": "markdown",
   "metadata": {},
   "source": [
    "<a id= 'Confounds'> </a>"
   ]
  },
  {
   "cell_type": "markdown",
   "metadata": {},
   "source": [
    "### 1.2 Confounding Variables\n",
    "There are, in fact, many other things other than your manipulation of the independent variable that can influence your measured data (dependent variable).\n",
    "\n",
    "For one thing, your participants may have different previous knowledge, experiences, and preferences. It can also be factors in the actual test that can influence, such as the place where the testing takes place, or by whom and in what way the instructions for the test are given.\n"
   ]
  },
  {
   "cell_type": "markdown",
   "metadata": {},
   "source": [
    "A more correct illustration then looks more like this:\n",
    "\n",
    "![](confoundingvariables.png \"Title\")\n",
    "\n",
    "Many other *confounding* variables (arrows in the figure) could influence the outcome of the experiment. To be able to draw the right conclusion of the effect of the indpendent variable, a prober experiment needs control for, or randomize, *ALL* confounding variables. That is, to avoid any systematic differences that can influence the interpretation of the manipulation ALL the possile confounding influences need either to be kept \n",
    "\n",
    "*Constant* (e.g. instructions and testing set up is as far as possible done the same way for all participants)\n",
    "\n",
    "or\n",
    "\n",
    "*Random* (e.g. stimuli are randomly assigned to avoid any systematic effects due to presentation order).\n"
   ]
  },
  {
   "cell_type": "markdown",
   "metadata": {},
   "source": [
    "<a id= 'Control'> </a>"
   ]
  },
  {
   "cell_type": "markdown",
   "metadata": {},
   "source": [
    "### 1.2 Control group\n",
    "\n",
    "Becaue of the above we also need to *compare* the intervention to a situation without any intervention (i.e. manipulation of the independent variable).\n",
    "\n",
    "An example would be testing a game or application with music that changes interactively. Our hypothesis is that this will change the interaction compared to the non-interactive case. So a good control case would be the same interaction but with music that does NOT depend on the interaction (i.e. prerecorded music). Ideally then, every thing except whether the music was actually interactive would then be the same. So we would assume that any change in the dependent variable (whichever that is) is due to this manipulation. Or?\n",
    "\n",
    "\n",
    "Also if we control for the confounding variables we can forsee in the situation,  there is a lot of variability due to participants just being...people. And people are different.\n"
   ]
  },
  {
   "cell_type": "markdown",
   "metadata": {},
   "source": [
    "### Try out 1: \n",
    "We can illustrate this by adding another variable with data (Group_B) based on the original data but with some added random variability."
   ]
  },
  {
   "cell_type": "code",
   "execution_count": 8,
   "metadata": {},
   "outputs": [
    {
     "data": {
      "text/html": [
       "<div>\n",
       "<style scoped>\n",
       "    .dataframe tbody tr th:only-of-type {\n",
       "        vertical-align: middle;\n",
       "    }\n",
       "\n",
       "    .dataframe tbody tr th {\n",
       "        vertical-align: top;\n",
       "    }\n",
       "\n",
       "    .dataframe thead th {\n",
       "        text-align: right;\n",
       "    }\n",
       "</style>\n",
       "<table border=\"1\" class=\"dataframe\">\n",
       "  <thead>\n",
       "    <tr style=\"text-align: right;\">\n",
       "      <th></th>\n",
       "      <th>Case_A</th>\n",
       "      <th>Case_B</th>\n",
       "    </tr>\n",
       "  </thead>\n",
       "  <tbody>\n",
       "    <tr>\n",
       "      <th>count</th>\n",
       "      <td>18.000000</td>\n",
       "      <td>18.000000</td>\n",
       "    </tr>\n",
       "    <tr>\n",
       "      <th>mean</th>\n",
       "      <td>41.111111</td>\n",
       "      <td>41.629453</td>\n",
       "    </tr>\n",
       "    <tr>\n",
       "      <th>std</th>\n",
       "      <td>14.482805</td>\n",
       "      <td>14.548929</td>\n",
       "    </tr>\n",
       "    <tr>\n",
       "      <th>min</th>\n",
       "      <td>20.000000</td>\n",
       "      <td>20.020044</td>\n",
       "    </tr>\n",
       "    <tr>\n",
       "      <th>25%</th>\n",
       "      <td>30.000000</td>\n",
       "      <td>31.751488</td>\n",
       "    </tr>\n",
       "    <tr>\n",
       "      <th>50%</th>\n",
       "      <td>37.500000</td>\n",
       "      <td>36.941870</td>\n",
       "    </tr>\n",
       "    <tr>\n",
       "      <th>75%</th>\n",
       "      <td>50.000000</td>\n",
       "      <td>50.045900</td>\n",
       "    </tr>\n",
       "    <tr>\n",
       "      <th>max</th>\n",
       "      <td>65.000000</td>\n",
       "      <td>67.562110</td>\n",
       "    </tr>\n",
       "  </tbody>\n",
       "</table>\n",
       "</div>"
      ],
      "text/plain": [
       "          Case_A     Case_B\n",
       "count  18.000000  18.000000\n",
       "mean   41.111111  41.629453\n",
       "std    14.482805  14.548929\n",
       "min    20.000000  20.020044\n",
       "25%    30.000000  31.751488\n",
       "50%    37.500000  36.941870\n",
       "75%    50.000000  50.045900\n",
       "max    65.000000  67.562110"
      ]
     },
     "execution_count": 8,
     "metadata": {},
     "output_type": "execute_result"
    }
   ],
   "source": [
    "#We can illustrate this by adding another variable with data (Group_B). \n",
    "#We base this data on that of Group_A, but with some random variability added \n",
    "\n",
    "data['Case_B']=data.Case_A+np.random.normal(0, 1.5, data.shape[0])\n",
    "\n",
    "#We can use describe to get an overview and see that the values are a bit different\n",
    "data.describe()"
   ]
  },
  {
   "cell_type": "code",
   "execution_count": 9,
   "metadata": {},
   "outputs": [
    {
     "data": {
      "image/png": "[encoded data removed]",
      "text/plain": [
       "<Figure size 432x288 with 1 Axes>"
      ]
     },
     "metadata": {
      "needs_background": "light"
     },
     "output_type": "display_data"
    }
   ],
   "source": [
    "# We can plot the data in histograms\n",
    "plt.hist(data.Case_A, bins=5)\n",
    "plt.hist(data.Case_B, bins=5)\n",
    "plt.show()\n",
    "# Note that the data can look very similar for the two groups. \n",
    "# Because we're adding random numbers based on a normal distribution with mean 0, the values might not change much. \n",
    "# If you're lucky. \n",
    "# But, being random, it can also vary a lot more.\n",
    "#Re-run the code above and plot again to convince yourself that the values change slightly between runs."
   ]
  },
  {
   "cell_type": "markdown",
   "metadata": {},
   "source": [
    "### NOTE: \n",
    "With this number of participants you can see that also small random variations can lead to differences in the out data. More on how what conclusions we can draw from the data in later chapters."
   ]
  },
  {
   "cell_type": "markdown",
   "metadata": {},
   "source": [
    "<a id= 'GoodDesigns'> </a>"
   ]
  },
  {
   "cell_type": "markdown",
   "metadata": {},
   "source": [
    "## 2. Good experimental designs\n",
    "\n",
    "There are basically two type of designs for well-comnducted experiments:\n",
    "\n",
    "*Between group* where each level of the manipulated independent variable is presented to a different group of participants. \n",
    "\n",
    "\n",
    "and\n",
    "\n",
    "*Within group* all participants are exposed to the different levels of the manipulated independent variable.\n"
   ]
  },
  {
   "cell_type": "markdown",
   "metadata": {},
   "source": [
    "<a id= 'Between'> </a>"
   ]
  },
  {
   "cell_type": "markdown",
   "metadata": {},
   "source": [
    "### 2. Between Group Design\n",
    "\n",
    "In the between group you randonly assign participants to take part in one of the experimental conditions. The random assignment is how you avoid any *systematic* differences between the groups that might affect data. However, you might also have an interest to keep the sample sizes for the two groups approximately equal so sometimes semi-random is necessary. This can, for instancde, mean that you monitor how many that get assigned to one condition and - if already many more than the other condition -  reduce the probability of this condition coming up for the remaining participants. \n",
    "\n",
    "<img src=\"BetweenGroupDesign.png\" width=\"600\">\n",
    "\n",
    "\n",
    "Since participants only are exposed to ONE condition (e.g. interface with OR without interactive music) there is no learning or carry-over effect between conditions. "
   ]
  },
  {
   "cell_type": "markdown",
   "metadata": {},
   "source": [
    "### Try out 2: \n",
    "Let's revisit our Case_B and now insert some SYSTEMATIC variability, that we (hope) is from our manipulation"
   ]
  },
  {
   "cell_type": "code",
   "execution_count": 161,
   "metadata": {},
   "outputs": [
    {
     "data": {
      "image/png": "[encoded data removed]",
      "text/plain": [
       "<Figure size 432x288 with 1 Axes>"
      ]
     },
     "metadata": {
      "needs_background": "light"
     },
     "output_type": "display_data"
    }
   ],
   "source": [
    "#now insert some SYSTEMATIC variability, that we (hope) is from our manipulation\n",
    "\n",
    "data['Case_B']=data.Case_A+np.random.normal(6, 1.5, data.shape[0])\n",
    "\n",
    "plt.hist(data.Case_A, bins=5)\n",
    "plt.hist(data.Case_B, bins=5)\n",
    "plt.show()"
   ]
  },
  {
   "cell_type": "markdown",
   "metadata": {},
   "source": [
    "The systematic variability that we simulated (mean=6) shifts the histogram of Case_B to the right. This is something that we hope to see when planning the experiment. A statistical test for *between group* design, tests whether the outscores for the different cases have means that differ significantly from each other.\n",
    "\n",
    "But there is still a lot of variability among the participants. In fact, the individual differences can overshadow the effect we want to measure. In this respect, it would be better if participants were the same for the two conditions."
   ]
  },
  {
   "cell_type": "markdown",
   "metadata": {},
   "source": [
    "<a id= 'Within'> </a>"
   ]
  },
  {
   "cell_type": "markdown",
   "metadata": {},
   "source": [
    "### 2. Within Group Design\n",
    "\n",
    "One way to minimize the risk that the individual variability overshadows any possible effect, is to let participants take part in both experimental and control condition. The benefit is then, that the variability due to individual differences is reduced and this typically means that fewer participants are needed to spot an effect. \n",
    "But there are many other things that might spoil it. Again, it is important that there is no *systematic* effect of order and how participants are assigned. Participnats can get tired, bored, more skilled, etc as they go through the test. Any such *order effects* need to be accounted for. \n",
    "\n",
    "<img src=\"WithinGroupDesign.png\" width=\"700\">\n"
   ]
  },
  {
   "cell_type": "markdown",
   "metadata": {},
   "source": [
    "### Try out 3: \n",
    "Plot the difference between the different cases but for the same participants"
   ]
  },
  {
   "cell_type": "code",
   "execution_count": 163,
   "metadata": {},
   "outputs": [
    {
     "data": {
      "image/png": "[encoded data removed]",
      "text/plain": [
       "<Figure size 432x288 with 1 Axes>"
      ]
     },
     "metadata": {
      "needs_background": "light"
     },
     "output_type": "display_data"
    }
   ],
   "source": [
    "#When participants are the same, we are interest in the difference WITHIN them for the two conditions. \n",
    "\n",
    "data['Case_C']=data.Case_B-data.Case_A\n",
    "\n",
    "plt.hist(data.Case_C, bins=5)\n",
    "\n",
    "plt.show()"
   ]
  },
  {
   "cell_type": "markdown",
   "metadata": {},
   "source": [
    "So the histogram showes the difference in scores between two cases. What do we compare that with you wonder? Well, if there had been NO difference, the scores would be (or be close to) zero. A statistical test for *within group* design, tests whether the outscores have a mean significantly different from 0."
   ]
  },
  {
   "cell_type": "markdown",
   "metadata": {},
   "source": [
    "<a id= 'WhenNot'> </a>"
   ]
  },
  {
   "cell_type": "markdown",
   "metadata": {},
   "source": [
    "## 3. When not to use experiments\n",
    "\n",
    "Above we have talked a lot of how we need to *control* a lot of variables to be able to interpret our data in a way that can confirm whether a manipulation has had an effect.\n",
    "\n",
    "There are many situations where it is not possible, or ethical, to do full experimental control. In other cases, controlling all variables results in an enviroment that has little to do with reality (e.g. the experience of going to a concert vs. hearing music alone in a sound-proof listening booth.)\n",
    "\n",
    "In other cases, a full-fledge experiment is simply overkill. In order to find out if your design and implementation is on the right track, user testing with a handful of participants is much more econmical because you want to identify potential flaws, not measure an overall effect.\n",
    "\n"
   ]
  }
 ],
 "metadata": {
  "kernelspec": {
   "display_name": "Python 3",
   "language": "python",
   "name": "python3"
  },
  "language_info": {
   "codemirror_mode": {
    "name": "ipython",
    "version": 3
   },
   "file_extension": ".py",
   "mimetype": "text/x-python",
   "name": "python",
   "nbconvert_exporter": "python",
   "pygments_lexer": "ipython3",
   "version": "3.7.3"
  }
 },
 "nbformat": 4,
 "nbformat_minor": 4
}
