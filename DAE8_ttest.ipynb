{
 "cells": [
  {
   "cell_type": "markdown",
   "metadata": {},
   "source": [
    "# DAE 8 t-test\n",
    "\n",
    "author:\n",
    "- |\n",
    "    Sofia Dahl, sof@create.aau.dk\\\n",
    "    Dept. Architecture, Design and Media Technology, Aalborg University Copenhagen\n",
    "---\n",
    "\n",
    "## Learning goals\n",
    "\n",
    "After working your way through this notebook you should be able to..\n",
    "- Choose the appropriate t-test for your data\n",
    "- Perform and interpret a t-test using available functions\n",
    "\n",
    "## Table of Contents\n",
    "\n",
    "- [1. Student t-test](#whatttest)\n",
    "    - [1.2. When can we use t-tests](#whenttest)\n",
    "- [2. T-test for two independent samples](#Indepttest)\n",
    "- [3. T-test for two related samples](#relttest)"
   ]
  },
  {
   "cell_type": "markdown",
   "metadata": {},
   "source": [
    "<a id= 'Descriptive'> </a>"
   ]
  },
  {
   "cell_type": "code",
   "execution_count": 2,
   "metadata": {},
   "outputs": [],
   "source": [
    "%matplotlib inline\n",
    "import numpy as np\n",
    "import pandas as pd\n",
    "import matplotlib.pyplot as plt\n",
    "import scipy.stats as stats"
   ]
  },
  {
   "cell_type": "markdown",
   "metadata": {},
   "source": [
    "<a id= 'whatttest'> </a>"
   ]
  },
  {
   "cell_type": "markdown",
   "metadata": {},
   "source": [
    "## 1. Student t-test\n",
    "\n",
    "If we happen to know the true population mean $\\mu$ of normally distributed data it is easy to say whether the sample mean is very far from it. In a z-test, values are converted to the standard normal distribution in order to see if the sample is close or distant to the population mean. \n",
    "\n",
    "When when the population mean $\\mu$ and variance $\\sigma^2$ are not known we can estimate them using the sample mean $\\bar{X}$ and standard deviation\n",
    "$s^2$. As the sample is likely to underestimate the variability in the\n",
    "true population, the testing is done using a statistic measure with\n",
    "another distribution than the normal. The *t-distribution* is similar to\n",
    "the normal distribution, but wider and flatter because it should\n",
    "compensate for the fact that samples underestimate the variability in\n",
    "the true population.\n",
    "\n",
    "When the statistic is calculated, one needs to determine if it falls in\n",
    "the *critical region*. That is, if the difference between the expected\n",
    "and observed value is so large that it is unlikely to occur by chance.\n",
    "You can look up the critical value, the cut-off point for the critical\n",
    "region, in a table. This value depend on the chosen significance level\n",
    "(\"alpha\", $\\alpha$) and the *degrees of freedom* (df).\n",
    "\n",
    "For the t-test, the degrees of freedom (df or dof) refer to the values\n",
    "in the sample size number that are free to vary once the means are\n",
    "known. Because the true population mean $\\mu$ and variance $\\sigma^2$\n",
    "are unknown, one degree must be \"sacrificed\" to estimate the mean when\n",
    "estimating variability. The larger the sample, the more similar the\n",
    "t-distribution becomes to that of a normal distribution.\n",
    "\n",
    "As a rule of thumb you can calculate the degrees of freedom as the\n",
    "sample size $N$ minus the number of sample groups. In the case of\n",
    "single sample t-test, there is only one group so df=N-1. When you have\n",
    "two groups to compare, two mean values need to be estimated, and thus\n",
    "df=N-2.\n",
    "\n",
    "Most test functions perform this look-up for you, and report the\n",
    "probability directly. Note, however, that when reporting statistical\n",
    "results one is expected not only to report the probability and whether\n",
    "this is below the chosen criteria for significance, but also the actual test statistics and degrees of freedom (so that the reader can check that the results appear sound).\n",
    "\n"
   ]
  },
  {
   "cell_type": "markdown",
   "metadata": {},
   "source": [
    "<a id= 'whenttest'> </a>"
   ]
  },
  {
   "cell_type": "markdown",
   "metadata": {},
   "source": [
    "### 1.2. When can we use t-tests? \n",
    "\n",
    "T-tests are parametric tests and therefore data should be parametric, that is \n",
    "\n",
    "- Data should be on interval or ratio scale\n",
    "\n",
    "- Variances should be approximately equal for different groups \n",
    "\n",
    "- Data comes from a population with normal distribution\n",
    "\n",
    "This means that if measurements of one of the groups has three\n",
    "times the variance of the other, or one of the groups appear to have a\n",
    "bi-modal distribution rather than a normal distribution , the test will\n",
    "not show a correct result. \n"
   ]
  },
  {
   "cell_type": "code",
   "execution_count": 20,
   "metadata": {},
   "outputs": [
    {
     "data": {
      "image/png": "[encoded data removed]",
      "text/plain": [
       "<Figure size 432x288 with 1 Axes>"
      ]
     },
     "metadata": {
      "needs_background": "light"
     },
     "output_type": "display_data"
    }
   ],
   "source": [
    "#TRY OUT: Does this data fulfil the assumptions for parametric tests?\n",
    "\n",
    "K=40 #variable for sample size\n",
    "score1=np.random.normal(0.025,0.5,K)\n",
    "score2=np.random.normal(0.01,0.5,K)\n",
    "\n",
    "plt.boxplot([score1,score2])\n",
    "plt.show()\n",
    "\n",
    "#plot qq-plots and perform tests for normality and equal variance"
   ]
  },
  {
   "cell_type": "markdown",
   "metadata": {},
   "source": [
    "To choose the right test, we also need to know whether the data points are *related* or *unrelated*."
   ]
  },
  {
   "cell_type": "markdown",
   "metadata": {},
   "source": [
    "<a id= 'Indepttest'> </a>"
   ]
  },
  {
   "cell_type": "markdown",
   "metadata": {},
   "source": [
    "## 2. Student t-test for two independent samples\n",
    "\n",
    "\n",
    "When comparing two different groups, as in a between groups design, the\n",
    "samples from the two groups should be independent. The t-statistic for\n",
    "*two independent samples* is a ratio. The t-value is calculated as the\n",
    "difference (in means) *between* groups divided by the variability\n",
    "*within* groups. :\n",
    "$$t  =\\frac {\\bar{X}_1-\\bar{X}_2} {\\sqrt{\\frac{s_1^2}{N_1}+\\frac{s_2^2}{N_2}}}$$\n",
    "\n",
    "Where $\\bar{X}_1$ and $\\bar{X}_2$ are sample means and the sample\n",
    "variance $s^2$ for each group is calculated as \n",
    "\n",
    "$$s^2  =\\frac {\\sum_i^N{ (X_i-\\bar{X})^2}} {N-1}$$\n"
   ]
  },
  {
   "cell_type": "code",
   "execution_count": 17,
   "metadata": {},
   "outputs": [
    {
     "data": {
      "image/png": "[encoded data removed]",
      "text/plain": [
       "<Figure size 432x288 with 1 Axes>"
      ]
     },
     "metadata": {
      "needs_background": "light"
     },
     "output_type": "display_data"
    }
   ],
   "source": [
    "#We generate some data\n",
    "K=30\n",
    "groupA=np.random.normal(1.8,3,K)\n",
    "\n",
    "groupB=np.random.normal(2.9,3,K)\n",
    "\n",
    "\n",
    "#plot the histograms of data\n",
    "plt.hist([groupA,groupB], bins=6)\n",
    "plt.show()"
   ]
  },
  {
   "cell_type": "markdown",
   "metadata": {},
   "source": [
    "### Try out 1: \n",
    "Perform an independent t-test with the data for groups A and B (as generated above). What does the output mean?"
   ]
  },
  {
   "cell_type": "code",
   "execution_count": 4,
   "metadata": {},
   "outputs": [],
   "source": [
    "#First check help(stats.ttest_ind)\n",
    "\n",
    "#then modify this call to get the output of the test\n",
    "#stats.ttest_ind( )"
   ]
  },
  {
   "cell_type": "markdown",
   "metadata": {},
   "source": [
    "<a id= 'relttest'> </a> "
   ]
  },
  {
   "cell_type": "markdown",
   "metadata": {},
   "source": [
    "## 3.  t-test for two related samples\n",
    "\n",
    "In a repeated measures design, the two samples are not independent\n",
    "because they come from the same individuals (who are participating in\n",
    "all experimental conditions). The null hypothesis would be that there\n",
    "are no significant differences between the conditions, and so the\n",
    "t-statistic is calculated to test the *difference* between the paired\n",
    "scores in the two cases. This test is also called paired samples t-test\n",
    "and is, in principle, the same as a single sample t-test (where the\n",
    "sample mean $\\mu$ but not the variance is known).\n",
    "\n",
    "$$t  =\\frac {\\bar{X}-\\mu_{expected}} {\\sqrt{\\frac{s^2}{n}}}$$\n",
    "\n",
    "Why is that? Well, we do know something about what would be expected if\n",
    "there is no effect of condition. In that case, the paired scores should\n",
    "be approximately equal, yielding a difference of zero. So, in contrast\n",
    "to the single sample, the expected mean $\\mu_{expected}$ is always zero. This also means that you cannot use the same function call for related samples, because you would not do the right test."
   ]
  },
  {
   "cell_type": "markdown",
   "metadata": {},
   "source": [
    "### Try out 2: \n",
    "Assume that scores in group A and B above are dependent (coming from the same participant) and perform a related t-test. \n",
    "\n",
    "Is there a difference compared to the independent t-test?"
   ]
  },
  {
   "cell_type": "code",
   "execution_count": 38,
   "metadata": {},
   "outputs": [],
   "source": [
    "#For a related t-test the function is different:\n",
    "\n",
    "#help(stats.ttest_rel)"
   ]
  },
  {
   "cell_type": "markdown",
   "metadata": {},
   "source": [
    "### Try out 3:\n",
    "The data used for the exercises here has some random variability, being newly drawn each time you assign values to group A and B. Run through the code for independent and dependent t-tests and see how much the result differs between new samples. Also change the sample size. Remember that the power of the test increases with larger sample size, so comparably small effect sizes are more likely to come out as significant as the sample size increases (compare below 30 with 300 and 3000 for example)."
   ]
  },
  {
   "cell_type": "code",
   "execution_count": null,
   "metadata": {},
   "outputs": [],
   "source": []
  }
 ],
 "metadata": {
  "kernelspec": {
   "display_name": "Python 3",
   "language": "python",
   "name": "python3"
  },
  "language_info": {
   "codemirror_mode": {
    "name": "ipython",
    "version": 3
   },
   "file_extension": ".py",
   "mimetype": "text/x-python",
   "name": "python",
   "nbconvert_exporter": "python",
   "pygments_lexer": "ipython3",
   "version": "3.7.3"
  }
 },
 "nbformat": 4,
 "nbformat_minor": 4
}
