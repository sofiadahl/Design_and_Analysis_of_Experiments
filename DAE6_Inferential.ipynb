{
 "cells": [
  {
   "cell_type": "markdown",
   "metadata": {
    "id": "UG0faQnuDQOs"
   },
   "source": [
    "# DAE 6 Inferential Statistics\n",
    "\n",
    "Author:\n",
    "- |\n",
    "    Sofia Dahl, sof@create.aau.dk\\\n",
    "    Dept. Architecture, Design and Media Technology, Aalborg University Copenhagen\n",
    "---\n",
    "\n",
    "## Learning goals\n",
    "After working your way through this notebook you should be able to..\n",
    "- Explain what inferential statistics is used for\n",
    "- Explain basic concepts of probability\n",
    "- Explain the relationship between probability and frequency distributions\n",
    "\n",
    "## Table of Contents\n",
    "- [1 Probability](#Probability)\n",
    "- [2 From Probability to Hypothesis testing](#Hypothesis)  \n",
    "    - [2.1 A Practical Example: Heights](#Heights) \n",
    "- [3 Significance Levels](#Significance)\n",
    "    - [3.1 Detecting Effects](#Detecting)\n",
    "- [4 Effect Size](#Effectsize)\n",
    "    - [4.1 Systematic and Unsystematic Variance](#Systematic)\n",
    "- [5 Type I and II Errors](#Errors)   \n",
    "    - [5.1 Statistical Power](#Power)"
   ]
  },
  {
   "cell_type": "code",
   "execution_count": 4,
   "metadata": {
    "executionInfo": {
     "elapsed": 498,
     "status": "ok",
     "timestamp": 1620474091606,
     "user": {
      "displayName": "Prithvi Kantan",
      "photoUrl": "https://lh3.googleusercontent.com/a-/AOh14GiCLUP5h_S53ydSDrgq_SLOZBd5_3wFs87fFb5XQA=s64",
      "userId": "18111691564717832004"
     },
     "user_tz": -120
    },
    "id": "ZsJ2pXUrDQO0"
   },
   "outputs": [],
   "source": [
    "%matplotlib inline\n",
    "\n",
    "import numpy as np\n",
    "import pandas as pd\n",
    "import matplotlib.pyplot as plt"
   ]
  },
  {
   "cell_type": "markdown",
   "metadata": {
    "id": "6S8L4bMwDQO1"
   },
   "source": [
    "<a id= 'Probability'> </a>"
   ]
  },
  {
   "cell_type": "markdown",
   "metadata": {
    "id": "iuE950Y-DQO2"
   },
   "source": [
    "## 1. Probability\n",
    "\n",
    "In previous chapters we have looked at frequency distributions of data. The reason why frequency distributions are so interesting is that they can be related to probabilities. That is, how likely (or unlikely) it is for a particular outcome to occur.\n",
    "\n",
    "The probability of an event, *p(A)* is defined as number of outcomes classified as A divided by the total number of possible outcomes, and can vary between 0 and 1. \n",
    "\n",
    "For example, the probability of getting a 6\n",
    "when rolling a six-sided die is:\n",
    "\n",
    "$$p(6) = {{ 1} \\over{6} }$$\n",
    "\n",
    "p(A) = 1 if the event *ALWAYS* happens (e.g. to get either a 1, 2, 3, 4,\n",
    "5, or 6 when rolling a dice).\n",
    "\n",
    "p(A) = 0 if A is something that never happens (e.g. that the same die\n",
    "shows 7 after a roll).\n",
    "\n",
    "When two or more outcomes cannot occur simultaneously, they are said to be *mutually exclusive*.\n",
    "\n",
    "If several outcomes are mutually exclusive, **the probability that any one of these outcomes will occur is the sum of their individual probabilities**. For instance, the probability of rolling an even number with a six-sided die would be the sum of the probabilities of the individual even number outcomes as follows:\n",
    "\n",
    "$$p(even) = p(2)+p(4)+p(6)={{1} \\over{6}}+{{1} \\over{6}} +{{1} \\over{6} }={{1} \\over{2}}$$\n",
    "\n",
    "\n"
   ]
  },
  {
   "cell_type": "markdown",
   "metadata": {
    "id": "Q-lTAHjFDQO2"
   },
   "source": [
    "If we consider a set of data as describing the full population, we can easily calculate the probability of randomly drawing a particular sample from it. \n",
    "Let us take an example with data on age and gender collected from 38 BSc students:"
   ]
  },
  {
   "cell_type": "code",
   "execution_count": 5,
   "metadata": {
    "colab": {
     "base_uri": "https://localhost:8080/"
    },
    "executionInfo": {
     "elapsed": 510,
     "status": "ok",
     "timestamp": 1620474094001,
     "user": {
      "displayName": "Prithvi Kantan",
      "photoUrl": "https://lh3.googleusercontent.com/a-/AOh14GiCLUP5h_S53ydSDrgq_SLOZBd5_3wFs87fFb5XQA=s64",
      "userId": "18111691564717832004"
     },
     "user_tz": -120
    },
    "id": "w8S6JwtBDQO2",
    "outputId": "78b56280-4e6d-4383-85b4-20f963220e54"
   },
   "outputs": [
    {
     "data": {
      "text/plain": [
       "(38, 2)"
      ]
     },
     "execution_count": 5,
     "metadata": {
      "tags": []
     },
     "output_type": "execute_result"
    }
   ],
   "source": [
    "# Data on Medialogy Students' Age and Gender (male=0; female=1)\n",
    "\n",
    "array=np.array([[21,0],[22,0],[26,0],[21,0],\n",
    "[20,0],[23,0],[22,0],[25,0],[21,0],\n",
    "[27,0],[21,0],[20,1],[21,0],[23,0],\n",
    "[22,0],[23,0],[20,0],[22,0],\n",
    "[24,1],[23,0],[22,0],[25,0],[21,0],\n",
    "[24,0],[22,0],[21,0],[25,0],[24,0],\n",
    "[24,0],[21,0],[26,0],[23,0],[20,0],\n",
    "[23,0],[26,0],[21,0],[21,1],[29,0]])\n",
    "\n",
    "data= pd.DataFrame(array, columns=([\"Age\",\"Gender\"]))\n",
    "\n",
    "# Result shows number of rows and columns\n",
    "data.shape\n"
   ]
  },
  {
   "cell_type": "markdown",
   "metadata": {
    "id": "HLpvmiopDQO3"
   },
   "source": [
    "Based on this data, we can calculate the probability of randomly picking a female among the group of students. Like in the example with the die, we then divide the number of this outcome (female) with the total number of possible outcomes (total number of students):"
   ]
  },
  {
   "cell_type": "code",
   "execution_count": 7,
   "metadata": {
    "colab": {
     "base_uri": "https://localhost:8080/"
    },
    "executionInfo": {
     "elapsed": 493,
     "status": "ok",
     "timestamp": 1620474100890,
     "user": {
      "displayName": "Prithvi Kantan",
      "photoUrl": "https://lh3.googleusercontent.com/a-/AOh14GiCLUP5h_S53ydSDrgq_SLOZBd5_3wFs87fFb5XQA=s64",
      "userId": "18111691564717832004"
     },
     "user_tz": -120
    },
    "id": "3Fx0GKNoDQO4",
    "outputId": "82f4e5bc-c943-4e19-de05-17f26a581f4e"
   },
   "outputs": [
    {
     "name": "stdout",
     "output_type": "stream",
     "text": [
      "0.07894736842105263\n"
     ]
    }
   ],
   "source": [
    "# Calculate how many females there are in the sample\n",
    "fem=sum(data.iloc[:,1]>0)\n",
    "\n",
    "# Divide by the total number of observations\n",
    "p_fem=fem/data.shape[0]\n",
    "print(p_fem)"
   ]
  },
  {
   "cell_type": "markdown",
   "metadata": {
    "id": "s46oGdenDQO4"
   },
   "source": [
    "### Try out 1:\n",
    "What is the probability of randomly picking a student from the group that is older than 25? \n"
   ]
  },
  {
   "cell_type": "code",
   "execution_count": 8,
   "metadata": {
    "executionInfo": {
     "elapsed": 506,
     "status": "ok",
     "timestamp": 1620474104718,
     "user": {
      "displayName": "Prithvi Kantan",
      "photoUrl": "https://lh3.googleusercontent.com/a-/AOh14GiCLUP5h_S53ydSDrgq_SLOZBd5_3wFs87fFb5XQA=s64",
      "userId": "18111691564717832004"
     },
     "user_tz": -120
    },
    "id": "E6rzcXQbDQO4"
   },
   "outputs": [],
   "source": [
    "# Start by finding the number of ages above 25 \n",
    "over25 = data.iloc[:,0] > 25\n",
    "\n",
    "# Divide by total number of observations\n",
    "# p_over25 = ........\n",
    "# print(p_over25)\n"
   ]
  },
  {
   "cell_type": "markdown",
   "metadata": {
    "id": "YBQ0itRTDQO5"
   },
   "source": [
    "<a id= 'Hypothesis'> </a>"
   ]
  },
  {
   "cell_type": "markdown",
   "metadata": {
    "id": "vii8xiKEDQO5"
   },
   "source": [
    "## 2. From Probability to Hypothesis testing\n",
    "\n",
    "While descriptive statistics is useful to summarize and present data, inferential statistics provides systems and techniques that allow us to make good decisions and accurate *predictions* based on data. We can use it to model patterns of data and make inferences about the population studied. That is, without having the whole population, we can still use these tools to predict something about it and test these predictions. \n",
    "\n",
    "In research, we use this for testing of hypotheses. A hypothesis is a prediction (often based on theory or earlier studies). In order for it to be a good hypothesis, it should be possible to falsify it. \n",
    "\n",
    "The confirmation or rejection of a hypothesis is based on the probability of an outcome. And the probability is linked to the frequency distribution of a population. "
   ]
  },
  {
   "cell_type": "markdown",
   "metadata": {
    "id": "ePw6V7hEDQO5"
   },
   "source": [
    "Many types of data quantities (e.g. heights) are normally distributed. Meaning that the frequencies of different heights form a symmetric, bell shaped (Gaussian) curve (as we have seen in an earlier chapter). The normal distribution is commonly found in nature, and is also conveniently described by the mean and standard deviation. Having a common, and well-defined distribution makes it possible to calculate probabilities of obtaining a particular value. \n",
    "\n",
    "If we have normally distributed data, we can calculate the probability of obtaining a score in a specific range, or the likelihood of a randomly\n",
    "drawn score being part of the natural variation of the distribution. That is: if we know the mean and standard deviation of the population, we can\n",
    "say how likely a score is to belong to that population."
   ]
  },
  {
   "cell_type": "markdown",
   "metadata": {
    "id": "N-jNlyzqDQO6"
   },
   "source": [
    "<a id= 'Heights'> </a>"
   ]
  },
  {
   "cell_type": "markdown",
   "metadata": {
    "id": "nPjUB-2aDQO6"
   },
   "source": [
    "### 2.1 A practical example: heights\n",
    "\n",
    "Let us return to the example of heights. According to \n",
    "https://ourworldindata.org/human-height#what-explains-changes-and-differences-in-human-height\n",
    "the mean male height in Denmark was 181.39 cm in 1996, and among the taller ones in the world. \n",
    "We can compare this to the overall mean of a larger part of the world's population as illustrated in this graph: \n",
    "\n",
    "<img src=\"https://github.com/sofiadahl/Design_and_Analysis_of_Experiments/blob/main/Heightdistribution.png?raw=1\" width=\"800\">\n",
    "https://ourworldindata.org/human-height#height-is-normally-distributed\n",
    "\n",
    "\n",
    "Let us plot the corresponding figure, and mark the average Dane height."
   ]
  },
  {
   "cell_type": "code",
   "execution_count": 13,
   "metadata": {
    "colab": {
     "base_uri": "https://localhost:8080/",
     "height": 265
    },
    "executionInfo": {
     "elapsed": 814,
     "status": "ok",
     "timestamp": 1620474146125,
     "user": {
      "displayName": "Prithvi Kantan",
      "photoUrl": "https://lh3.googleusercontent.com/a-/AOh14GiCLUP5h_S53ydSDrgq_SLOZBd5_3wFs87fFb5XQA=s64",
      "userId": "18111691564717832004"
     },
     "user_tz": -120
    },
    "id": "SESxgigKDQO6",
    "outputId": "99fb2b7c-6da9-49a2-cd3b-7c0789067aa4"
   },
   "outputs": [
    {
     "data": {
      "image/png": "[encoded data removed]",
      "text/plain": [
       "<Figure size 432x288 with 1 Axes>"
      ]
     },
     "metadata": {
      "needs_background": "light",
      "tags": []
     },
     "output_type": "display_data"
    }
   ],
   "source": [
    "# Plot a normal distribution of heights with mean and standard deviation corresponding to the figure above\n",
    "\n",
    "# Generate an x-vector\n",
    "cm = np.arange(130, 230, 0.1)\n",
    "\n",
    "# From figure (in normal distributions median, mean and mode are the same)\n",
    "muM = 178.4 \n",
    "sigmaM = (186 - muM)\n",
    "\n",
    "# Rather than typing the full equation for the normal distribution (as we did in earlier chapters), \n",
    "# we can use functions to get its probability density function.\n",
    "# For example norm in this library\n",
    "from scipy.stats import norm\n",
    "\n",
    "#here loc refers to mean, and scale to standard deviation\n",
    "pdf = norm.pdf(cm , loc = muM, scale = sigmaM) \n",
    "\n",
    "plt.plot(cm,pdf)\n",
    "\n",
    "plt.axvline(muM, 0, 1) #plots the mean value as vertical line\n",
    "plt.axvline(181, 0, 1, c='orange') #plot the average Dane height\n",
    "plt.show()\n"
   ]
  },
  {
   "cell_type": "markdown",
   "metadata": {
    "id": "l5Ew3_RIDQO7"
   },
   "source": [
    "The average male Dane height is slightly greater than the average male height in the above figure. From all these males, what is the probability to randomly pick a male who is 181 cm or taller?\n",
    "\n",
    "Since the data is normally distributed, we do not need to have exact information about all males to answer this. **We can estimate the probability from the area under the Gaussian curve that interests us.** \n",
    "\n",
    "The total area under a standardized normal distribution is 1 and represents the probability of ALL male heights.\n",
    "\n",
    "Thus, the portion of the curve from 181 cm to the right tail corresponds to the probability of a male being 181 cm or taller."
   ]
  },
  {
   "cell_type": "code",
   "execution_count": 10,
   "metadata": {
    "colab": {
     "base_uri": "https://localhost:8080/"
    },
    "executionInfo": {
     "elapsed": 862,
     "status": "ok",
     "timestamp": 1620474115641,
     "user": {
      "displayName": "Prithvi Kantan",
      "photoUrl": "https://lh3.googleusercontent.com/a-/AOh14GiCLUP5h_S53ydSDrgq_SLOZBd5_3wFs87fFb5XQA=s64",
      "userId": "18111691564717832004"
     },
     "user_tz": -120
    },
    "id": "c1C6vUnxDQO7",
    "outputId": "7ceb45b4-15f0-42e4-e3f2-78beef69a779"
   },
   "outputs": [
    {
     "name": "stdout",
     "output_type": "stream",
     "text": [
      "p=\n"
     ]
    },
    {
     "data": {
      "text/plain": [
       "0.416628457415268"
      ]
     },
     "execution_count": 10,
     "metadata": {
      "tags": []
     },
     "output_type": "execute_result"
    }
   ],
   "source": [
    "#The cumulative distribution function of norm gives the area up until the given value (in this case 181 cm)\n",
    "norm(loc = muM, scale = sigmaM).cdf(180)\n",
    "\n",
    "print(\"p=\")\n",
    "# We get the probability of 181 cm or higher by subtracting the above from 1 (the probability of all heights)  \n",
    "1- norm(loc = muM, scale = sigmaM).cdf(180)\n"
   ]
  },
  {
   "cell_type": "markdown",
   "metadata": {
    "id": "wbBvoJRUDQO7"
   },
   "source": [
    "So if we randomly select one male, the probability is close to 42% that he is 181 cm or taller."
   ]
  },
  {
   "cell_type": "markdown",
   "metadata": {
    "id": "DotfuEnvDQO8"
   },
   "source": [
    "Now we draw not just one person, but a *sample* of five persons and measure their heights: 180, 190, 188, 194 and 197 cm. "
   ]
  },
  {
   "cell_type": "code",
   "execution_count": 11,
   "metadata": {
    "colab": {
     "base_uri": "https://localhost:8080/",
     "height": 284
    },
    "executionInfo": {
     "elapsed": 500,
     "status": "ok",
     "timestamp": 1620474116960,
     "user": {
      "displayName": "Prithvi Kantan",
      "photoUrl": "https://lh3.googleusercontent.com/a-/AOh14GiCLUP5h_S53ydSDrgq_SLOZBd5_3wFs87fFb5XQA=s64",
      "userId": "18111691564717832004"
     },
     "user_tz": -120
    },
    "id": "k0A28YWoDQO8",
    "outputId": "ca2daa3a-6c44-4486-f103-f86f84fda7ba"
   },
   "outputs": [
    {
     "data": {
      "text/html": [
       "<div>\n",
       "<style scoped>\n",
       "    .dataframe tbody tr th:only-of-type {\n",
       "        vertical-align: middle;\n",
       "    }\n",
       "\n",
       "    .dataframe tbody tr th {\n",
       "        vertical-align: top;\n",
       "    }\n",
       "\n",
       "    .dataframe thead th {\n",
       "        text-align: right;\n",
       "    }\n",
       "</style>\n",
       "<table border=\"1\" class=\"dataframe\">\n",
       "  <thead>\n",
       "    <tr style=\"text-align: right;\">\n",
       "      <th></th>\n",
       "      <th>Height</th>\n",
       "    </tr>\n",
       "  </thead>\n",
       "  <tbody>\n",
       "    <tr>\n",
       "      <th>count</th>\n",
       "      <td>5.000000</td>\n",
       "    </tr>\n",
       "    <tr>\n",
       "      <th>mean</th>\n",
       "      <td>189.800000</td>\n",
       "    </tr>\n",
       "    <tr>\n",
       "      <th>std</th>\n",
       "      <td>6.496153</td>\n",
       "    </tr>\n",
       "    <tr>\n",
       "      <th>min</th>\n",
       "      <td>180.000000</td>\n",
       "    </tr>\n",
       "    <tr>\n",
       "      <th>25%</th>\n",
       "      <td>188.000000</td>\n",
       "    </tr>\n",
       "    <tr>\n",
       "      <th>50%</th>\n",
       "      <td>190.000000</td>\n",
       "    </tr>\n",
       "    <tr>\n",
       "      <th>75%</th>\n",
       "      <td>194.000000</td>\n",
       "    </tr>\n",
       "    <tr>\n",
       "      <th>max</th>\n",
       "      <td>197.000000</td>\n",
       "    </tr>\n",
       "  </tbody>\n",
       "</table>\n",
       "</div>"
      ],
      "text/plain": [
       "           Height\n",
       "count    5.000000\n",
       "mean   189.800000\n",
       "std      6.496153\n",
       "min    180.000000\n",
       "25%    188.000000\n",
       "50%    190.000000\n",
       "75%    194.000000\n",
       "max    197.000000"
      ]
     },
     "execution_count": 11,
     "metadata": {
      "tags": []
     },
     "output_type": "execute_result"
    }
   ],
   "source": [
    "height= pd.DataFrame([180, 190, 188, 194, 197], columns=([\"Height\"]))\n",
    "# We can easily get information about the sample using .describe()\n",
    "height.describe()"
   ]
  },
  {
   "cell_type": "markdown",
   "metadata": {
    "id": "AGAFIT7sDQO8"
   },
   "source": [
    "This sample was collected anonymously, and we do NOT know whether these heights correspond to males or females. But because we know heights are normally distributed, we can say something about the probability that this sample was drawn from male and female distributions respectively."
   ]
  },
  {
   "cell_type": "markdown",
   "metadata": {
    "id": "GYCtQXf5DQO8"
   },
   "source": [
    "### Try out 2:\n",
    "Compute the probability of randomly picking a person that is between 180-197 cm tall among males and females, respectively? "
   ]
  },
  {
   "cell_type": "code",
   "execution_count": 12,
   "metadata": {
    "colab": {
     "base_uri": "https://localhost:8080/"
    },
    "executionInfo": {
     "elapsed": 768,
     "status": "ok",
     "timestamp": 1620474119556,
     "user": {
      "displayName": "Prithvi Kantan",
      "photoUrl": "https://lh3.googleusercontent.com/a-/AOh14GiCLUP5h_S53ydSDrgq_SLOZBd5_3wFs87fFb5XQA=s64",
      "userId": "18111691564717832004"
     },
     "user_tz": -120
    },
    "id": "M4CYRfWpDQO9",
    "outputId": "54dab59a-991d-4b99-cc8d-3df64306a099"
   },
   "outputs": [
    {
     "name": "stdout",
     "output_type": "stream",
     "text": [
      "p_Male=\n",
      "p_Fem= \n"
     ]
    }
   ],
   "source": [
    "# Like before, we can use the data in the figure\n",
    "muF=164.7 #from figure\n",
    "sigmaF=(171.8-muF) #from figure\n",
    "\n",
    "#Then you will need to get the value from the cumulative distribution function, but for two values that we subtract:\n",
    "norm(loc = muM, scale = sigmaM).cdf(179)\n",
    "norm(loc = muM, scale = sigmaM).cdf(197)\n",
    "\n",
    "print(\"p_Male=\")\n",
    "\n",
    "print(\"p_Fem= \")\n"
   ]
  },
  {
   "cell_type": "markdown",
   "metadata": {
    "id": "GHQ-EaKqDQO9"
   },
   "source": [
    "You should see that, on average, it is much more likely that the sample would come from male persons than females. Still, the probability of randomly drawing females within this range indicates that you are likely to do so more than 2 out of 100 times you draw a sample. \n",
    "\n",
    "So *how different* should the heights be before we can, with some certainity, conclude that it is UNLIKELY to be from the female distribution?"
   ]
  },
  {
   "cell_type": "markdown",
   "metadata": {
    "id": "16RjC-EhDQO9"
   },
   "source": [
    "<a id= 'Significance'> </a>"
   ]
  },
  {
   "cell_type": "markdown",
   "metadata": {
    "id": "hVpVND_gDQO9"
   },
   "source": [
    "## 3. Significance levels\n",
    "In statistic jargon, we often hear that something is \"significantly different\" from something else. It may sound like something very fixed and certain but that is not really the case, it is still about probability.\n",
    "\n",
    "A result is generally seen as being statistically significant from that predicted by the null hypothesis, when the *probability of obtaining it by random* is lower than a particular criteria. \n",
    "\n",
    "The \"statistical signifcant level\" of 0.05 (5% or 1/20) is a standard used for testing significance. The significance level is used to see if a score belongs to the outer \"tail\" of the normal distribution (at a distance of more than $1.96 * \\sigma $ from the mean). If the score only has a 5% chance or less of occurring, it is considered to be is so different from the expected value that the difference is significant.\n",
    "\n",
    "For example, let's say that our sample of heights is so far out in the rightmost tail of the female distribution that the chance of it popping up by chance is less than 5%. Then it would make sense in rejecting the hypothesis that the sample is from females, because it is much more likely that we would get this sample from the male heights distribution. "
   ]
  },
  {
   "cell_type": "code",
   "execution_count": 14,
   "metadata": {
    "colab": {
     "base_uri": "https://localhost:8080/",
     "height": 265
    },
    "executionInfo": {
     "elapsed": 807,
     "status": "ok",
     "timestamp": 1620474153753,
     "user": {
      "displayName": "Prithvi Kantan",
      "photoUrl": "https://lh3.googleusercontent.com/a-/AOh14GiCLUP5h_S53ydSDrgq_SLOZBd5_3wFs87fFb5XQA=s64",
      "userId": "18111691564717832004"
     },
     "user_tz": -120
    },
    "id": "T8hB5DqqDQO9",
    "outputId": "326b2880-437e-4b5f-a8ef-fe6f8d9a1a6a"
   },
   "outputs": [
    {
     "data": {
      "image/png": "[encoded data removed]",
      "text/plain": [
       "<Figure size 432x288 with 1 Axes>"
      ]
     },
     "metadata": {
      "needs_background": "light",
      "tags": []
     },
     "output_type": "display_data"
    }
   ],
   "source": [
    "# Female and Male height probability density functions\n",
    "pdfF = norm.pdf(cm, loc = muF, scale = sigmaF) \n",
    "pdfM = norm.pdf(cm , loc = muM, scale = sigmaM) \n",
    "\n",
    "# Plot the female and male height distributions\n",
    "plt.plot(cm,pdfF, c='red') \n",
    "plt.plot(cm, pdfM, c='green') \n",
    "\n",
    "# Mark the cutoff for 5% on the upper tail of the female and male distributions\n",
    "plt.axvline(muF+1.96*sigmaF, 0, 0.2, c='red') \n",
    "plt.axvline(muM+1.96*sigmaM, 0, 0.2, c='green')\n",
    "\n",
    "# Plot the mean value as vertical green line\n",
    "# plt.axvline(muM, 0, 1, c='green') \n",
    "\n",
    "plt.show()"
   ]
  },
  {
   "cell_type": "markdown",
   "metadata": {
    "id": "tXguFdjYDQO-"
   },
   "source": [
    "### Try out 3:\n",
    "Imagine a group of children have been given a specific diet since birth. Did it affect their heights if the average height in the group is 195 cm?\n",
    "\n",
    "Compute the probability of randomly picking a person that is this height or taller and relate it to the 5% significance criteria for\n",
    "-  males \n",
    "- females\n"
   ]
  },
  {
   "cell_type": "code",
   "execution_count": null,
   "metadata": {
    "id": "6u3BcCB8DQO-"
   },
   "outputs": [],
   "source": [
    "# calculate the probability of norm(loc = , scale = ).cdf(194) for male and female distributions\n",
    "# deduct the probability from the total (1) to get the answer. \n",
    "\n",
    "# Compare to the significance level 0.05\n"
   ]
  },
  {
   "cell_type": "markdown",
   "metadata": {
    "id": "WoPGcodkDQO-"
   },
   "source": [
    "This is at the core of statistical tests: If a sample is so different that it is unlikely to occur within the normal variation of a population, it may in fact belong to a *different* population.\n",
    "Our experiments are set up to test whether our manipulation has *changed* the dependent variable so much that it is *unlikely* to have happened by chance. We then *reject* the null hypothesis (\"there is no difference between groups\").\n",
    "\n",
    "### Try out 4:\n",
    "Based on the above exercise, form the alternative hypothesis to complement the null hypothesis.\n",
    "- H0: The diet had no effect on male childrens' heights compared to children not following the diet.\n",
    "\n",
    "Which hypothesis does the data support?\n"
   ]
  },
  {
   "cell_type": "markdown",
   "metadata": {
    "id": "uA5S7jGRDQO_"
   },
   "source": [
    "<a id= 'Detecting'> </a>"
   ]
  },
  {
   "cell_type": "markdown",
   "metadata": {
    "id": "OPyVKhVjDQO_"
   },
   "source": [
    "### 3.1 Detecting effects\n",
    "In the height example we used above, the Gaussian heights curves you plotted above can be seen as comparison of data sets from two groups, where the change of an independent variable result in a measurable effect that differentiates the two data sets. For heights, the change could be in type of chromosome (x or y), nutrition or other factors related to height (not factors we would deliberately manipulate in an experiment). \n",
    "\n",
    "Note that the curves are overlapping to some extent, depending on the mean and standard deviation of the two distributions. The smaller the standard deviation of the distributions and the further apart the mean values are, the more evident the difference between them becomes. \n",
    "\n",
    "Let us take an example of game scores for an experimental and a control group. In the experimental group, additional audio cues were given whereas the control group received none. Did the additional cues (independent variable) have an effect on the resulting scores (dependent variable)?"
   ]
  },
  {
   "cell_type": "code",
   "execution_count": 16,
   "metadata": {
    "colab": {
     "base_uri": "https://localhost:8080/",
     "height": 265
    },
    "executionInfo": {
     "elapsed": 1215,
     "status": "ok",
     "timestamp": 1620475038845,
     "user": {
      "displayName": "Prithvi Kantan",
      "photoUrl": "https://lh3.googleusercontent.com/a-/AOh14GiCLUP5h_S53ydSDrgq_SLOZBd5_3wFs87fFb5XQA=s64",
      "userId": "18111691564717832004"
     },
     "user_tz": -120
    },
    "id": "4WsTHqiUDQO_",
    "outputId": "6cf7dd7e-d49b-44a6-cd93-d0b6a7ae0041"
   },
   "outputs": [
    {
     "data": {
      "image/png": "[encoded data removed]",
      "text/plain": [
       "<Figure size 432x288 with 1 Axes>"
      ]
     },
     "metadata": {
      "needs_background": "light",
      "tags": []
     },
     "output_type": "display_data"
    }
   ],
   "source": [
    "\n",
    "# Generate an x-vector of scores\n",
    "score = np.arange(0, 1500, 1)\n",
    "\n",
    "# Make up scores of control group\n",
    "cont_m=500\n",
    "cont_std=210\n",
    "\n",
    "# Plot the probability density function for control group\n",
    "control = norm.pdf(score, loc = cont_m, scale = cont_std)  \n",
    "plt.plot(score,control, c='orange') \n",
    "plt.axvline(cont_m, 0, 1, c='orange') #Mark the aveage\n",
    "\n",
    "# Make up scores of experimental group\n",
    "exper_m=830\n",
    "exper_std=205\n",
    "\n",
    "# Plot the probability density function for experimental group\n",
    "exper = norm.pdf(score , loc = exper_m, scale = exper_std)\n",
    "plt.plot(score, exper, c='blue') #Plot the experimental group\n",
    "plt.axvline(exper_m, 0, 1, c='blue') #Mark the aveage\n",
    "\n",
    "#let us also mark the upper 5% in the control group\n",
    "plt.axvline(cont_m+1.96*cont_std, 0, 0.15, c='orange')\n",
    "\n",
    "plt.show()"
   ]
  },
  {
   "cell_type": "markdown",
   "metadata": {
    "id": "Go05dKjPDQO_"
   },
   "source": [
    "As can be seen, the experimental group performs better. But still the overlap between the curves is such that the chance of obtaining the **blue mean value** from the **orange curve** is more than 5%. \n",
    "\n",
    "### Try out 5:\n",
    "Copy the code and redo the plot but reduce the standard deviation to half. What happens to the significance level?\n"
   ]
  },
  {
   "cell_type": "markdown",
   "metadata": {
    "id": "OUUiW07MDQPA"
   },
   "source": [
    "<a id= 'Effectsize'> </a>"
   ]
  },
  {
   "cell_type": "markdown",
   "metadata": {
    "id": "FbQh2CL9DQPA"
   },
   "source": [
    "## 4. Effect size\n",
    "As seen from the example above, the cut-off point of the statistical significance can be adjusted, and also depends on the spread of the data. If we find that the experimental group has scores different from the control group, it is interesting to know the size of the effect, especially because it will help us make decisions based on the results. Is it really worth the cost of implementing the audio cues in the game? Does the effect warrant an investment in high quality headphones (duh..)? \n",
    "\n",
    "The *effect size* gives us a measure of **how much of the variability in the data the effect accounts for**. In the plot above, it corresponds to the difference between experimental and control group means. We can think of it as a distance between them. \n"
   ]
  },
  {
   "cell_type": "markdown",
   "metadata": {
    "id": "OUUiW07MDQPA"
   },
   "source": [
    "<a id= 'Systematic'> </a>"
   ]
  },
  {
   "cell_type": "markdown",
   "metadata": {
    "id": "YwdF08aoDQPA"
   },
   "source": [
    "### 4.1 Systematic and Unsystematic Variance\n",
    "\n",
    "- Unsystematic variance in data is essentially random variability. It can be due to preferences, measurement errors etc. \n",
    "\n",
    "- Systematic variance, on the other hand, is something that causes a systematic difference in measurements between groups. \n",
    "\n",
    "In a well-controlled experiment, the systematic variance should *only* be due to the manipulation of the independent variable. Otherwise we will have difficulties in interpreting the results correctly (see Chapter 2 on Designing experiments).\n",
    "\n",
    "We can return to the game score example to illustrate these variances and the effect size. If the null hypothesis were true (\"There are no differences in game scores between experimental and control group\"), we would consider all the collected data points to belong to *one* distribution and the mean would be somewhere between that of the two groups. \n"
   ]
  },
  {
   "cell_type": "code",
   "execution_count": 17,
   "metadata": {
    "colab": {
     "base_uri": "https://localhost:8080/"
    },
    "executionInfo": {
     "elapsed": 491,
     "status": "ok",
     "timestamp": 1620475043014,
     "user": {
      "displayName": "Prithvi Kantan",
      "photoUrl": "https://lh3.googleusercontent.com/a-/AOh14GiCLUP5h_S53ydSDrgq_SLOZBd5_3wFs87fFb5XQA=s64",
      "userId": "18111691564717832004"
     },
     "user_tz": -120
    },
    "id": "Me-FeG16DQPA",
    "outputId": "fb2b832a-595a-4ea8-d6b1-d5ebe62049f8"
   },
   "outputs": [
    {
     "data": {
      "text/plain": [
       "count      80.000000\n",
       "mean      662.718129\n",
       "std       237.191210\n",
       "min       -35.778852\n",
       "25%       544.168030\n",
       "50%       705.317334\n",
       "75%       820.845655\n",
       "max      1059.264169\n",
       "dtype: float64"
      ]
     },
     "execution_count": 17,
     "metadata": {
      "tags": []
     },
     "output_type": "execute_result"
    }
   ],
   "source": [
    "# We generate some fake data for our game score example, 40 scores per group\n",
    "Control_data=pd.Series(np.random.normal(cont_m, cont_std, 40))\n",
    "Exper_data=pd.Series(np.random.normal(exper_m, exper_std, 40))\n",
    "\n",
    "# We now concatenate all these data points into one Series\n",
    "All_data=pd.concat([Control_data, Exper_data], axis=0)\n",
    "\n",
    "# Get the description of all the data\n",
    "all_stats=All_data.describe()\n",
    "all_stats"
   ]
  },
  {
   "cell_type": "code",
   "execution_count": 19,
   "metadata": {
    "colab": {
     "base_uri": "https://localhost:8080/",
     "height": 279
    },
    "executionInfo": {
     "elapsed": 1063,
     "status": "ok",
     "timestamp": 1620475333281,
     "user": {
      "displayName": "Prithvi Kantan",
      "photoUrl": "https://lh3.googleusercontent.com/a-/AOh14GiCLUP5h_S53ydSDrgq_SLOZBd5_3wFs87fFb5XQA=s64",
      "userId": "18111691564717832004"
     },
     "user_tz": -120
    },
    "id": "NGS7axiWDQPA",
    "outputId": "4588a649-2842-4d64-80b6-2e75284d53d3"
   },
   "outputs": [
    {
     "data": {
      "image/png": "[encoded data removed]",
      "text/plain": [
       "<Figure size 432x288 with 1 Axes>"
      ]
     },
     "metadata": {
      "needs_background": "light",
      "tags": []
     },
     "output_type": "display_data"
    }
   ],
   "source": [
    "# Get the mean and standard deviation of all data points\n",
    "All_mean=all_stats.iloc[1]\n",
    "All_std=all_stats.iloc[2]\n",
    "\n",
    "# Together with the mean and standard deviation for each group, we can now put together a plot\n",
    "\n",
    "# First the histogram of actual data points, but now we also save the bins\n",
    "count, bins, ignored = plt.hist(All_data, 30, density=True)\n",
    "plt.xlabel('score')\n",
    "\n",
    "# Then we get the probability density functions for all data and the groups\n",
    "totpdf= norm.pdf(bins , loc = All_mean, scale = All_std)\n",
    "control = norm.pdf(bins, loc = cont_m, scale = cont_std) \n",
    "exper = norm.pdf(bins, loc = exper_m, scale = exper_std) \n",
    "\n",
    "plt.plot(bins,totpdf, c='green') \n",
    "plt.axvline(All_mean, 0, 1, c='green') #Mark the total mean\n",
    "\n",
    "plt.plot(bins,control, c='orange') \n",
    "plt.axvline(cont_m, 0, 1, c='orange') #Mark the control group mean\n",
    "\n",
    "plt.plot(bins, exper, c='blue') #Plot the experimental group\n",
    "plt.axvline(exper_m, 0, 1, c='blue') #Mark the experimental group mean\n",
    "\n",
    "plt.show()\n"
   ]
  },
  {
   "cell_type": "markdown",
   "metadata": {
    "id": "gWpoyJgsDQPD"
   },
   "source": [
    "As you may recall, the variance is calculated as the squared distance between each data point and the mean. We can now compare these *sums of squares* of all scores (the squared distance from all scores to the grand mean, here in green) with that of the model. That is, how much of the variance that we have is explained by the simple fact that we think they belong to different distributions?\n",
    "\n",
    "Let's start with the total sum of squares\n",
    "$$SS_T  =\\sum{ (x_n - \\bar{x})^2 }$$"
   ]
  },
  {
   "cell_type": "code",
   "execution_count": 20,
   "metadata": {
    "executionInfo": {
     "elapsed": 529,
     "status": "ok",
     "timestamp": 1620475339274,
     "user": {
      "displayName": "Prithvi Kantan",
      "photoUrl": "https://lh3.googleusercontent.com/a-/AOh14GiCLUP5h_S53ydSDrgq_SLOZBd5_3wFs87fFb5XQA=s64",
      "userId": "18111691564717832004"
     },
     "user_tz": -120
    },
    "id": "Bdb8din7DQPD"
   },
   "outputs": [],
   "source": [
    "#Sum of squares \n",
    "#all data points\n",
    "SS_T=sum((All_data-All_mean)**2)\n"
   ]
  },
  {
   "cell_type": "markdown",
   "metadata": {
    "id": "p8YA0Ph1DQPF"
   },
   "source": [
    "And then we have our model with two means different from the total mean. So the sum of squares simply squares the difference between the group means and the total, multiplied by the number in each group (no summation needed):\n",
    "\n",
    "$$SS_M  =N_{cont}*(\\bar{x}_{cont} - \\bar{x})^2  +N_{exp}* (\\bar{x}_{exp} - \\bar{x})^2 $$\n",
    "\n",
    "If our model is any good, it should account for a big portion of the variance in the data. "
   ]
  },
  {
   "cell_type": "code",
   "execution_count": 22,
   "metadata": {
    "executionInfo": {
     "elapsed": 562,
     "status": "ok",
     "timestamp": 1620475571353,
     "user": {
      "displayName": "Prithvi Kantan",
      "photoUrl": "https://lh3.googleusercontent.com/a-/AOh14GiCLUP5h_S53ydSDrgq_SLOZBd5_3wFs87fFb5XQA=s64",
      "userId": "18111691564717832004"
     },
     "user_tz": -120
    },
    "id": "Q0tiNfmhDQPF"
   },
   "outputs": [],
   "source": [
    "#The between-group sum of square is actually simpler\n",
    "SS_M=Control_data.shape[0] * (cont_m-All_mean)**2 + Exper_data.shape[0] *(exper_m-All_mean)**2 \n"
   ]
  },
  {
   "cell_type": "markdown",
   "metadata": {
    "id": "oE9OJkd4DQPF"
   },
   "source": [
    "We can now calculate the proportion of variance explained by the model compared to the total. This is also called $r^2$ \n",
    "\n",
    "$$ r^2 =\\frac{SS_M}{SS_T}$$"
   ]
  },
  {
   "cell_type": "markdown",
   "metadata": {
    "id": "dABkRvTjDQPF"
   },
   "source": [
    "Perhaps you recognize r? It is the same Pearson correlation coefficient that we used earlier. \n",
    "\n",
    "When we used linear regression, we had another type of model but the principle is the same. The prediction line accounts for some of the systematic variation inthe data, while other variability is not accounted for (the error). The best-fitting line minimizes the error.  \n",
    "\n",
    "The Pearson correlation coefficient is, in fact, a measure of the effect size, which also makes it possible to compare across different experiments!"
   ]
  },
  {
   "cell_type": "markdown",
   "metadata": {
    "id": "H-l54WuRDQPF"
   },
   "source": [
    "### Try out 6:\n",
    "Calculate the effect size $r$ using the two Sum of Squares above (note that you must take the square root of $r^2$). Is the effect small, medium or large?"
   ]
  },
  {
   "cell_type": "markdown",
   "metadata": {
    "id": "21yDWP8XDQPG"
   },
   "source": [
    "<a id= 'Errors'> </a>"
   ]
  },
  {
   "cell_type": "markdown",
   "metadata": {
    "id": "tC147ToeDQPG"
   },
   "source": [
    "## 5. Type I and II errors \n",
    "\n",
    "As we stated earlier, the chosen significance level ($\\alpha$-level) is a criterion for what we are willing to accept as rejecting the null hypothesis on false grounds. This is one of two errors we can make in inferential statistics:\n",
    "\n",
    "- Type I: Falsely stating that there is a statistically significant effect when, in truth, the result occured by chance.\n",
    "- Type II: Falsely stating that there is NO statistically significant effect when there actually is an effect.\n",
    "\n",
    "By chosing the 0.05 criteria, we accept that 5% of the time, we will reject the null hypothesis and be utterly wrong.\n",
    "We can select a stricter significance level. If we use an $\\alpha$-level of 0.01, we will only make a Type I error 1% of the time, but on the other hand the probability of making a Type II error (we call this $\\beta$) is now increased.\n",
    "\n",
    "Both these can be problematic and the context and consequences of the error must decide what criteria that makes sense to use. \n",
    "\n"
   ]
  },
  {
   "cell_type": "markdown",
   "metadata": {
    "id": "m_xJ-sFLDQPG"
   },
   "source": [
    "<a id= 'Power'> </a>"
   ]
  },
  {
   "cell_type": "markdown",
   "metadata": {
    "id": "cLaPXgwVDQPG"
   },
   "source": [
    "### 5.1 Statistical power\n",
    "The *power* of a test is the probability of detecting an effect (if it really exists). The probability of **not detecting a genuine effect** is $\\beta$ and so the probability of actually detecting it is 1-$\\beta$. \n",
    "As suggested in Fields & Hole, it would be reasonable to detect the actual effect 80% of times ($1-\\beta=0.8$).\n",
    "\n",
    "The power will vary some with the actual statistical tests we use (e.g. parametric or non parametric). More imporantly, having made up our mind about the criteria to select for $\\alpha$ and $\\beta$, and with some idea about the effect size (either from pilot data or earlier literature), we can use this to calculate the sample size needed to actually detect the effect (if any). This is very useful, because it takes time and resources to collect and analyze data. If the effect is small (r=0.1) we would need to recruit 783 participants to detect it with $\\alpha=0.05$ and $\\beta=0.2$. It is therefore a good investment to estimate the effect size and go through a series of pilot tests to see if changing instructions, making special recruitment criteria or similar can reduce variability and increase effect size."
   ]
  },
  {
   "cell_type": "code",
   "execution_count": null,
   "metadata": {
    "id": "myqXTaGZDQPG"
   },
   "outputs": [],
   "source": []
  }
 ],
 "metadata": {
  "colab": {
   "collapsed_sections": [],
   "name": "Copy of DAE6_Inferential.ipynb",
   "provenance": [
    {
     "file_id": "https://github.com/sofiadahl/Design_and_Analysis_of_Experiments/blob/main/DAE6_Inferential.ipynb",
     "timestamp": 1620396960985
    }
   ]
  },
  "kernelspec": {
   "display_name": "Python 3",
   "language": "python",
   "name": "python3"
  },
  "language_info": {
   "codemirror_mode": {
    "name": "ipython",
    "version": 3
   },
   "file_extension": ".py",
   "mimetype": "text/x-python",
   "name": "python",
   "nbconvert_exporter": "python",
   "pygments_lexer": "ipython3",
   "version": "3.7.3"
  }
 },
 "nbformat": 4,
 "nbformat_minor": 4
}
