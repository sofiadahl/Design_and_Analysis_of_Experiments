{
 "cells": [
  {
   "cell_type": "markdown",
   "metadata": {},
   "source": [
    "# DAE 6 Inferential Statistics\n",
    "\n",
    "author:\n",
    "- |\n",
    "    Sofia Dahl, sof@create.aau.dk\\\n",
    "    Dept. Architecture, Design and Media Technology, Aalborg University Copenhagen\n",
    "---\n",
    "\n",
    "## Learning goals\n",
    "After working your way through this notebook you should be able to..\n",
    "- Explain what inferential statistics is used for\n",
    "- Explain basic concept of probability\n",
    "- Explain the relationship between probability and frequency distributions\n",
    "\n",
    "## Table of Contents\n",
    "- [1 Probability](#Probability)\n",
    "- [2 From Probability to Hypothesis testing](#Hypothesis)  \n",
    "    -[2.1 A practical example: heights](#Heights) \n",
    "- [3 Significance levels](#Significance)\n",
    "    - [3.1 Detecting Effects](#Detecting)\n",
    "- [4 Effect size](#Effect)\n",
    "    - [4.1 Systematic and Unsystematic Variance](#Systematic)\n",
    "- [5 Type I and II errors](#Error)   \n",
    "    - [5.1 Statistical Power](#Power)"
   ]
  },
  {
   "cell_type": "code",
   "execution_count": 6,
   "metadata": {},
   "outputs": [],
   "source": [
    "%matplotlib inline\n",
    "\n",
    "import numpy as np\n",
    "import pandas as pd\n",
    "import matplotlib.pyplot as plt"
   ]
  },
  {
   "cell_type": "markdown",
   "metadata": {},
   "source": [
    "<a id= 'Probability'> </a>"
   ]
  },
  {
   "cell_type": "markdown",
   "metadata": {},
   "source": [
    "## 1. Probability\n",
    "\n",
    "The reason why frequency distributions are so interesting is that they can be related to probabilities. \n",
    "\n",
    "The probability of an event, *p(A)*, can vary between 0 and 1 and is\n",
    "defined as number of outcomes classified as A divided by the total\n",
    "number of possible outcomes. For example, the probability of getting a 6\n",
    "when rolling a six-sided die is:\n",
    "\n",
    "$$p(6) = {{ 1} \\over{6} }$$\n",
    "\n",
    "p(A) =1 if the event *ALWAYS* happens (e.g. to get either a 1, 2, 3, 4,\n",
    "5, or 6 when rolling a dice).\n",
    "\n",
    "p(A) =0 if A is something that never happens (e.g. that the same die\n",
    "shows 7 after a roll).\n",
    "\n",
    "If several outcomes are mutually exclusive, the probabilities for the\n",
    "outcomes of them can be added. For instance, the probability of rolling\n",
    "an even number with a six-sided die would be:\n",
    "\n",
    "$$p(even) = p(2)+p(4)+p(6)={{1} \\over{6}}+{{1} \\over{6}} +{{1} \\over{6} }={{1} \\over{2}}$$\n",
    "\n",
    "\n"
   ]
  },
  {
   "cell_type": "markdown",
   "metadata": {},
   "source": [
    "If we consider a set of data as describing the full population, we can easily calculate the probability of randomly drawing a particular sample from it. \n",
    "Let us take an example with data on age and gender collected from 39 BSc students:"
   ]
  },
  {
   "cell_type": "code",
   "execution_count": 56,
   "metadata": {},
   "outputs": [
    {
     "data": {
      "text/plain": [
       "(38, 2)"
      ]
     },
     "execution_count": 56,
     "metadata": {},
     "output_type": "execute_result"
    }
   ],
   "source": [
    "#Data on medialogy students age and gender (male=0; female=1)\n",
    "\n",
    "array=np.array([[21,0],[22,0],[26,0],[21,0],\n",
    "[20,0],[23,0],[22,0],[25,0],[21,0],\n",
    "[27,0],[21,0],[20,1],[21,0],[23,0],\n",
    "[22,0],[23,0],[20,0],[22,0],\n",
    "[24,1],[23,0],[22,0],[25,0],[21,0],\n",
    "[24,0],[22,0],[21,0],[25,0],[24,0],\n",
    "[24,0],[21,0],[26,0],[23,0],[20,0],\n",
    "[23,0],[26,0],[21,0],[21,1],[29,0]])\n",
    "\n",
    "data= pd.DataFrame(array, columns=([\"Age\",\"Gender\"]))\n",
    "data.shape\n"
   ]
  },
  {
   "cell_type": "markdown",
   "metadata": {},
   "source": [
    "Based on this data, we can calculate the probility of randomly picking a female among the group of students. Like in the example with the die, we then divide the number of this outcome (female) with the total number of possible outcomes (total number of students):"
   ]
  },
  {
   "cell_type": "code",
   "execution_count": 14,
   "metadata": {},
   "outputs": [
    {
     "name": "stdout",
     "output_type": "stream",
     "text": [
      "0.07894736842105263\n"
     ]
    }
   ],
   "source": [
    "#Calculate how many females there are in the sample\n",
    "fem=sum(data.iloc[:,1]>0)\n",
    "\n",
    "#Divide by the total number of observations\n",
    "p_fem=fem/data.shape[0]\n",
    "print(p_fem)"
   ]
  },
  {
   "cell_type": "markdown",
   "metadata": {},
   "source": [
    "### Try out 1:\n",
    "What is the probability of randomly picking a student from the group that is older than 25? \n"
   ]
  },
  {
   "cell_type": "code",
   "execution_count": null,
   "metadata": {},
   "outputs": [],
   "source": [
    "#Start by finding the number of ages above 25 data.iloc[:,0]>25\n",
    "\n"
   ]
  },
  {
   "cell_type": "markdown",
   "metadata": {},
   "source": [
    "<a id= 'Hypothesis'> </a>"
   ]
  },
  {
   "cell_type": "markdown",
   "metadata": {},
   "source": [
    "## 2. From Probability to Hypothesis testing\n",
    "\n",
    "While descriptive statistics is useful to summarize and present data, inferential statistics give systems and techniques that allow us to make good decisions and accurate *predictions* based on data. We can use it to model patterns of data and make inferences about the population studied. That is, without having the whole population we can still use these tools to predict something about it and test these predictions. \n",
    "\n",
    "In research we use this for testing of hypotheses. A hypothesis is a prediction (often based on theory or earlier studies) but in order to be a good hypothesis it should also be possible to falsify it. \n",
    "\n",
    "The confirmation or rejection of a hypothesis is based on the probability of an outcome. And the probability is linked to the frequency distribution of a population. "
   ]
  },
  {
   "cell_type": "markdown",
   "metadata": {},
   "source": [
    "A lot of data, such as heights, are normally distributed. Meaning that the frequencies of different heights form a symmetric, bell shaped (Gaussian), curve (as we have seen in an earlier cahpter). The normal distribution is commonly occuring in nature, and is also conveniently described by the mean and standard deviation. Having a common, and well described distribution makes it possible to calculate probabilities of obtaining a particular value. \n",
    "\n",
    "If we have normally distributed data, we can calculate the probability of obtaining a score in a specific range or the likelihood of a randomly\n",
    "drawn score being part of the natural variation of the distribution. That is: if we know the mean and standard deviation of the population we can\n",
    "say how likely a score is to belong to that population."
   ]
  },
  {
   "cell_type": "markdown",
   "metadata": {},
   "source": [
    "<a id= 'Heights'> </a>"
   ]
  },
  {
   "cell_type": "markdown",
   "metadata": {},
   "source": [
    "### 2.1 A practical example: heights\n",
    "\n",
    "Let us return to the example of heights. According to \n",
    "https://ourworldindata.org/human-height#what-explains-changes-and-differences-in-human-height\n",
    "the mean male height in Denmark was 181.39 cm in 1996, and among the taller ones in the world. \n",
    "We can compare this to the overall mean of a larger part of the world's population as illustrated in this graph: \n",
    "\n",
    "<img src=\"Heightdistribution.png\" width=\"800\">\n",
    "https://ourworldindata.org/human-height#height-is-normally-distributed\n",
    "\n",
    "\n",
    "Let us plot the corresponding figure, and mark the average Dane height."
   ]
  },
  {
   "cell_type": "code",
   "execution_count": 59,
   "metadata": {},
   "outputs": [
    {
     "data": {
      "image/png": "[encoded data removed]",
      "text/plain": [
       "<Figure size 432x288 with 1 Axes>"
      ]
     },
     "metadata": {
      "needs_background": "light"
     },
     "output_type": "display_data"
    }
   ],
   "source": [
    "#plot a normal distribution of heights with mean and standard deviation corresponding to the figure above\n",
    "\n",
    "#generate an x-vector\n",
    "cm = np.arange(130, 230, 0.1)\n",
    "\n",
    "muM=178.4 #from figure. In normal distributions median, mean and mode are the same\n",
    "sigmaM=(186-muM) #from figure\n",
    "\n",
    "\n",
    "#Rather than typing the full equation for the normal distribution (as we did in earlier chapters), \n",
    "#we can use functions to get its probability density function.\n",
    "# For example norm in this library\n",
    "from scipy.stats import norm\n",
    "pdf = norm.pdf(cm , loc = muM, scale = sigmaM) #here loc refers to mean, and scale to standard deviation\n",
    "\n",
    "plt.plot(cm,pdf)\n",
    "\n",
    "plt.axvline(muM, 0, 1) #plots the mean value as vertical line\n",
    "plt.axvline(181, 0, 1, c='orange') #plot the average Dane height\n",
    "plt.show()\n"
   ]
  },
  {
   "cell_type": "markdown",
   "metadata": {},
   "source": [
    "The average male Dane height is slightly taller than the average male height in the above figure. What is the probability to randomly, from all these males, to pick a male that has the height of 181 cm or taller?\n",
    "\n",
    "Since the data is normally distributed, we do not need to have exact information about all the males to answer this. We can estimate the probability from the area under the Gaussian curve that interest us. The total area under a standardized normal distribution is 1 and relates to the probability of ALL male heights, and so the portion of the curve, from 181 cm and including the right tail, correspond to the probability of a male being 181 cm or taller."
   ]
  },
  {
   "cell_type": "code",
   "execution_count": 39,
   "metadata": {},
   "outputs": [
    {
     "name": "stdout",
     "output_type": "stream",
     "text": [
      "p=\n"
     ]
    },
    {
     "data": {
      "text/plain": [
       "0.416628457415268"
      ]
     },
     "execution_count": 39,
     "metadata": {},
     "output_type": "execute_result"
    }
   ],
   "source": [
    "#The cumulative distribution function of norm gives the area up until the given value (in this case 181 cm)\n",
    "norm(loc = muM, scale = sigmaM).cdf(180)\n",
    "\n",
    "print(\"p=\")\n",
    "# We get the probability of 181 cm or higher by subtracting the above from 1 (the probability of all heights)  \n",
    "1- norm(loc = muM, scale = sigmaM).cdf(180)\n"
   ]
  },
  {
   "cell_type": "markdown",
   "metadata": {},
   "source": [
    "So if randomly selecting one male person among all these males, the probability is close to 42% that this person is 181 cm or taller."
   ]
  },
  {
   "cell_type": "markdown",
   "metadata": {},
   "source": [
    "Now we draw not just one person, but a *sample* of five persons and measure their heights: 180, 190, 188, 194 and 197 cm. "
   ]
  },
  {
   "cell_type": "code",
   "execution_count": 30,
   "metadata": {},
   "outputs": [
    {
     "data": {
      "text/html": [
       "<div>\n",
       "<style scoped>\n",
       "    .dataframe tbody tr th:only-of-type {\n",
       "        vertical-align: middle;\n",
       "    }\n",
       "\n",
       "    .dataframe tbody tr th {\n",
       "        vertical-align: top;\n",
       "    }\n",
       "\n",
       "    .dataframe thead th {\n",
       "        text-align: right;\n",
       "    }\n",
       "</style>\n",
       "<table border=\"1\" class=\"dataframe\">\n",
       "  <thead>\n",
       "    <tr style=\"text-align: right;\">\n",
       "      <th></th>\n",
       "      <th>Height</th>\n",
       "    </tr>\n",
       "  </thead>\n",
       "  <tbody>\n",
       "    <tr>\n",
       "      <th>count</th>\n",
       "      <td>5.000000</td>\n",
       "    </tr>\n",
       "    <tr>\n",
       "      <th>mean</th>\n",
       "      <td>189.800000</td>\n",
       "    </tr>\n",
       "    <tr>\n",
       "      <th>std</th>\n",
       "      <td>6.496153</td>\n",
       "    </tr>\n",
       "    <tr>\n",
       "      <th>min</th>\n",
       "      <td>180.000000</td>\n",
       "    </tr>\n",
       "    <tr>\n",
       "      <th>25%</th>\n",
       "      <td>188.000000</td>\n",
       "    </tr>\n",
       "    <tr>\n",
       "      <th>50%</th>\n",
       "      <td>190.000000</td>\n",
       "    </tr>\n",
       "    <tr>\n",
       "      <th>75%</th>\n",
       "      <td>194.000000</td>\n",
       "    </tr>\n",
       "    <tr>\n",
       "      <th>max</th>\n",
       "      <td>197.000000</td>\n",
       "    </tr>\n",
       "  </tbody>\n",
       "</table>\n",
       "</div>"
      ],
      "text/plain": [
       "           Height\n",
       "count    5.000000\n",
       "mean   189.800000\n",
       "std      6.496153\n",
       "min    180.000000\n",
       "25%    188.000000\n",
       "50%    190.000000\n",
       "75%    194.000000\n",
       "max    197.000000"
      ]
     },
     "execution_count": 30,
     "metadata": {},
     "output_type": "execute_result"
    }
   ],
   "source": [
    "height= pd.DataFrame([180, 190, 188, 194, 197], columns=([\"Height\"]))\n",
    "# We can easily get information about the sample using .describe()\n",
    "height.describe()"
   ]
  },
  {
   "cell_type": "markdown",
   "metadata": {},
   "source": [
    "This sample was collected anonymously, and we do not KNOW whether the persons in the sample were males or females. But because we know heights are normally distributed, we can say something about the probability to draw the sample from the male and female distributions respectively."
   ]
  },
  {
   "cell_type": "markdown",
   "metadata": {},
   "source": [
    "### Try out 2:\n",
    "Compute the probability of randomly picking a person that is between 180-197 cm tall among males and females, respectively? "
   ]
  },
  {
   "cell_type": "code",
   "execution_count": 47,
   "metadata": {},
   "outputs": [
    {
     "name": "stdout",
     "output_type": "stream",
     "text": [
      "p_Male=\n",
      "p_Fem= \n"
     ]
    }
   ],
   "source": [
    "#Like before, we can use the data in the figure\n",
    "muF=164.7 #from figure\n",
    "sigmaF=(171.8-muF) #from figure\n",
    "\n",
    "#Then you will need to get the value from the cumulative distribution function, but for two values that we subtract:\n",
    "#norm(loc = muM, scale = sigmaM).cdf(179)\n",
    "#norm(loc = muM, scale = sigmaM).cdf(197)\n",
    "\n",
    "print(\"p_Male=\")\n",
    "\n",
    "print(\"p_Fem= \")\n"
   ]
  },
  {
   "cell_type": "markdown",
   "metadata": {},
   "source": [
    "You should see that, on average, it is much more likely that the sample would come from male persons than females. Still, the probability of randomly drawing females within this range indicates that you are likely to do so more than 2 out of 100 times you draw a sample. \n",
    "\n",
    "So *how different* should the heights be before we can, with some certainity, conclude that it is UNLIKELY to be from the female distribution?"
   ]
  },
  {
   "cell_type": "markdown",
   "metadata": {},
   "source": [
    "<a id= 'Significance'> </a>"
   ]
  },
  {
   "cell_type": "markdown",
   "metadata": {},
   "source": [
    "## 3. Significance levels\n",
    "In statistic jargon we often hear that something is \"significantly different\" from something else. It may sound like something very fixed and certain but that is not really the case, it is still about probability.\n",
    "\n",
    "A result is generally seen as being statistically significant from that predicted by the null hypothesis, when the *probability of obtaining it by random* is lower than a particular criteria. \n",
    "\n",
    "The \"statistical signifcant level\" of 0.05 (5% or 1/20) is a standard used for testing significance. The significance level is used to see if a score belongs to the outer \"tail\" of the normal distribution (at a distance of more than $1.96 * \\sigma $ from the mean). If the score only has a 5% chance or less of occurring, it is considered to be is so different from the expected value that the difference is significant.\n",
    "\n",
    "For example, let's say that our sample of heights is so far out in the rightmost tail of the female distribution that the chance of it popping up by chance is less than 5%. Then it would make sense in rejecting the hypothesis that the sample is from females, because it is much more likely that we would get this sample from the male heights distribution. "
   ]
  },
  {
   "cell_type": "code",
   "execution_count": 54,
   "metadata": {},
   "outputs": [
    {
     "data": {
      "image/png": "[encoded data removed]",
      "text/plain": [
       "<Figure size 432x288 with 1 Axes>"
      ]
     },
     "metadata": {
      "needs_background": "light"
     },
     "output_type": "display_data"
    }
   ],
   "source": [
    "pdfF = norm.pdf(cm, loc = muF, scale = sigmaF) #Female height probability density function \n",
    "\n",
    "plt.plot(cm,pdfF, c='red') #Plot the female height distribution\n",
    "plt.axvline(muF+1.96*sigmaF, 0, 0.2, c='red') #Mark the cutoff for 5% on the upper tail\n",
    "\n",
    "pdfM = norm.pdf(cm , loc = muM, scale = sigmaM) #Male height probability density function \n",
    "plt.plot(cm, pdfM, c='green') #Plot the female height distribution\n",
    "\n",
    "plt.axvline(muM, 0, 1, c='green') #plots the mean value as vertical green line\n",
    "plt.axvline(muM+1.96*sigmaM, 0, 0.2, c='green') #Mark the cutoff for 5% on the upper tail\n",
    "\n",
    "plt.show()"
   ]
  },
  {
   "cell_type": "markdown",
   "metadata": {},
   "source": [
    "### Try out 3:\n",
    "Imagine a group of children have been given a specific diet since birth. Did it affect their weights if the average height in the group is 195 cm?\n",
    "\n",
    "Compute the probability of randomly picking a person that is this height or taller and relate it to the 5% significance criteria for\n",
    "-  males \n",
    "- females\n"
   ]
  },
  {
   "cell_type": "code",
   "execution_count": 53,
   "metadata": {},
   "outputs": [],
   "source": [
    "# calculate the probability of norm(loc = , scale = ).cdf(194) for male and female distributions\n",
    "# deduct the probability from the total (1) to get the answer. \n",
    "\n",
    "#Compare to the significance level 0.05\n"
   ]
  },
  {
   "cell_type": "markdown",
   "metadata": {},
   "source": [
    "This is at the core of statistical tests: If the sample is so different that it is unlikely\n",
    "to occur within the normal variation it may in fact belong to a *different* population.\n",
    "Our experiments are set up to test whether our manipulation have *changed* the dependent variable so much, that it is *unlikely* to have happened by chance. We then *reject* the null hypothesis saying there is no difference between groups.\n",
    "\n",
    "### Try out 4:\n",
    "Based on the above exercise form the alternative hypothesis to complement this null hypothesis.\n",
    "- H0: The diet had no effect on male childrens heights compared to children not following the diet.\n",
    "\n",
    "Which hypothesis does the data support?\n"
   ]
  },
  {
   "cell_type": "markdown",
   "metadata": {},
   "source": [
    "<a id= 'Detecting'> </a>"
   ]
  },
  {
   "cell_type": "markdown",
   "metadata": {},
   "source": [
    "### 3.1 Detecting effects\n",
    "In the height example we used above, the guassian heights curves you plotted above can be seen as comparison of data sets from two groups where the change of an independent variable result in a measurable\n",
    "effect differentiating the two data sets. For heights, the change could be in type of chromosome (x or y), nutrition or other things related to height (not things we would deliberatly manipulate in an experiments). \n",
    "\n",
    "Note that the curves are overlapping to some extent that is dependent on the mean and standard deviation of the two distributions. The smaller the standard deviation of the distributions and the further apart the mean values are, the more evident the difference between them become. \n",
    "\n",
    "Let us take an example of game scores for an experimental and a control group. In the experimental group additional audio cues were given whereas the control group received none. Did the additional cues (independent variable) have an effect on the resulting scores (dependent variable)?"
   ]
  },
  {
   "cell_type": "code",
   "execution_count": 72,
   "metadata": {},
   "outputs": [
    {
     "data": {
      "image/png": "[encoded data removed]",
      "text/plain": [
       "<Figure size 432x288 with 1 Axes>"
      ]
     },
     "metadata": {
      "needs_background": "light"
     },
     "output_type": "display_data"
    }
   ],
   "source": [
    "\n",
    "#generate an x-vector of scores\n",
    "score = np.arange(0, 1500, 1)\n",
    "\n",
    "#Make-up scores of control group\n",
    "cont_m=500\n",
    "cont_std=210\n",
    "\n",
    "#Plot the probability density function for control group\n",
    "control = norm.pdf(score, loc = cont_m, scale = cont_std)  \n",
    "plt.plot(score,control, c='orange') \n",
    "plt.axvline(cont_m, 0, 1, c='orange') #Mark the aveage\n",
    "\n",
    " #Make-up scores of experimental group\n",
    "exper_m=830\n",
    "exper_std=205\n",
    "\n",
    "exper = norm.pdf(score , loc = exper_m, scale = exper_std)\n",
    "plt.plot(score, exper, c='blue') #Plot the experimental group\n",
    "plt.axvline(exper_m, 0, 1, c='blue') #Mark the aveage\n",
    "\n",
    "\n",
    "#let us also mark the upper 5% in the control group\n",
    "plt.axvline(cont_m+1.96*cont_std, 0, 0.15, c='orange')\n",
    "\n",
    "plt.show()"
   ]
  },
  {
   "cell_type": "markdown",
   "metadata": {},
   "source": [
    "As can be seen, the experimental group performs better. But still the overlap between the curves is such, that it is more than 5% chance of obtaining the blue mean from the orange curve. \n",
    "\n",
    "### Try out 5:\n",
    "Copy the code and redo the plot but reduce the standard deviation to half. What happens to the significance level?\n"
   ]
  },
  {
   "cell_type": "markdown",
   "metadata": {},
   "source": [
    "<a id= 'Effect'> </a>"
   ]
  },
  {
   "cell_type": "markdown",
   "metadata": {},
   "source": [
    "## 4. Effect size\n",
    "As seen from the example above, the cut-off point of the statistical significance can be adjusted and also depend on the spread of the data. Even if we find that the experimental group has scores different from the control group, it is more interesting to know the size of the effect. Especially because it will help us make decisions based on the results. Is it really worth the cost of implementing the audio cues in the game? Is the effect worth a gamer investing in high quality headphones (duh..)? \n",
    "\n",
    "The *effect size* gives us a measure of how much of the variability in the data the effect accounts for. In the plot above, it corresponds to the difference between experimental and control group means. We can think of it as a distance between them. \n"
   ]
  },
  {
   "cell_type": "markdown",
   "metadata": {},
   "source": [
    "### 4.1 Systematic and Unsystematic Variance\n",
    "\n",
    "- Unsystematic variance in data is essentially random variability. It can be due to preferences, measurement errors etc. \n",
    "\n",
    "- Systematic variance on the other hand, is something that causes a systematic difference in measurements between groups. \n",
    "\n",
    "In a well-controlled experiment, the systematic variance should *only* be due to the manipulation of the independent variable. Otherwise we will have difficulties in interpreting the results correctly (see Chapter 2 on Designing experiments).\n",
    "\n",
    "We can return to the game score exampl to illustrate these variances and the effect size. If the null hypothesis was true (\"There are no differences in game scores between experimental and control group\") we would consider all the collected data points to belong to *one* distribution and the mean would be somewhere between that of the two groups. \n"
   ]
  },
  {
   "cell_type": "code",
   "execution_count": 124,
   "metadata": {},
   "outputs": [
    {
     "data": {
      "text/plain": [
       "count      80.000000\n",
       "mean      690.202054\n",
       "std       257.225481\n",
       "min        83.021286\n",
       "25%       530.713785\n",
       "50%       679.687797\n",
       "75%       850.593804\n",
       "max      1307.437510\n",
       "dtype: float64"
      ]
     },
     "execution_count": 124,
     "metadata": {},
     "output_type": "execute_result"
    }
   ],
   "source": [
    "# We generate some fake data for our game score example, 40 scores per group\n",
    "Control_data=pd.Series(np.random.normal(cont_m, cont_std, 40))\n",
    "Exper_data=pd.Series(np.random.normal(exper_m, exper_std, 40))\n",
    "\n",
    "#we now concatenate all these data points into one Series\n",
    "All_data=pd.concat([Control_data, Exper_data], axis=0)\n",
    "\n",
    "all_stats=All_data.describe()\n",
    "#get the description of all the data\n",
    "all_stats"
   ]
  },
  {
   "cell_type": "code",
   "execution_count": 125,
   "metadata": {},
   "outputs": [
    {
     "data": {
      "image/png": "[encoded data removed]",
      "text/plain": [
       "<Figure size 432x288 with 1 Axes>"
      ]
     },
     "metadata": {
      "needs_background": "light"
     },
     "output_type": "display_data"
    }
   ],
   "source": [
    "#get the mean of all data points\n",
    "All_mean=all_stats.iloc[1]\n",
    "#get the standard deviation\n",
    "All_std=all_stats.iloc[2]\n",
    "\n",
    "\n",
    "#together with the mean and standard deviation for each group, we can now put together a plot\n",
    "\n",
    "#first the histogram of actual data points, but now we also save the bins\n",
    "count, bins, ignored = plt.hist(All_data, 30, density=True)\n",
    "plt.xlabel('score')\n",
    "\n",
    "#then we get the probability density functions for all data and the groups\n",
    "totpdf= norm.pdf(bins , loc = All_mean, scale = All_std)\n",
    "control = norm.pdf(bins, loc = cont_m, scale = cont_std) \n",
    "exper = norm.pdf(bins, loc = exper_m, scale = exper_std) \n",
    "\n",
    "plt.plot(bins,totpdf, c='green') \n",
    "plt.axvline(All_mean, 0, 1, c='green') #Mark the total mean\n",
    "\n",
    "plt.plot(bins,control, c='orange') \n",
    "plt.axvline(cont_m, 0, 1, c='orange') #Mark the control group mean\n",
    "\n",
    "plt.plot(bins, exper, c='blue') #Plot the experimental group\n",
    "plt.axvline(exper_m, 0, 1, c='blue') #Mark the experimental group mean\n",
    "\n",
    "plt.show()\n"
   ]
  },
  {
   "cell_type": "markdown",
   "metadata": {},
   "source": [
    "As you may recall, the variance is calculated from the squared distance from each data point to the mean. We can now compare these *sum of squares* of all scores (the squared distance from all scores to the grand mean, here in green) with that of the model. That is, how much of the variance that we have is explained by the simple fact that we think they belong to different distributions?\n",
    "\n",
    "Let's start with the total sum of squares\n",
    "$$SS_T  =\\sum{ (x_n - \\bar{x})^2 }$$"
   ]
  },
  {
   "cell_type": "code",
   "execution_count": 144,
   "metadata": {},
   "outputs": [],
   "source": [
    "#Sum of squares \n",
    "#all data points\n",
    "SS_T=sum((All_data-All_mean)**2)\n"
   ]
  },
  {
   "cell_type": "markdown",
   "metadata": {},
   "source": [
    "And then we have our model, with two means different from the total mean. So the sum of squares is simply squaring the diffrence between the group mean and the total, and multiplying with the number in each group (no summation needed):\n",
    "\n",
    "$$SS_M  =N_{cont}*(\\bar{x}_{cont} - \\bar{x})^2  +N_{exp}* (\\bar{x}_{exp} - \\bar{x})^2 $$\n",
    "\n",
    "If this model is any good, this should account for a big portion of the variance in data. "
   ]
  },
  {
   "cell_type": "code",
   "execution_count": 145,
   "metadata": {},
   "outputs": [],
   "source": [
    "#The between-group sum of square is actually simpler\n",
    "SS_M=Control_data.shape[0] * (cont_m-All_mean)**2 + Exper_data.shape[0] *(exper_m-All_mean)**2 \n"
   ]
  },
  {
   "cell_type": "markdown",
   "metadata": {},
   "source": [
    "We can now calculate the proportion of variance explained by the model compared to the total. This is also called $r^2$ \n",
    "\n",
    "$$ r^2 =\\frac{SS_M}{SS_T}$$"
   ]
  },
  {
   "cell_type": "markdown",
   "metadata": {},
   "source": [
    "Perhaps you recognize r? It is the same Pearson correlation coefficient that we used earlier. \n",
    "\n",
    "When we used linear regression we had another type of model but the principle is the same. The prediction line accounts for some of the systematic variation in data, while other variability is not accounted for (the error). The best fitting line minimizes the error.  \n",
    "\n",
    "The Pearson correlation coefficient is, in fact, a measure of the effect size which makes it possible to compare also across different experiments!"
   ]
  },
  {
   "cell_type": "markdown",
   "metadata": {},
   "source": [
    "### Try out 6:\n",
    "Calculate the effect size $r$ using the two Sum of Sqares above (note that you must take the square root of $r^2$). Is the effect small, medium or large?"
   ]
  },
  {
   "cell_type": "markdown",
   "metadata": {},
   "source": [
    "<a id= 'Error'> </a>"
   ]
  },
  {
   "cell_type": "markdown",
   "metadata": {},
   "source": [
    "## 5. Type I and II errors \n",
    "\n",
    "As we stated earlier, the chosen significance level ($\\alpha$-level) is a criterion for what we are willing to accept if rejecting the null hypothesis on false grounds. This is one of two errors we can make in inferential statistics:\n",
    "\n",
    "- Type I: Falsly stating that there is a statistically significant effect when in truth, the result occured by chance.\n",
    "- Type II: Falsly stating that there is NO statistically significant effect when there actually is an effect.\n",
    "\n",
    "By chosing the 0.05 criteria, we accept that 5% of times we will likely reject the null hypothesis and be utterly wrong.\n",
    "We can select a more strict significance level. If we use an $\\alpha$-level of 0.01 we will only make a Type I error 1% instead - but on the other hand the probabiliyt of making a Type II error (we call this $\\beta$) has now increased.\n",
    "\n",
    "Both these can be problematic and the contect and consequence of the error must decide what criteria that makes sense to use.\n"
   ]
  },
  {
   "cell_type": "markdown",
   "metadata": {},
   "source": [
    "<a id= 'Power'> </a>"
   ]
  },
  {
   "cell_type": "markdown",
   "metadata": {},
   "source": [
    "### 5.1 Statistical power\n",
    "The *power* of a test is the probability of detecting an effect (if it really exist). The probability of not detecting a genuine effect is $\\beta$ and so the probability of actually detecting it is 1-$\\beta$. \n",
    "As suggested in Fields & Hole, it would be reasonable to detect the actual effect 80% of times ($1-\\beta=0.8$).\n",
    "\n",
    "The power will vary some with the actual statistical test we use (e.g. parametric or non parametric). More imporantly, having made up your mind about the criteria to select for $\\alpha$ and $\\beta$, and with some idea about the effect size (either from pilot data or earlier literature) we can use this to calculate the sample size needed to actually detect the effect (if any). This is very useful, because it takes time and resources to collect and analyze data. If the effect is small (r=0.1) we would need to recruit 783 participants to detect it with $\\alpha=0.05$ and $\\beta=0.2$. It is therefore a good investment to estimate the effect size and go through a series of pilot tests to see if changing instructions, making special recruitment criteria or similar can reduce variability and increase effect size."
   ]
  },
  {
   "cell_type": "code",
   "execution_count": null,
   "metadata": {},
   "outputs": [],
   "source": []
  }
 ],
 "metadata": {
  "kernelspec": {
   "display_name": "Python 3",
   "language": "python",
   "name": "python3"
  },
  "language_info": {
   "codemirror_mode": {
    "name": "ipython",
    "version": 3
   },
   "file_extension": ".py",
   "mimetype": "text/x-python",
   "name": "python",
   "nbconvert_exporter": "python",
   "pygments_lexer": "ipython3",
   "version": "3.7.3"
  }
 },
 "nbformat": 4,
 "nbformat_minor": 4
}
