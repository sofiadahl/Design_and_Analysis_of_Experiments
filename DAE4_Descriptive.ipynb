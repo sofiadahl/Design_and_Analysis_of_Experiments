{
 "cells": [
  {
   "cell_type": "markdown",
   "metadata": {},
   "source": [
    "# DAE 4 Descriptive Statistics\n",
    "\n",
    "author:\n",
    "- |\n",
    "    Sofia Dahl, sof@create.aau.dk\\\n",
    "    Dept. Architecture, Design and Media Technology, Aalborg University Copenhagen\n",
    "---\n",
    "## Learning goals\n",
    "After working your way through this notebook you should be able to..\n",
    "- Explain what is meant by population and sample\n",
    "- Plot and summarise numerical data by showing\n",
    "  + Central tendency\n",
    "  + Variability\n",
    "- Describe the distribution of data using histograms\n",
    "- Explain the relationship between standard error of mean and sample size\n",
    "\n",
    "## Table of Contents\n",
    "- [1. Population and Samples](#Populations)  \n",
    "- [2. Summarizing data](#Summarizing)\n",
    "    + [2.1. Central Tendency](#Summarizing)\n",
    "    + [2.2. Variability](#variability)\n",
    "- [3. Frequency Distributions](#Distributions)\n",
    "- [4. Sample means and sample size](#SampleMeanSize)\n",
    "- [5. Standard Error of the Mean](#StandardError)"
   ]
  },
  {
   "cell_type": "code",
   "execution_count": 2,
   "metadata": {},
   "outputs": [],
   "source": [
    "%matplotlib inline\n",
    "import numpy as np\n",
    "import pandas as pd\n",
    "import matplotlib.pyplot as plt\n",
    "import scipy.stats as stats"
   ]
  },
  {
   "cell_type": "markdown",
   "metadata": {},
   "source": [
    "<a id= 'Populations'> </a>"
   ]
  },
  {
   "cell_type": "markdown",
   "metadata": {},
   "source": [
    "## 5.1. Populations and Samples\n",
    "\n",
    "A *population* is the full set of the individuals of interest to us in our research study. This does not have to be living people, but it is the whole set: ALL chairs;  ALL readers of Field & Hole's book; ALL players of World of Warcraft; ALL Danish women; ALL students on Medialogy 4th semester...\n",
    "\n",
    "All individuals may be quite a lot and often it is not practical or feasible to try to measure the whole population. A *sample* is intended to be representative for the population and we can use the sample to make inferences about the population studied. \n",
    "For these inferences to be trustworthy, the sample should ideally be drawn so that every individual has an equal chance of being selected in the sample. \n"
   ]
  },
  {
   "cell_type": "markdown",
   "metadata": {},
   "source": [
    "### TRY OUT 1: \n",
    "Draw a sample of size N and plot the heights. Repeat several times with different N."
   ]
  },
  {
   "cell_type": "code",
   "execution_count": 7,
   "metadata": {},
   "outputs": [
    {
     "data": {
      "image/png": "[encoded data removed]",
      "text/plain": [
       "<Figure size 432x288 with 1 Axes>"
      ]
     },
     "metadata": {
      "needs_background": "light"
     },
     "output_type": "display_data"
    }
   ],
   "source": [
    "# TRY OUT : Draw a sample of size N and plot the heights. \n",
    "#Repeat several times with different N.\n",
    "\n",
    "N=2\n",
    "x=np.arange(1,N+1)\n",
    "nscores=np.random.normal(178.4,7.59,N)\n",
    "\n",
    "plt.scatter(x,nscores)\n",
    "plt.xlabel('individual')\n",
    "plt.ylabel('height (cm)')\n",
    "plt.show()"
   ]
  },
  {
   "cell_type": "markdown",
   "metadata": {},
   "source": [
    "In real studies the random sampling is typically much easier said than done. Therefore, HOW you recruit test participants is something that should be carefully considered so that you do not end up with bias and unreliable data."
   ]
  },
  {
   "cell_type": "markdown",
   "metadata": {},
   "source": [
    "<a id= 'Summarizing'> </a>"
   ]
  },
  {
   "cell_type": "markdown",
   "metadata": {},
   "source": [
    "\n",
    "## 5.2 Summarizing data\n",
    "\n",
    "Once we have our sample, we first want to collect, classify, summarize and present the data so we can interpret it. This is what we use descriptive statistics for.\n",
    "\n",
    "### 5.2.1 Central tendency\n",
    "\n",
    "The ways to summarize data differ depending on measurement scales used and how the data collected looks. \n",
    "\n",
    "The *mean value* is a measure of central tendencies that is based on ALL values (or scores) and one can think of it as a kind of \"balancing point\". The arithmetic mean of a sample can be calculated as\n",
    "\n",
    "$$\\bar{X} =\\frac {\\sum_i^N{ X_i}} {N} $$\n",
    "\n",
    "where $X_i$ is each individual score (that is $X_1, X_2, ..., X_N$)\n",
    "\n",
    "\n",
    "The *median*, on the other hand, is less sensitive to extreme values. The median is the point below which half of the (numerically ordered) scores fall and is also called the 50th percentile \n",
    "\n",
    "The *mode* is simply the most commonly occuring score in the data, and therefore a score always present in the data. This is used mostly for categorical (nominal) data."
   ]
  },
  {
   "cell_type": "markdown",
   "metadata": {},
   "source": [
    "### Try out 2: \n",
    "Calculate different measures of central tendency by hand for \n",
    "A=[1, 1, 2, 3, 3, 3, 3, 4]"
   ]
  },
  {
   "cell_type": "code",
   "execution_count": 6,
   "metadata": {},
   "outputs": [],
   "source": [
    "#TRY OUT 2: calculate different measures of central tendency by hand for \n",
    "\n",
    "A=[1, 1, 2, 3, 3, 3, 3, 4]\n",
    "\n",
    "#Then check with the following functions\n",
    "\n",
    "#stats.mode()\n",
    "#np.median()\n",
    "#np.mean()"
   ]
  },
  {
   "cell_type": "markdown",
   "metadata": {},
   "source": [
    "### Try out 3: \n",
    "what will be the answer for this call?"
   ]
  },
  {
   "cell_type": "code",
   "execution_count": 5,
   "metadata": {},
   "outputs": [],
   "source": [
    "# TRY OUT: what will be the answer for this call?\n",
    "\n",
    "#stats.mode([\"red\", \"blue\", \"blue\", \"red\", \"green\", \"red\", \"red\"])\n"
   ]
  },
  {
   "cell_type": "markdown",
   "metadata": {},
   "source": [
    "<a id= 'variability'> </a>"
   ]
  },
  {
   "cell_type": "markdown",
   "metadata": {},
   "source": [
    "\n",
    "### 5.2.2. Variability\n",
    "\n",
    "Only reporting mean values typically do not tell much about the true\n",
    "nature of the data without information also about the *variability* or\n",
    "*spread* in it. The simplest way of reporting the variability is giving\n",
    "the range of the data, that is the smallest and largest value. However,\n",
    "variance and standard deviation is more helpful to get an idea of the\n",
    "variability and where most values are found.\n",
    "\n",
    "\n",
    "VARIANCE is the sum of the squared difference between each individual\n",
    "score and the mean, all divided by the number of scores\n",
    "\n",
    "$$\\sigma^2  =\\frac{\\sum_i^N{ (X_i-\\bar{X}})^2 } {N}$$ \n",
    "\n",
    "where $X_i$ is each\n",
    "individual value and $\\bar{X}$ is the\n",
    "arithmetic mean.\n",
    "\n",
    "\n",
    "STANDARD DEVIATION is simply the square root of the variance\n",
    "$$\\sigma  =\\sqrt {\\sigma^2}$$\n",
    "\n",
    "The standard deviation can be thought of as a measure of distance from\n",
    "the mean. Assuming that data is normally distributed, most of the scores can be found within this distance (68.27% of them to be more precise).\n",
    "\n",
    "What you see above refers to the true variance and the true standard deviation of the population. For SAMPLE variance and standard deviation the denominator is adjusted by reducing N with 1. You can think of it as reducing the risk of under-estimating the variance for small sample sizes."
   ]
  },
  {
   "cell_type": "markdown",
   "metadata": {},
   "source": [
    "### Try out 4: \n",
    "Which of the following function calls are calculating the sample mean?"
   ]
  },
  {
   "cell_type": "code",
   "execution_count": 11,
   "metadata": {},
   "outputs": [
    {
     "data": {
      "text/plain": [
       "1.0"
      ]
     },
     "execution_count": 11,
     "metadata": {},
     "output_type": "execute_result"
    }
   ],
   "source": [
    "#TRY OUT 4: which of the following function calls are calculating the sample mean?  look up ddof in \n",
    "\n",
    "a=np.arange(1,4)\n",
    "#compare the following:\n",
    "np.std(a)\n",
    "np.std(a, ddof=1)\n",
    "\n",
    "#TIP: use help(np.std)"
   ]
  },
  {
   "cell_type": "markdown",
   "metadata": {},
   "source": [
    "<a id= 'Distributions'> </a>"
   ]
  },
  {
   "cell_type": "markdown",
   "metadata": {},
   "source": [
    "## 5.3. Frequency Distributions\n",
    "\n",
    "The central tendency and spread of the data are summarizing some characteristics, but to get a better overview we would like to know about the *distribution* of data points. Histograms will tell us about the shape of the distribution. There are a few shapes that can be expected to occur in different kinds of data: normal distributions (bell shaped and symmetrical), skewed distributions (one tail longer than the other), uniform distributions (flat), and bimodal (two main peaks).\n",
    "\n"
   ]
  },
  {
   "cell_type": "markdown",
   "metadata": {},
   "source": [
    "### Try out 5: \n",
    "Plot the histogram and determine what type of distribution this is "
   ]
  },
  {
   "cell_type": "code",
   "execution_count": 24,
   "metadata": {},
   "outputs": [
    {
     "data": {
      "image/png": "[encoded data removed]",
      "text/plain": [
       "<Figure size 432x288 with 1 Axes>"
      ]
     },
     "metadata": {
      "needs_background": "light"
     },
     "output_type": "display_data"
    }
   ],
   "source": [
    "#TRY OUT 5: Plot the histogram and determine what type of distribution this is \n",
    "\n",
    "scores=np.random.randint(1,6,40)\n",
    "plt.hist(scores)\n",
    "plt.show()\n",
    "\n",
    "#TIP: check help(np.random) and/or increase the number of samples drawn"
   ]
  },
  {
   "cell_type": "markdown",
   "metadata": {},
   "source": [
    "### 5.3.1 Normal distribution\n",
    "\n",
    "\n",
    "The normal, or gaussian, distribution is so commonly occuring that it gave it its name. A lot of different biological processes give rise to normally distributed data. \n",
    "\n",
    "The distribution is described by the function\n",
    "\n",
    "$$ y(x) =\\frac{1}{\\sigma \\sqrt{2 \\pi}} e^-{\\frac{(x-\\mu)^2}{2\\sigma^2}}$$ \n",
    "\n",
    "where $\\sigma$ is the standard devaiation and $\\mu$ is the\n",
    "arithmetic mean. Since normal distributions are perfectly symmetrical, the mean, median and mode are the same. Note that we here use the *Greek* letters to denote the TRUE mean and standard deviations of the population."
   ]
  },
  {
   "cell_type": "code",
   "execution_count": 4,
   "metadata": {},
   "outputs": [
    {
     "data": {
      "image/png": "[encoded data removed]",
      "text/plain": [
       "<Figure size 432x288 with 1 Axes>"
      ]
     },
     "metadata": {
      "needs_background": "light"
     },
     "output_type": "display_data"
    }
   ],
   "source": [
    "#plot a standard normal distribution where sigma=1 and mu=0\n",
    "\n",
    "#generate an x-vector\n",
    "x = np.arange(-4, 4, 0.1)\n",
    "\n",
    "sigma1=1\n",
    "mu1=0\n",
    "\n",
    "#calculate a normal distribution of x with a mean of 0 \n",
    "y1 =1/(sigma1* np.sqrt(2*np.pi))*np.exp(-((x-mu1)**2)/(2 * sigma1**2))\n",
    "\n",
    "plt.plot(x,y1)\n",
    "\n",
    "plt.axvline(mu1, 0, 1) #plots the mean value as vertical line\n",
    "plt.show()"
   ]
  },
  {
   "cell_type": "markdown",
   "metadata": {},
   "source": [
    "### Try out 6: (Typical exam question)\n",
    "Plot the normal distribution with different mean and std. What changes in the plot?"
   ]
  },
  {
   "cell_type": "code",
   "execution_count": 23,
   "metadata": {},
   "outputs": [],
   "source": [
    "#TRY OUT: Copy and modify the code above to plot the normal distribution with different mean and std.\n",
    "# What changes in the plot?\n"
   ]
  },
  {
   "cell_type": "markdown",
   "metadata": {},
   "source": [
    "In a normal distribution, the majority of scores lie around the centre (main peak) of the distribution. The width of the bell says something about the variability of data, how well centered it is around its mean value. In fact, as seen in the equation above, the width is linked to the standard deviation. 68.26 % of all values can be found in the region $\\mu \\pm \\sigma$. If we increase the range to $\\mu \\pm 2\\sigma$ we have almost ALL values, 96.44%.\n",
    "\n",
    "An example of normally distributed data can be seen in heights: \n",
    "https://ourworldindata.org/human-height#height-is-normally-distributed\n"
   ]
  },
  {
   "cell_type": "markdown",
   "metadata": {},
   "source": [
    "We can simulate drawing a sample measuring heights\n",
    "\n",
    "### Try out 7: \n",
    "What is the mean and the standard deviation for this distribution?"
   ]
  },
  {
   "cell_type": "code",
   "execution_count": 43,
   "metadata": {},
   "outputs": [
    {
     "data": {
      "image/png": "[encoded data removed]",
      "text/plain": [
       "<Figure size 432x288 with 1 Axes>"
      ]
     },
     "metadata": {
      "needs_background": "light"
     },
     "output_type": "display_data"
    }
   ],
   "source": [
    "#What is the mean and the standard deviation for this distribution\n",
    "N=100 #variable for sample size\n",
    "sampleheights=np.random.normal(164,7,N)\n",
    "\n",
    "plt.hist(sampleheights)\n",
    "plt.ylabel('occurrences')\n",
    "plt.xlabel('height (cm)')\n",
    "plt.show()"
   ]
  },
  {
   "cell_type": "markdown",
   "metadata": {},
   "source": [
    "### Try out 8: \n",
    "Go to the link on human heights above and change the values so that they correspond to samples of the opposite sex"
   ]
  },
  {
   "cell_type": "code",
   "execution_count": 40,
   "metadata": {},
   "outputs": [],
   "source": [
    "#TRY OUT: Go to the link on human heights above \n",
    "# and change the values so that they correspond to samples of the opposite sex\n",
    "\n"
   ]
  },
  {
   "cell_type": "markdown",
   "metadata": {},
   "source": [
    "<a id= 'SampleMeanSize'> </a>"
   ]
  },
  {
   "cell_type": "markdown",
   "metadata": {},
   "source": [
    "## 5.4. Sample mean and sample size\n",
    "\n",
    "We draw samples because it is impractical (or impossible) to measure all individuals in the whole population. We therefore need also to consider how large a sample is needed for our sample mean $\\bar{X_i}$ to be a good estimate of the true population mean $\\mu$. \n",
    "As our sample size N increases it will start to approach the whole population, so the immediate answer is the larger the better. The reason for this we can see in the variability of sample means.\n"
   ]
  },
  {
   "cell_type": "markdown",
   "metadata": {},
   "source": [
    "### Try out 9: \n",
    "Draw different samples, each with a sample size N. Then extend to add means for all samples and plot the histogram of the resulting scores. \n",
    "\n",
    "Compare to the true mean of the population. \n",
    "\n",
    "Repeat for different Ns."
   ]
  },
  {
   "cell_type": "code",
   "execution_count": 50,
   "metadata": {},
   "outputs": [],
   "source": [
    "# TRY OUT: draw different samples, each with a sample size N. \n",
    "\n",
    "N=5 #variable for sample size\n",
    "sample1=np.random.normal(164,7,N)\n",
    "sample2=np.random.normal(164,7,N)\n",
    "sample3=np.random.normal(164,7,N)\n",
    "sample4=np.random.normal(164,7,N)\n",
    "sample5=np.random.normal(164,7,N)\n",
    "\n",
    "# extend this to add means for all samples\n",
    "allmeans= [np.mean(sample1), np.mean(sample2)]\n",
    "\n",
    "#Plot the histogram of the resulting scores.\n",
    "\n",
    "#compare to the true mean of the population\n",
    "\n",
    "#Repeat for different Ns"
   ]
  },
  {
   "cell_type": "markdown",
   "metadata": {},
   "source": [
    "<a id= 'StandardError'> </a>"
   ]
  },
  {
   "cell_type": "markdown",
   "metadata": {},
   "source": [
    "## 5.5. Standard Error of the Mean\n",
    "\n",
    "The estimate of the true population mean vary with each sample. As we collect more and more samples it becomes clear that also the sample means have a distribution with some variability. If the sample size N is large enough, most sample means will be close to the true population mean. That is the standard deviation of the distribution is small.\n",
    "The standard deviation of the distribution of sample means is called *standard error of the mean* and it gives a number of how precise our estimation of the true mean is. \n"
   ]
  },
  {
   "cell_type": "code",
   "execution_count": 6,
   "metadata": {},
   "outputs": [
    {
     "name": "stdout",
     "output_type": "stream",
     "text": [
      "Standard error= 6.490706514631138\n",
      "Standard error= 4.283950161344802\n",
      "Standard error= 3.684718345701109\n",
      "Standard error= 2.6351524188402937\n",
      "Standard error= 2.0256580482198716\n"
     ]
    },
    {
     "data": {
      "image/png": "[encoded data removed]",
      "text/plain": [
       "<Figure size 432x288 with 1 Axes>"
      ]
     },
     "metadata": {
      "needs_background": "light"
     },
     "output_type": "display_data"
    }
   ],
   "source": [
    "#The effect of sample size on standard error of the mean can be seen \n",
    "# by drawing K samples, each of size N, calculating sample means and plot them. \n",
    "\n",
    "K=1000 #how many samples\n",
    "N=[10, 20, 30, 50, 100] #sample sizes\n",
    "\n",
    "meanarr=np.zeros(K, float)\n",
    "\n",
    "for i in range(0,len(N)):\n",
    "    for j in range(0,K):\n",
    "       score=np.random.normal(200,20,N[i]) #generate vector with scores\n",
    "       meanarr[j]=score.mean()# calculate the means for K=j and sample of size \n",
    "    count, bins, ignored =plt.hist(meanarr, density=True) #plot histogram with K means\n",
    "    print('Standard error=', meanarr.std()) #print the standard error for each N\n",
    "plt.ylabel('occurrences')\n",
    "plt.xlabel('average score')\n",
    "plt.show()"
   ]
  },
  {
   "cell_type": "markdown",
   "metadata": {},
   "source": [
    "### Try out 10: \n",
    "Change the number of samples drawn K and see how the distribution changes"
   ]
  },
  {
   "cell_type": "code",
   "execution_count": 59,
   "metadata": {},
   "outputs": [],
   "source": [
    "# TRY OUT: Change the number of samples drawn K and see how the distribution changes\n",
    "\n"
   ]
  },
  {
   "cell_type": "markdown",
   "metadata": {},
   "source": [
    "### Try out 11: \n",
    "Add additional sample sizes for N and see the effect of the standard error"
   ]
  },
  {
   "cell_type": "code",
   "execution_count": null,
   "metadata": {},
   "outputs": [],
   "source": [
    "# TRY OUT: Add additional sample sizes for N and see the effect of the standard error"
   ]
  }
 ],
 "metadata": {
  "kernelspec": {
   "display_name": "Python 3",
   "language": "python",
   "name": "python3"
  },
  "language_info": {
   "codemirror_mode": {
    "name": "ipython",
    "version": 3
   },
   "file_extension": ".py",
   "mimetype": "text/x-python",
   "name": "python",
   "nbconvert_exporter": "python",
   "pygments_lexer": "ipython3",
   "version": "3.7.3"
  }
 },
 "nbformat": 4,
 "nbformat_minor": 4
}
