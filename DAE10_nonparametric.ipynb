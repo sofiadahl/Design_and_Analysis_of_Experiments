{
 "cells": [
  {
   "cell_type": "markdown",
   "metadata": {
    "id": "utrpGqsAC067"
   },
   "source": [
    "# DAE 10 Non parametric tests\n",
    "\n",
    "Author:\n",
    "- |\n",
    "    Sofia Dahl, sof@create.aau.dk\\\n",
    "    Dept. Architecture, Design and Media Technology, Aalborg University Copenhagen\n",
    "---\n",
    "\n",
    "## Learning goals\n",
    "\n",
    "After working your way through this notebook, you should be able to..\n",
    "- Explain when and why we use non-parametric tests\n",
    "- Set up a contingency table and perform Chi square tests for categorical data\n",
    "- Perform common non parametric tests:\n",
    "    - Mann-Whitney test\n",
    "    - Wilcoxon rank-sum test\n",
    "    - Wilcoxon signed-rank test\n",
    "    - Kruskal–Wallis test\n",
    "    - Friedman’s ANOVA\n",
    "\n",
    "## Table of Contents\n",
    "\n",
    "- [1. Nominal data](#Nominal)\n",
    "    - [1.2. Degrees of freedom for contingency tables](#Contingency)\n",
    "    - [1.3. Chi-square test](#Chisquare)\n",
    "    - [1.4. Degrees of freedom for contingency tables](#dof)\n",
    "- [2. Interval data: Comparing two groups of scores](#Interval)\n",
    "    - [2.1 Independent samples: Mann-Whitney test](#MannWhitney)\n",
    "    - [2.2 Related samples: Wilcoxon signed-rank test](#Wilcoxon)\n",
    "- [3. More than two conditions](#Moresamples)\n",
    "    - [3.1 Independent groups: Kruskal-Wallis Test](#Kruskal)\n",
    "    - [3.2 Repeated measures: Friedman’s Test](#Friedmans)"
   ]
  },
  {
   "cell_type": "markdown",
   "metadata": {
    "id": "XbC4TO9-C06-"
   },
   "source": [
    "<a id= 'Descriptive'> </a>"
   ]
  },
  {
   "cell_type": "code",
   "execution_count": 134,
   "metadata": {
    "executionInfo": {
     "elapsed": 1468,
     "status": "ok",
     "timestamp": 1620906022360,
     "user": {
      "displayName": "Prithvi Kantan",
      "photoUrl": "https://lh3.googleusercontent.com/a-/AOh14GiCLUP5h_S53ydSDrgq_SLOZBd5_3wFs87fFb5XQA=s64",
      "userId": "18111691564717832004"
     },
     "user_tz": -120
    },
    "id": "tRo-x0JcC06_"
   },
   "outputs": [],
   "source": [
    "%matplotlib inline\n",
    "import numpy as np\n",
    "import pandas as pd\n",
    "import matplotlib.pyplot as plt\n",
    "import scipy.stats as stats"
   ]
  },
  {
   "cell_type": "code",
   "execution_count": null,
   "metadata": {},
   "outputs": [],
   "source": [
    "#if you want to import data in colab\n",
    "from google.colab import files \n",
    "\n",
    "uploaded = files.upload()"
   ]
  },
  {
   "cell_type": "markdown",
   "metadata": {
    "id": "r1T_G-ruC06_"
   },
   "source": [
    "<a id= 'Nominal'> </a>"
   ]
  },
  {
   "cell_type": "markdown",
   "metadata": {
    "id": "TpwiqM7EC06_"
   },
   "source": [
    "## 1. Nominal data\n",
    "\n",
    "Returning once more to measurement scales, you might have a selection task where people are asked to make a choice between two or more alternatives. For instance, you may be interested in testing which of two sound designs the participants prefer. In psychology, the \"N-alternative-forced-choice\" paradigm is often used, where \"N\" is typically 2,3, or some other number of choices that the participants have to select from. For instance in a listening test where the research question is whether the original version of a sound can be identified (or is preferred) from a set of modified sounds. \n",
    "\n",
    "This is nominal data with categories, and, as such, cannot be analyzed using parametric methods. But that does not mean there are no alternatives. As a start, we will look at how to summarize the results."
   ]
  },
  {
   "cell_type": "markdown",
   "metadata": {
    "id": "NrPATO8DC07A"
   },
   "source": [
    "<a id= 'Contingency'> </a>"
   ]
  },
  {
   "cell_type": "markdown",
   "metadata": {
    "id": "MCSUNwzsC07A"
   },
   "source": [
    "### 1.2 Contingency Table\n",
    "Assume a perception experiment related to audio compression, where listeners were asked to select the original, uncompressed sound in a 2-alternative forced choice (2AFC). For nominal data, we typically get it in a form similar to:\n",
    "\n",
    "|Sound File |Original|\n",
    "|-----|--------|\n",
    "|1  |Yes       |\n",
    "|2  |No     |\n",
    "|3  |No     |\n",
    "|4  |No     |\n",
    "|5  |No     |\n",
    "|6  |Yes    |\n",
    "|7  |Yes   |\n",
    "|8  |No     |\n",
    "|:  |:     |\n",
    "\n",
    "\n",
    "and so on. \n",
    "\n",
    "For analysis, we instead want a *contingency table* where we summarize the observed frequencies. In the above example, we can imagine that for a total of 144 sound clips, 80 of them were correctly identified as uncompressed. \n",
    "\n",
    "|Correct |Incorrect|Total|\n",
    "|-----|--------|-----|\n",
    "|80   |64      |144  |\n",
    "\n",
    "\n",
    "In other cases, we have more variables resulting in several rows, giving us a R x C table. For instance, we might have two groups of instrumentalists that evaluate and select their preferences from among three interfaces for a digital musical instrument. "
   ]
  },
  {
   "cell_type": "code",
   "execution_count": 2,
   "metadata": {
    "colab": {
     "base_uri": "https://localhost:8080/",
     "height": 166
    },
    "executionInfo": {
     "elapsed": 512,
     "status": "ok",
     "timestamp": 1620908801732,
     "user": {
      "displayName": "Prithvi Kantan",
      "photoUrl": "https://lh3.googleusercontent.com/a-/AOh14GiCLUP5h_S53ydSDrgq_SLOZBd5_3wFs87fFb5XQA=s64",
      "userId": "18111691564717832004"
     },
     "user_tz": -120
    },
    "id": "nuEqLeadC07B",
    "outputId": "85ac793a-536c-4876-a6a3-3f710d533b13"
   },
   "outputs": [
    {
     "data": {
      "text/html": [
       "<div>\n",
       "<style scoped>\n",
       "    .dataframe tbody tr th:only-of-type {\n",
       "        vertical-align: middle;\n",
       "    }\n",
       "\n",
       "    .dataframe tbody tr th {\n",
       "        vertical-align: top;\n",
       "    }\n",
       "\n",
       "    .dataframe thead th {\n",
       "        text-align: right;\n",
       "    }\n",
       "</style>\n",
       "<table border=\"1\" class=\"dataframe\">\n",
       "  <thead>\n",
       "    <tr style=\"text-align: right;\">\n",
       "      <th></th>\n",
       "      <th>Participant</th>\n",
       "      <th>Instrument</th>\n",
       "      <th>Interface</th>\n",
       "    </tr>\n",
       "  </thead>\n",
       "  <tbody>\n",
       "    <tr>\n",
       "      <th>0</th>\n",
       "      <td>1</td>\n",
       "      <td>Drum</td>\n",
       "      <td>A</td>\n",
       "    </tr>\n",
       "    <tr>\n",
       "      <th>1</th>\n",
       "      <td>2</td>\n",
       "      <td>Violin</td>\n",
       "      <td>A</td>\n",
       "    </tr>\n",
       "    <tr>\n",
       "      <th>2</th>\n",
       "      <td>3</td>\n",
       "      <td>Violin</td>\n",
       "      <td>A</td>\n",
       "    </tr>\n",
       "    <tr>\n",
       "      <th>3</th>\n",
       "      <td>4</td>\n",
       "      <td>Drum</td>\n",
       "      <td>A</td>\n",
       "    </tr>\n",
       "  </tbody>\n",
       "</table>\n",
       "</div>"
      ],
      "text/plain": [
       "   Participant Instrument Interface\n",
       "0            1       Drum         A\n",
       "1            2     Violin         A\n",
       "2            3     Violin         A\n",
       "3            4       Drum         A"
      ]
     },
     "execution_count": 2,
     "metadata": {
      "tags": []
     },
     "output_type": "execute_result"
    }
   ],
   "source": [
    "# The data for the different participants and their preferences could look something like this: \n",
    "df = pd.DataFrame({'Participant': [1, 2, 3, 4, 5, 6, 7, 8, 9, 10,\n",
    "                            11, 12, 13, 14, 15, 16, 17, 18, 19, 20],\n",
    "                   'Instrument': ['Drum', 'Violin', 'Violin', 'Drum', 'Drum', 'Violin',\n",
    "                               'Violin', 'Violin', 'Violin', 'Violin', 'Drum', 'Drum', 'Drum',\n",
    "                               'Drum', 'Drum', 'Drum', 'Drum', 'Drum', 'Violin', 'Drum'],\n",
    "                   'Interface': ['A', 'A', 'A', 'A', 'B', 'B', 'B', 'B', 'B', 'B', 'B',\n",
    "                               'B', 'C', 'C', 'C', 'C', 'C', 'C', 'C', 'C']})\n",
    "# Print out the first four participants\n",
    "df.head(4)"
   ]
  },
  {
   "cell_type": "markdown",
   "metadata": {
    "id": "7mDnAWXgC07B"
   },
   "source": [
    "This can now be summarized in a contingency table with Instrument in the rows, and choice of Interface in columns."
   ]
  },
  {
   "cell_type": "code",
   "execution_count": 3,
   "metadata": {
    "colab": {
     "base_uri": "https://localhost:8080/",
     "height": 136
    },
    "executionInfo": {
     "elapsed": 468,
     "status": "ok",
     "timestamp": 1620908878287,
     "user": {
      "displayName": "Prithvi Kantan",
      "photoUrl": "https://lh3.googleusercontent.com/a-/AOh14GiCLUP5h_S53ydSDrgq_SLOZBd5_3wFs87fFb5XQA=s64",
      "userId": "18111691564717832004"
     },
     "user_tz": -120
    },
    "id": "WtiKmjYpC07C",
    "outputId": "680ecd9e-62c7-4e5d-dee4-9219de85aa95"
   },
   "outputs": [
    {
     "data": {
      "text/html": [
       "<div>\n",
       "<style scoped>\n",
       "    .dataframe tbody tr th:only-of-type {\n",
       "        vertical-align: middle;\n",
       "    }\n",
       "\n",
       "    .dataframe tbody tr th {\n",
       "        vertical-align: top;\n",
       "    }\n",
       "\n",
       "    .dataframe thead th {\n",
       "        text-align: right;\n",
       "    }\n",
       "</style>\n",
       "<table border=\"1\" class=\"dataframe\">\n",
       "  <thead>\n",
       "    <tr style=\"text-align: right;\">\n",
       "      <th>Interface</th>\n",
       "      <th>A</th>\n",
       "      <th>B</th>\n",
       "      <th>C</th>\n",
       "    </tr>\n",
       "    <tr>\n",
       "      <th>Instrument</th>\n",
       "      <th></th>\n",
       "      <th></th>\n",
       "      <th></th>\n",
       "    </tr>\n",
       "  </thead>\n",
       "  <tbody>\n",
       "    <tr>\n",
       "      <th>Drum</th>\n",
       "      <td>2</td>\n",
       "      <td>3</td>\n",
       "      <td>7</td>\n",
       "    </tr>\n",
       "    <tr>\n",
       "      <th>Violin</th>\n",
       "      <td>2</td>\n",
       "      <td>5</td>\n",
       "      <td>1</td>\n",
       "    </tr>\n",
       "  </tbody>\n",
       "</table>\n",
       "</div>"
      ],
      "text/plain": [
       "Interface   A  B  C\n",
       "Instrument         \n",
       "Drum        2  3  7\n",
       "Violin      2  5  1"
      ]
     },
     "execution_count": 3,
     "metadata": {
      "tags": []
     },
     "output_type": "execute_result"
    }
   ],
   "source": [
    "# Create contingency table with Instrument as rows, and choice of Interface in columns\n",
    "\n",
    "Interfacetable = pd.crosstab(df.Instrument, [df.Interface], margins = False)\n",
    "# Margins = True adds the row and column sums\n",
    "\n",
    "Interfacetable"
   ]
  },
  {
   "cell_type": "markdown",
   "metadata": {
    "id": "DiPt9j1VC07C"
   },
   "source": [
    "The table should be interpreted as\n",
    "- Among the 12 drummers (first row): 2 chose interface A, 3 interface B, and 7 chose interface C \n",
    "- Among the Violinists (second row): 2 chose interface A, 5 interface B, and 1 chose interface C\n",
    "\n",
    "Alternatively, if we choose to focus on the columns:\n",
    "- Interface A was selected by a total of 4 participants, while interface B and C were both preferred by 8. \n",
    "\n",
    "From the table, it seems like drummers and violinists had different preferences in their choice of interface to control the musical instrument. \n",
    "\n",
    "Q. Are these differences purely random, or are interfaces B and C actually preferred over A?\n",
    "\n",
    "The reason that we summarize nominal data in this way is, of course, because we can also use these tables for something. Specifically, we can apply a chi-square test to answer the above question."
   ]
  },
  {
   "cell_type": "markdown",
   "metadata": {
    "id": "UfsH-GCBC07D"
   },
   "source": [
    "<a id= 'Chisquare'> </a>"
   ]
  },
  {
   "cell_type": "markdown",
   "metadata": {
    "id": "iZl18pW1C07D"
   },
   "source": [
    "### 1.3 Chi-Square Test\n",
    "In the case of nominal data we cannot use parametric tests, but we can still test whether one condition is selected more than the others. In our example, we can do this by comparing the number of times the uncompressed sound was selected compared to the alternatives, with what would have been expected *if the selection had been random*. That is, if participants had just randomly picked one of the sounds without even bothering to listen.\n",
    "\n",
    "The chi-square test can be used for non numerical and non-normally distributed data where there are categories or different options. The chi-square statistic is calculated as the squared difference between *observed* frequency  $f_o$ and *expected* frequency $f_e$ , divided by the latter:\n",
    "$$\\chi
    2= \\sum{{(f_o - f_e)^2}\\over{f_e}}$$\n",
    "\n",
    "In the listening test earlier, we had a contingency table with 144 sound clips, either correctly or incorrectly identified as uncompressed:\n",
    "\n",
    "|Correct |Incorrect|Total|\n",
    "|-----|--------|-----|\n",
    "|80   |64      |144  |\n",
    "\n",
    "\n",
    "The expected frequency $f_e$, if people were randomly selecting one of the two sounds, would have been equally distributed:\n",
    "\n",
    "|Correct |Incorrect|Total|\n",
    "|-----|--------|-----|\n",
    "|72   |72      |144  |"
   ]
  },
  {
   "cell_type": "markdown",
   "metadata": {
    "id": "uA8QXOSHC07D"
   },
   "source": [
    "### Try out 1:\n",
    "Calculate $\\chi^2$ for the example listening test above.\n"
   ]
  },
  {
   "cell_type": "code",
   "execution_count": null,
   "metadata": {
    "id": "kLDh9wMFC07E"
   },
   "outputs": [],
   "source": [
    "# The task is almost as easily done by hand, but here are some starting hints for using Python.\n",
    "\n",
    "# fo_correct=\n",
    "# fo_incorrect=\n",
    "# fe_correct=\n",
    "# fe_incorrect=\n",
    "\n",
    "# Square the difference between observed and expected\n",
    "# (fo_correct - fe_correct) ** 2\n",
    "# (fo_incorrect - fe_incorrect) ** 2\n",
    "\n",
    "#"
   ]
  },
  {
   "cell_type": "markdown",
   "metadata": {
    "id": "KISZptDYC07E"
   },
   "source": [
    "Much like the parametric tests, one determines whether the calculated statistic falls in the *critical region*. That is, if the difference between the expected and observed value is so large that it is unlikely to occur by chance. Just as for parametric tests, the cut-off point for the critical region depends on the significance level (alpha, $\\alpha$) and the *degrees of freedom* (df). "
   ]
  },
  {
   "cell_type": "markdown",
   "metadata": {
    "id": "WNHUYCbtC07E"
   },
   "source": [
    "<a id= 'dof'> </a>"
   ]
  },
  {
   "cell_type": "markdown",
   "metadata": {
    "id": "NCsKY1NAC07E"
   },
   "source": [
    "### 1.3 Degrees of Freedom for Contingency Tables\n",
    "\n",
    "The degrees of freedom for a chi-square test relate to the number of choices or options in the contingency table: \n",
    "\n",
    "$$df=(R-1)(C-1)$$\n",
    "\n",
    "Note that this is different from  many other statistics, for instance sample variance, where $df$ is related to the sample size.\n",
    "\n",
    "For the special case of only one row, the first factor is not considered. For instance, in a test involving participants' selection of singers as being either male or female, there are two possible options to chose from. Just like the listening test example above, and is results in two categories (C) and   $df =$ $C-1=2-1=1$\n",
    "\n"
   ]
  },
  {
   "cell_type": "markdown",
   "metadata": {
    "id": "DGjKJEYQC07F"
   },
   "source": [
    "### Try out 2: \n",
    "Calculate the degrees of freedom for the instrument and interface contingency table (in Section 1.2)."
   ]
  },
  {
   "cell_type": "code",
   "execution_count": 4,
   "metadata": {
    "colab": {
     "base_uri": "https://localhost:8080/"
    },
    "executionInfo": {
     "elapsed": 836,
     "status": "ok",
     "timestamp": 1620911016465,
     "user": {
      "displayName": "Prithvi Kantan",
      "photoUrl": "https://lh3.googleusercontent.com/a-/AOh14GiCLUP5h_S53ydSDrgq_SLOZBd5_3wFs87fFb5XQA=s64",
      "userId": "18111691564717832004"
     },
     "user_tz": -120
    },
    "id": "IN9bIOOTC07F",
    "outputId": "8d86db34-a68e-4ea3-a5d6-0a5f3e81768d"
   },
   "outputs": [
    {
     "data": {
      "text/plain": [
       "(2, 3)"
      ]
     },
     "execution_count": 4,
     "metadata": {
      "tags": []
     },
     "output_type": "execute_result"
    }
   ],
   "source": [
    "# Get the rows and columns from the table\n",
    "# Interfacetable.shape"
   ]
  },
  {
   "cell_type": "markdown",
   "metadata": {
    "id": "YtU8CTeYC07F"
   },
   "source": [
    "So with the $\\chi^2$ and the degrees of freedom, we can look up the probability of achieving this statistic and its relation to the critical value. There are plenty of actual tables to do this, but, like most other statistical packages, Python has functions that does the looking-up-job for us.\n"
   ]
  },
  {
   "cell_type": "code",
   "execution_count": null,
   "metadata": {
    "id": "OVMxVYEpC07F",
    "outputId": "edf7c0de-4773-4a2d-f488-62036b75401c"
   },
   "outputs": [
    {
     "name": "stdout",
     "output_type": "stream",
     "text": [
      "Statistics=4.375, p=0.112\n"
     ]
    }
   ],
   "source": [
    "# The scipy.stats function chi2_contingency give us the chisquare test from the observed contingency table\n",
    "# based on the marginal sums (calculated totals) it calculates the expected frequencies \n",
    "# and returns the chi-square statistic, probability, as well as degrees of freedom\n",
    "stat, p, dof, expected = stats.chi2_contingency(Interfacetable)\n",
    "\n",
    "print('Statistics=%.3f, p=%.3f' % (stat, p))"
   ]
  },
  {
   "cell_type": "markdown",
   "metadata": {
    "id": "ithG8bKMC07G"
   },
   "source": [
    "### Try out 3: \n",
    "Print the degrees of freedom output from the chi2_contingency function and compare to what you calculated in Try out 2."
   ]
  },
  {
   "cell_type": "code",
   "execution_count": null,
   "metadata": {
    "id": "9UU4rBPdC07G"
   },
   "outputs": [],
   "source": [
    "# print('Degrees of freedom=%i '  % (dof))"
   ]
  },
  {
   "cell_type": "markdown",
   "metadata": {
    "id": "I5xQCab0C07G"
   },
   "source": [
    "<a id= 'Interval'> </a>"
   ]
  },
  {
   "cell_type": "markdown",
   "metadata": {
    "id": "GuhGs1zwC07G"
   },
   "source": [
    "## 2. Interval Data: Comparing Two Groups of Scores\n",
    "\n",
    "In many other cases, we have interval or ratio data, but other assumptions for parametric tests are violated. Perhaps the plan was to run a t-test, but the scores are skewed or variances too different between groups. \n",
    "\n",
    "Rather than relying on the mean and variance as we would for parametric data, the approach is then to *rank* it. Instead of using the actual scores in the data, we arrange them such that the lowest score receive the rank of 1, the next highest score 2, etc. The test statistic is then calculated on these ranks. This also means that we do not have to make any assumptions about the data (with respect to the shape of their distribution for example). Unfortunately we also lose information, and hence these tests are not as powerful at detecting effects as parametric tests. \n"
   ]
  },
  {
   "cell_type": "code",
   "execution_count": 7,
   "metadata": {
    "colab": {
     "base_uri": "https://localhost:8080/",
     "height": 265
    },
    "executionInfo": {
     "elapsed": 667,
     "status": "ok",
     "timestamp": 1620911546392,
     "user": {
      "displayName": "Prithvi Kantan",
      "photoUrl": "https://lh3.googleusercontent.com/a-/AOh14GiCLUP5h_S53ydSDrgq_SLOZBd5_3wFs87fFb5XQA=s64",
      "userId": "18111691564717832004"
     },
     "user_tz": -120
    },
    "id": "5uoypQsuC07G",
    "outputId": "91d8660e-03a6-4d50-8149-dbdc10144558"
   },
   "outputs": [
    {
     "data": {
      "image/png": "[encoded data removed]",
      "text/plain": [
       "<Figure size 432x288 with 1 Axes>"
      ]
     },
     "metadata": {
      "needs_background": "light",
      "tags": []
     },
     "output_type": "display_data"
    }
   ],
   "source": [
    "# Generate two sets of univariate observations with 100 observations\n",
    "N = 100\n",
    "data1 = 5 * np.random.randn(N) + 50\n",
    "data2 = 5 * np.random.randn(N) + 53\n",
    "# Summarize\n",
    "plt.boxplot([data1,data2])\n",
    "plt.show()\n"
   ]
  },
  {
   "cell_type": "markdown",
   "metadata": {
    "id": "Dc9dNs_hC07H"
   },
   "source": [
    "<a id= 'MannWhitney'> </a>"
   ]
  },
  {
   "cell_type": "markdown",
   "metadata": {
    "id": "BvQMxdRlC07H"
   },
   "source": [
    "### 2.1 Independent Samples: Mann-Whitney Rank-Sum Test\n",
    "The Mann-Whitney Rank-Sum Test compares two independent groups of scores and is the non-parametric equivalent of the independent t-test. \n",
    "\n",
    "The test compares the ranked positions of scores in the two groups. The function returns the probability that these two samples are from the same distribution (but, again, based on ranks and without assumptions on the shape)."
   ]
  },
  {
   "cell_type": "code",
   "execution_count": 8,
   "metadata": {
    "colab": {
     "base_uri": "https://localhost:8080/"
    },
    "executionInfo": {
     "elapsed": 514,
     "status": "ok",
     "timestamp": 1620911549147,
     "user": {
      "displayName": "Prithvi Kantan",
      "photoUrl": "https://lh3.googleusercontent.com/a-/AOh14GiCLUP5h_S53ydSDrgq_SLOZBd5_3wFs87fFb5XQA=s64",
      "userId": "18111691564717832004"
     },
     "user_tz": -120
    },
    "id": "ct0dyxldC07H",
    "outputId": "4685b6ec-6c4e-44e5-ecfb-d1b85e2130ed"
   },
   "outputs": [
    {
     "name": "stdout",
     "output_type": "stream",
     "text": [
      "U=2974.000, p=0.000\n"
     ]
    }
   ],
   "source": [
    "from scipy.stats import mannwhitneyu\n",
    "\n",
    "# Mann-Whitney rank-sum test on data1 and data2, returning statistic and probability\n",
    "Ustat, p = stats.mannwhitneyu(data1, data2)\n",
    "\n",
    "# Print results\n",
    "print('U=%.3f, p=%.3f' % (Ustat, p))"
   ]
  },
  {
   "cell_type": "markdown",
   "metadata": {
    "id": "APFd-J4pC07H"
   },
   "source": [
    "The effect-size from the Mann-Whitney test can be calculated from the number of observations (N) and the z-score.\n",
    "\n",
    "\n",
    "$$r =\\frac {Z} {\\sqrt{N}}$$\n",
    "\n",
    "..but we do not get the z-score in the output from the stats-function for this test. "
   ]
  },
  {
   "cell_type": "code",
   "execution_count": null,
   "metadata": {
    "id": "CnDbt5QOC07I"
   },
   "outputs": [],
   "source": [
    "# help(stats.mannwhitneyu)"
   ]
  },
  {
   "cell_type": "markdown",
   "metadata": {
    "id": "K3x0wcEfC07I"
   },
   "source": [
    "### Try out 4: \n",
    "Go back up to the generation of data and change N to 30. Redo the Mann-Whitney rank-sum test and compare. "
   ]
  },
  {
   "cell_type": "markdown",
   "metadata": {
    "id": "6ngrO7orC07I"
   },
   "source": [
    "<a id= 'Wilcoxon'> </a>"
   ]
  },
  {
   "cell_type": "markdown",
   "metadata": {
    "id": "LsN28-pWC07I"
   },
   "source": [
    "### 2.2 Related samples: Wilcoxon signed-rank test\n",
    "If we instead want to compares two dependent groups of scores we use the Wilcoxon signed rank test.\n",
    "\n",
    "Again, data is ranked and the test examines the difference between the ranks in the two groups. This can be either negative (the 2nd condition rank is smaller than that in the first), positive (the 2nd condition rank is larger than that in the first), or tied (no difference between the ranks in the two conditions)."
   ]
  },
  {
   "cell_type": "markdown",
   "metadata": {
    "id": "B2ylfBbpC07I"
   },
   "source": [
    "We return to the stroop-test data we discovered to be skewed in the parametric data chapter. \n",
    "The test has related samples because each participant had both congruent and incongruent stimuli to respond to."
   ]
  },
  {
   "cell_type": "code",
   "execution_count": 135,
   "metadata": {
    "colab": {
     "base_uri": "https://localhost:8080/",
     "height": 455
    },
    "executionInfo": {
     "elapsed": 475,
     "status": "error",
     "timestamp": 1620911659992,
     "user": {
      "displayName": "Prithvi Kantan",
      "photoUrl": "https://lh3.googleusercontent.com/a-/AOh14GiCLUP5h_S53ydSDrgq_SLOZBd5_3wFs87fFb5XQA=s64",
      "userId": "18111691564717832004"
     },
     "user_tz": -120
    },
    "id": "bcQylYEXC07I",
    "outputId": "966d9985-2575-4494-8c11-41bfcdc0bf8f"
   },
   "outputs": [
    {
     "data": {
      "image/png": "[encoded data removed]",
      "text/plain": [
       "<Figure size 432x288 with 1 Axes>"
      ]
     },
     "metadata": {
      "needs_background": "light"
     },
     "output_type": "display_data"
    }
   ],
   "source": [
    "#load stroop test data\n",
    "data = pd.read_csv('Stroopdata.txt', delimiter = '\\t', index_col=0,header=0) \n",
    "data.describe()\n",
    "plt.boxplot([data.Congruent,data.Incongruent])\n",
    "plt.show()"
   ]
  },
  {
   "cell_type": "code",
   "execution_count": 136,
   "metadata": {
    "colab": {
     "base_uri": "https://localhost:8080/",
     "height": 220
    },
    "executionInfo": {
     "elapsed": 476,
     "status": "error",
     "timestamp": 1620911655625,
     "user": {
      "displayName": "Prithvi Kantan",
      "photoUrl": "https://lh3.googleusercontent.com/a-/AOh14GiCLUP5h_S53ydSDrgq_SLOZBd5_3wFs87fFb5XQA=s64",
      "userId": "18111691564717832004"
     },
     "user_tz": -120
    },
    "id": "d6WhkxStC07J",
    "outputId": "5e0b09da-d6e5-4347-9626-8a788ee0a36d"
   },
   "outputs": [
    {
     "name": "stdout",
     "output_type": "stream",
     "text": [
      "T=0.000, p=0.000\n"
     ]
    }
   ],
   "source": [
    "# Perform Wilcoxon test (from scipy.stats) on the difference between conditions\n",
    "Tstat_stroop, p_stroop =stats.wilcoxon(data.Congruent,data.Incongruent)\n",
    "# Print results\n",
    "print('T=%.3f, p=%.3f' % (Tstat_stroop, p))"
   ]
  },
  {
   "cell_type": "markdown",
   "metadata": {
    "id": "YMAtkMvbC07J"
   },
   "source": [
    "The resulting p-value shows that it is highly unlikely that the two sets of scores would come from the same distribution. So the test confirms what might be guessed from the plot: it takes considerably longer to read the colour in the incongruent condition. Of course the probability is not perfectly zero, but rounded off. \n",
    "\n",
    "Like for the Mann-Whitney  test, the effect size $r$ could be calculated from the z-score, if you run this test using a program/function that reports it."
   ]
  },
  {
   "cell_type": "markdown",
   "metadata": {
    "id": "LAj7pX1AC07J"
   },
   "source": [
    "<a id= 'Moresamples'> </a>"
   ]
  },
  {
   "cell_type": "markdown",
   "metadata": {
    "id": "9EKkHocXC07K"
   },
   "source": [
    "\n",
    "## 3 More than Two Conditions\n",
    "\n",
    "As in the parametric case, we should avoid multiple comparisons when we have more than two samples or conditions. So just as we use ANOVA to examine main effects for groups when we have more than two conditions, we use the non-parametric equivalents when the parametric assumptions are not fulfilled."
   ]
  },
  {
   "cell_type": "code",
   "execution_count": 11,
   "metadata": {
    "colab": {
     "base_uri": "https://localhost:8080/",
     "height": 265
    },
    "executionInfo": {
     "elapsed": 477,
     "status": "ok",
     "timestamp": 1620911940849,
     "user": {
      "displayName": "Prithvi Kantan",
      "photoUrl": "https://lh3.googleusercontent.com/a-/AOh14GiCLUP5h_S53ydSDrgq_SLOZBd5_3wFs87fFb5XQA=s64",
      "userId": "18111691564717832004"
     },
     "user_tz": -120
    },
    "id": "w1XxSHqvC07K",
    "outputId": "94d5f0b9-ede6-4926-c568-0523b2214d3c"
   },
   "outputs": [
    {
     "data": {
      "image/png": "[encoded data removed]",
      "text/plain": [
       "<Figure size 432x288 with 1 Axes>"
      ]
     },
     "metadata": {
      "needs_background": "light",
      "tags": []
     },
     "output_type": "display_data"
    }
   ],
   "source": [
    "data1 = np.random.randn(100)*5 + 50\n",
    "data2 = np.random.randn(100)*5 + 50\n",
    "data3 = np.random.randn(100)*5 + 54\n",
    "\n",
    "plt.boxplot([data1,data2, data3])\n",
    "plt.show()"
   ]
  },
  {
   "cell_type": "markdown",
   "metadata": {
    "id": "yvm7ZO95C07K"
   },
   "source": [
    "<a id= 'Kruskal'> </a>"
   ]
  },
  {
   "cell_type": "markdown",
   "metadata": {
    "id": "kDXMh3tUC07K"
   },
   "source": [
    "### 3.1  Independent Groups: Kruskal-Wallis Test\n",
    "\n",
    "In case we have more than two independent samples, the Kruskal-Wallis is the non-parametric alternative to one-way independent  ANOVA and tests differences between independent groups of scores.\n",
    "\n",
    "Similar to the two-group examples above, the test is performed on ranked data. The mean rank data can be used to interpret effects (if you can get it).\n"
   ]
  },
  {
   "cell_type": "code",
   "execution_count": 12,
   "metadata": {
    "colab": {
     "base_uri": "https://localhost:8080/"
    },
    "executionInfo": {
     "elapsed": 671,
     "status": "ok",
     "timestamp": 1620912012651,
     "user": {
      "displayName": "Prithvi Kantan",
      "photoUrl": "https://lh3.googleusercontent.com/a-/AOh14GiCLUP5h_S53ydSDrgq_SLOZBd5_3wFs87fFb5XQA=s64",
      "userId": "18111691564717832004"
     },
     "user_tz": -120
    },
    "id": "hLk0E2YXC07K",
    "outputId": "877f4fc8-19d5-4d07-c821-3608e54f8034"
   },
   "outputs": [
    {
     "name": "stdout",
     "output_type": "stream",
     "text": [
      "H=35.648, p=0.000\n"
     ]
    }
   ],
   "source": [
    "# kruskal from scipy.stats \n",
    "\n",
    "Hstat,p=stats.kruskal(data1,data2,data3)\n",
    "print('H=%.3f, p=%.3f' % (Hstat, p))"
   ]
  },
  {
   "cell_type": "markdown",
   "metadata": {
    "id": "TtiqwAdQC07L"
   },
   "source": [
    "Just as for the ANOVA, the main effect does not say which of the groups/conditions is the cause of the effect. For this, one needs follow-up testing. Field & Hole suggest doing this using Mann-Whitney tests but with Bonferroni correction of the significance level, and being selective about the pairwise comparisons needed. \n",
    "\n",
    "As always, it is a good idea to check the details of the function beforehand. Specifically, you will notice a warning about using the test for very small sample sizes (must have at least 5 observations)."
   ]
  },
  {
   "cell_type": "code",
   "execution_count": null,
   "metadata": {
    "id": "oe4_mYTiC07L"
   },
   "outputs": [],
   "source": [
    "#help(kruskal)"
   ]
  },
  {
   "cell_type": "markdown",
   "metadata": {
    "id": "LXuSjl2uC07L"
   },
   "source": [
    "<a id= 'Friedmans'> </a>"
   ]
  },
  {
   "cell_type": "markdown",
   "metadata": {
    "id": "d0aZBZHeC07L"
   },
   "source": [
    "### 3.2 Repeated measures: Friedman Test\n",
    "When we have used the same participants in all conditions, the observations are related. The Friedman test compares more than two paired samples and is the non-parametric correlate of repeated measures ANOVA. \n"
   ]
  },
  {
   "cell_type": "code",
   "execution_count": 13,
   "metadata": {
    "colab": {
     "base_uri": "https://localhost:8080/",
     "height": 265
    },
    "executionInfo": {
     "elapsed": 1301,
     "status": "ok",
     "timestamp": 1620915566308,
     "user": {
      "displayName": "Prithvi Kantan",
      "photoUrl": "https://lh3.googleusercontent.com/a-/AOh14GiCLUP5h_S53ydSDrgq_SLOZBd5_3wFs87fFb5XQA=s64",
      "userId": "18111691564717832004"
     },
     "user_tz": -120
    },
    "id": "NVDCylfbC07L",
    "outputId": "d5d052f3-ce8e-460b-863b-2fbe9e5c6a26"
   },
   "outputs": [
    {
     "data": {
      "image/png": "[encoded data removed]",
      "text/plain": [
       "<Figure size 432x288 with 1 Axes>"
      ]
     },
     "metadata": {
      "needs_background": "light",
      "tags": []
     },
     "output_type": "display_data"
    }
   ],
   "source": [
    "# Generate three independent samples\n",
    "Condition1 = 5 * np.random.randn(100) + 16\n",
    "Condition2 = 5 * np.random.randn(100) + 20\n",
    "Condition3 = 5 * np.random.randn(100) + 15\n",
    "\n",
    "plt.boxplot([Condition1,Condition2, Condition3])\n",
    "plt.show()"
   ]
  },
  {
   "cell_type": "markdown",
   "metadata": {
    "id": "EOfERADOC07M"
   },
   "source": [
    "\n",
    "The test statistics is an acquaintance from earlier up this notebook,  $\\chi^2$ "
   ]
  },
  {
   "cell_type": "code",
   "execution_count": 15,
   "metadata": {
    "colab": {
     "base_uri": "https://localhost:8080/"
    },
    "executionInfo": {
     "elapsed": 708,
     "status": "ok",
     "timestamp": 1620915594009,
     "user": {
      "displayName": "Prithvi Kantan",
      "photoUrl": "https://lh3.googleusercontent.com/a-/AOh14GiCLUP5h_S53ydSDrgq_SLOZBd5_3wFs87fFb5XQA=s64",
      "userId": "18111691564717832004"
     },
     "user_tz": -120
    },
    "id": "UzZwE8ahC07M",
    "outputId": "b4f795e7-a561-4981-8a4c-54a52429e383"
   },
   "outputs": [
    {
     "name": "stdout",
     "output_type": "stream",
     "text": [
      "Chi-square=34.880, p=0.000\n"
     ]
    }
   ],
   "source": [
    "Chistat, p = stats.friedmanchisquare(Condition1, Condition2, Condition3)\n",
    "print('Chi-square=%.3f, p=%.3f' % (Chistat, p))\n"
   ]
  },
  {
   "cell_type": "code",
   "execution_count": null,
   "metadata": {
    "id": "pPP7LplUC07M"
   },
   "outputs": [],
   "source": []
  }
 ],
 "metadata": {
  "colab": {
   "collapsed_sections": [],
   "name": "DAE10_nonparametric.ipynb",
   "provenance": []
  },
  "kernelspec": {
   "display_name": "Python 3",
   "language": "python",
   "name": "python3"
  },
  "language_info": {
   "codemirror_mode": {
    "name": "ipython",
    "version": 3
   },
   "file_extension": ".py",
   "mimetype": "text/x-python",
   "name": "python",
   "nbconvert_exporter": "python",
   "pygments_lexer": "ipython3",
   "version": "3.7.3"
  }
 },
 "nbformat": 4,
 "nbformat_minor": 4
}
